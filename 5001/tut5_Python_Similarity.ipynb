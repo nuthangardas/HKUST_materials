{
 "cells": [
  {
   "cell_type": "markdown",
   "metadata": {},
   "source": [
    "# MSBD 5001 Foundations of Data Analytics\n",
    "### Fall 2019\n",
    "\n",
    "## Tutorial 4: Similarity Measures"
   ]
  },
  {
   "cell_type": "markdown",
   "metadata": {
    "collapsed": true
   },
   "source": [
    "In this tutorial, we will discuss some examples of Python packages for similarity measures.\n",
    "Or we can always implement the similarity measures ourselves."
   ]
  },
  {
   "cell_type": "markdown",
   "metadata": {},
   "source": [
    "### NLTK -- Natural Language Toolkit\n",
    "<strong>NLTK -- Natural Language Toolkit</strong> - edit distance, jaccard distance, etc. ...\n",
    "<url>http://www.nltk.org/index.html</url>\n",
    "\n",
    "To install, in \"Anaconda Prompt\":\n",
    "<pre>pip install nltk</pre>"
   ]
  },
  {
   "cell_type": "code",
   "execution_count": 1,
   "metadata": {},
   "outputs": [
    {
     "data": {
      "text/plain": [
       "1"
      ]
     },
     "execution_count": 1,
     "metadata": {},
     "output_type": "execute_result"
    }
   ],
   "source": [
    "from nltk.metrics import distance\n",
    "distance.edit_distance(\"dave\", \"dav\")"
   ]
  },
  {
   "cell_type": "code",
   "execution_count": 2,
   "metadata": {},
   "outputs": [
    {
     "data": {
      "text/plain": [
       "0.5"
      ]
     },
     "execution_count": 2,
     "metadata": {},
     "output_type": "execute_result"
    }
   ],
   "source": [
    "from nltk.metrics import distance\n",
    "s1 = \"who are you\"\n",
    "s2 = \"how are you\"\n",
    "distance.jaccard_distance(set(s1.split()), set(s2.split()))"
   ]
  },
  {
   "cell_type": "markdown",
   "metadata": {},
   "source": [
    "Word N-grams"
   ]
  },
  {
   "cell_type": "code",
   "execution_count": 3,
   "metadata": {},
   "outputs": [
    {
     "name": "stdout",
     "output_type": "stream",
     "text": [
      "Set1: {('are', 'you'), ('who', 'are')}\n",
      "Set2: {('are', 'you'), ('how', 'are')}\n"
     ]
    },
    {
     "data": {
      "text/plain": [
       "0.6666666666666666"
      ]
     },
     "execution_count": 3,
     "metadata": {},
     "output_type": "execute_result"
    }
   ],
   "source": [
    "from nltk.util import ngrams\n",
    "from nltk.metrics import distance\n",
    "s1 = \"who are you\"\n",
    "s2 = \"how are you\"\n",
    "wbigrams1 = set(ngrams(s1.split(), 2))\n",
    "wbigrams2 = set(ngrams(s2.split(), 2))\n",
    "print(\"Set1:\", wbigrams1)\n",
    "print(\"Set2:\", wbigrams2)\n",
    "distance.jaccard_distance(wbigrams1, wbigrams2)"
   ]
  },
  {
   "cell_type": "markdown",
   "metadata": {},
   "source": [
    "Character N-grams"
   ]
  },
  {
   "cell_type": "code",
   "execution_count": 4,
   "metadata": {},
   "outputs": [
    {
     "name": "stdout",
     "output_type": "stream",
     "text": [
      "Set1: {('e', 'd'), ('p', 'e'), ('d', 'r'), ('r', 'o')}\n",
      "Set2: {('p', 'e'), ('e', 'r'), ('t', 'e'), ('e', 't')}\n"
     ]
    },
    {
     "data": {
      "text/plain": [
       "0.8571428571428571"
      ]
     },
     "execution_count": 4,
     "metadata": {},
     "output_type": "execute_result"
    }
   ],
   "source": [
    "from nltk.util import ngrams\n",
    "from nltk.metrics import distance\n",
    "text1 = 'pedro'\n",
    "text2 = \"peter\"\n",
    "bigrams1 = set(ngrams(text1, 2))\n",
    "bigrams2 = set(ngrams(text2, 2))\n",
    "print(\"Set1:\", bigrams1)\n",
    "print(\"Set2:\", bigrams2)\n",
    "distance.jaccard_distance(bigrams1, bigrams2)"
   ]
  },
  {
   "cell_type": "markdown",
   "metadata": {},
   "source": [
    "### Python-Levenshtein\n",
    "\n",
    "<strong>Python-Levenshtein</strong> – edit distance, jaro, jaro-winkler, etc….\n",
    "<url>https://pypi.python.org/pypi/python-Levenshtein</url>\n",
    "\n",
    "To install, in prompt:\n",
    "<pre>pip install python-levenshtein</pre>\n",
    "or\n",
    "<pre>conda install -c conda-forge python-levenshtein</pre>"
   ]
  },
  {
   "cell_type": "code",
   "execution_count": 5,
   "metadata": {},
   "outputs": [
    {
     "name": "stdout",
     "output_type": "stream",
     "text": [
      "1\n",
      "1\n",
      "0.7777777777777777\n",
      "0.8222222222222222\n"
     ]
    }
   ],
   "source": [
    "from Levenshtein import *\n",
    "\n",
    "edit_dist = distance(\"abc\", \"abd\")\n",
    "print (edit_dist)\n",
    "\n",
    "hamming_dist = hamming(\"abc\", \"abd\")\n",
    "print (hamming_dist)\n",
    "\n",
    "jaro_dist = jaro(\"abc\", \"abd\")\n",
    "print (jaro_dist)\n",
    "\n",
    "jaro_winkler_dist = jaro_winkler(\"abc\", \"abd\")\n",
    "print (jaro_winkler_dist)"
   ]
  },
  {
   "cell_type": "markdown",
   "metadata": {},
   "source": [
    "### FuzzyWuzzy\n",
    "\n",
    "<strong>FuzzyWuzzy</strong> – using levenshtein distance\n",
    "<url>https://pypi.python.org/pypi/fuzzywuzzy</url>\n",
    "\n",
    "To install, in prompt:\n",
    "<pre>   pip install fuzzywuzzy</pre>"
   ]
  },
  {
   "cell_type": "code",
   "execution_count": 6,
   "metadata": {},
   "outputs": [
    {
     "data": {
      "text/plain": [
       "67"
      ]
     },
     "execution_count": 6,
     "metadata": {},
     "output_type": "execute_result"
    }
   ],
   "source": [
    "from fuzzywuzzy import fuzz\n",
    "fuzz.ratio(\"abc\", \"abd\")"
   ]
  },
  {
   "cell_type": "markdown",
   "metadata": {},
   "source": [
    "### Scikit-learn\n",
    "\n",
    "To install, in prompt:\n",
    "<pre>pip install sklearn</pre>\n",
    "\n",
    "The <strong>sklearn.metrics.pairwise</strong> submodule implements utilities to evaluate pairwise distances.\n",
    "<url>https://scikit-learn.org/stable/modules/metrics.html#metrics</url>"
   ]
  },
  {
   "cell_type": "code",
   "execution_count": 7,
   "metadata": {},
   "outputs": [
    {
     "data": {
      "text/plain": [
       "array([0., 1.])"
      ]
     },
     "execution_count": 7,
     "metadata": {},
     "output_type": "execute_result"
    }
   ],
   "source": [
    "from sklearn.metrics import pairwise as p\n",
    "X = [[0, 1], [1, 1]]\n",
    "Y = [[0, 1], [2, 1]]\n",
    "p.paired_distances(X, Y, \"euclidean\")"
   ]
  },
  {
   "cell_type": "code",
   "execution_count": 8,
   "metadata": {},
   "outputs": [
    {
     "data": {
      "text/plain": [
       "array([0.       , 0.0513167])"
      ]
     },
     "execution_count": 8,
     "metadata": {},
     "output_type": "execute_result"
    }
   ],
   "source": [
    "p.paired_distances(X, Y, \"cosine\")"
   ]
  },
  {
   "cell_type": "code",
   "execution_count": 9,
   "metadata": {},
   "outputs": [
    {
     "data": {
      "text/plain": [
       "array([[1.        , 0.4472136 ],\n",
       "       [0.70710678, 0.9486833 ]])"
      ]
     },
     "execution_count": 9,
     "metadata": {},
     "output_type": "execute_result"
    }
   ],
   "source": [
    "p.cosine_similarity(X, Y)"
   ]
  },
  {
   "cell_type": "code",
   "execution_count": 10,
   "metadata": {},
   "outputs": [
    {
     "data": {
      "text/plain": [
       "array([[0.        , 0.5527864 ],\n",
       "       [0.29289322, 0.0513167 ]])"
      ]
     },
     "execution_count": 10,
     "metadata": {},
     "output_type": "execute_result"
    }
   ],
   "source": [
    "p.cosine_distances(X, Y)"
   ]
  },
  {
   "cell_type": "markdown",
   "metadata": {},
   "source": [
    "The <strong>sklearn.neighbours.DistanceMetric</strong> submodule \n",
    "<url>https://scikit-learn.org/stable/modules/generated/sklearn.neighbors.DistanceMetric.html#</url>"
   ]
  },
  {
   "cell_type": "code",
   "execution_count": 11,
   "metadata": {},
   "outputs": [
    {
     "data": {
      "text/plain": [
       "array([[0.        , 0.66666667],\n",
       "       [0.66666667, 0.        ]])"
      ]
     },
     "execution_count": 11,
     "metadata": {},
     "output_type": "execute_result"
    }
   ],
   "source": [
    "from sklearn.neighbors import DistanceMetric\n",
    "d = DistanceMetric.get_metric('jaccard')\n",
    "X = [[1, 0, 0, 0], [1, 1, 0, 1]]\n",
    "d.pairwise(X)"
   ]
  },
  {
   "cell_type": "code",
   "execution_count": null,
   "metadata": {
    "collapsed": true
   },
   "outputs": [],
   "source": []
  }
 ],
 "metadata": {
  "anaconda-cloud": {},
  "kernelspec": {
   "display_name": "Python 3",
   "language": "python",
   "name": "python3"
  },
  "language_info": {
   "codemirror_mode": {
    "name": "ipython",
    "version": 3
   },
   "file_extension": ".py",
   "mimetype": "text/x-python",
   "name": "python",
   "nbconvert_exporter": "python",
   "pygments_lexer": "ipython3",
   "version": "3.7.4"
  }
 },
 "nbformat": 4,
 "nbformat_minor": 1
}

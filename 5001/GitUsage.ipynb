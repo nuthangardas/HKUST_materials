{
 "cells": [
  {
   "cell_type": "code",
   "execution_count": 1,
   "metadata": {
    "scrolled": true
   },
   "outputs": [
    {
     "name": "stdout",
     "output_type": "stream",
     "text": [
      "usage: git [--version] [--help] [-C <path>] [-c <name>=<value>]\r\n",
      "           [--exec-path[=<path>]] [--html-path] [--man-path] [--info-path]\r\n",
      "           [-p | --paginate | -P | --no-pager] [--no-replace-objects] [--bare]\r\n",
      "           [--git-dir=<path>] [--work-tree=<path>] [--namespace=<name>]\r\n",
      "           <command> [<args>]\r\n",
      "\r\n",
      "These are common Git commands used in various situations:\r\n",
      "\r\n",
      "start a working area (see also: git help tutorial)\r\n",
      "   clone      Clone a repository into a new directory\r\n",
      "   init       Create an empty Git repository or reinitialize an existing one\r\n",
      "\r\n",
      "work on the current change (see also: git help everyday)\r\n",
      "   add        Add file contents to the index\r\n",
      "   mv         Move or rename a file, a directory, or a symlink\r\n",
      "   reset      Reset current HEAD to the specified state\r\n",
      "   rm         Remove files from the working tree and from the index\r\n",
      "\r\n",
      "examine the history and state (see also: git help revisions)\r\n",
      "   bisect     Use binary search to find the commit that introduced a bug\r\n",
      "   grep       Print lines matching a pattern\r\n",
      "   log        Show commit logs\r\n",
      "   show       Show various types of objects\r\n",
      "   status     Show the working tree status\r\n",
      "\r\n",
      "grow, mark and tweak your common history\r\n",
      "   branch     List, create, or delete branches\r\n",
      "   checkout    Switch branches or restore working tree files\r\n",
      "   commit     Record changes to the repository\r\n",
      "   diff       Show changes between commits, commit and working tree, etc\r\n",
      "   merge      Join two or more development histories together\r\n",
      "   rebase     Reapply commits on top of another base tip\r\n",
      "   tag        Create, list, delete or verify a tag object signed with GPG\r\n",
      "\r\n",
      "collaborate (see also: git help workflows)\r\n",
      "   fetch      Download objects and refs from another repository\r\n",
      "   pull       Fetch from and integrate with another repository or a local branch\r\n",
      "   push       Update remote refs along with associated objects\r\n",
      "\r\n",
      "'git help -a' and 'git help -g' list available subcommands and some\r\n",
      "concept guides. See 'git help <command>' or 'git help <concept>'\r\n",
      "to read about a specific subcommand or concept.\r\n"
     ]
    }
   ],
   "source": [
    "!git"
   ]
  },
  {
   "cell_type": "markdown",
   "metadata": {},
   "source": [
    "## Concepts\n",
    "\n",
    "Git is a distributed version control system, which means, different users can maintain the same project with different versions, which are called branches.\n",
    "\n",
    "Commit:  create a new version(snapshot) of your code.\n",
    "\n",
    "A branch in Git is simply a lightweight movable pointer to one of these commits. The default branch name in Git is master. As you start making commits, you’re given a master branch that points to the last commit you made. Every time you commit, the master branch pointer moves forward automatically. \n",
    "\n",
    "HEAD is the pointer to the current branch reference, which is in turn a pointer to the last commit made on that branch. That means HEAD will be the parent of the next commit that is created. It’s generally simplest to think of HEAD as the snapshot of your last commit on that branch.\n",
    "<img src=\"https://git-scm.com/book/en/v2/images/advance-master.png\" width=\"500\" height=\"400\" />\n",
    "For more about branching, get it at https://git-scm.com/book/en/v2/Git-Branching-Branches-in-a-Nutshell.\n",
    "\n",
    "To make a commit from your files in workinig directory, three trees structure is involved.\n",
    "\n",
    "<img src=\"https://git-scm.com/book/en/v2/images/reset-workflow.png\" width=\"400\" height=\"400\" />\n",
    "\n",
    "HEAD is the snapshot of your last commit on the current branch.\n",
    "\n",
    "INDEX(STAGE) is where you prepare your snapshots for the next commit.\n",
    "\n",
    "Working directory (also commonly referred to as the “working tree”) is where your edit your files. \n",
    "\n",
    "Think of the working directory as a sandbox, where you can try changes out before committing them to your INDEX and then to HEAD.\n",
    "\n",
    "Basic git workflow is as usual:\n",
    "* Modify files in your working directory.\n",
    "* Stage files, adding snapshots of files to your staging(index) area  for temporary saving.\n",
    "* Commit, which takes the files in the staging area and stores that snapshot permanently to your Git directory. \n",
    "\n",
    "For more about the three-tree structure, get it at https://git-scm.com/book/en/v2/Git-Tools-Reset-Demystified."
   ]
  },
  {
   "cell_type": "markdown",
   "metadata": {},
   "source": [
    "## Basic Commands\n",
    "\n",
    "We will:\n",
    "1. Initialize a directory to a git repository.\n",
    "2. Make some changes and commit.\n",
    "3. Push to your remote repository (Github)."
   ]
  },
  {
   "cell_type": "code",
   "execution_count": 2,
   "metadata": {
    "scrolled": true
   },
   "outputs": [
    {
     "name": "stdout",
     "output_type": "stream",
     "text": [
      "Initialized empty Git repository in /Users/gardasnagarjun/Downloads/Lecture-Materials-master/.git/\r\n"
     ]
    }
   ],
   "source": [
    "# You have some local files, want to initialize a directory to a git repository so you can use git to manage it.\n",
    "!git init\n",
    "# You want to get some codes made by others, create a local repository copied from remote repository (Generally Github).\n",
    "#!git clone https://github.com/MSBD-5001/Lecture-Materials\n",
    "# If using git clone, a directory named Lecture-Materials is created under the current path. You have to move this notebook inside it to make it work properly."
   ]
  },
  {
   "cell_type": "markdown",
   "metadata": {},
   "source": [
    "git status get the current state of the snapshots in three trees structure."
   ]
  },
  {
   "cell_type": "code",
   "execution_count": 5,
   "metadata": {
    "scrolled": true
   },
   "outputs": [
    {
     "name": "stdout",
     "output_type": "stream",
     "text": [
      "On branch master\r\n",
      "\r\n",
      "No commits yet\r\n",
      "\r\n",
      "Changes to be committed:\r\n",
      "  (use \"git rm --cached <file>...\" to unstage)\r\n",
      "\r\n",
      "\t\u001b[32mnew file:   Tutorial4.ipynb\u001b[m\r\n",
      "\r\n",
      "Untracked files:\r\n",
      "  (use \"git add <file>...\" to include in what will be committed)\r\n",
      "\r\n",
      "\t\u001b[31m.ipynb_checkpoints/\u001b[m\r\n",
      "\t\u001b[31mGitUsage.ipynb\u001b[m\r\n",
      "\t\u001b[31mNumpyUsage.ipynb\u001b[m\r\n",
      "\t\u001b[31mPandasUsage.ipynb\u001b[m\r\n",
      "\t\u001b[31mTutorial1.ipynb\u001b[m\r\n",
      "\t\u001b[31mTutorial2.ipynb\u001b[m\r\n",
      "\t\u001b[31mTutorial3.ipynb\u001b[m\r\n",
      "\t\u001b[31mclassification_example.ipynb\u001b[m\r\n",
      "\t\u001b[31ml3_simulation_lecture.ipynb\u001b[m\r\n",
      "\t\u001b[31mpreprocessed_data.csv\u001b[m\r\n",
      "\t\u001b[31mtitanic/\u001b[m\r\n",
      "\r\n"
     ]
    }
   ],
   "source": [
    "!git status "
   ]
  },
  {
   "cell_type": "markdown",
   "metadata": {},
   "source": [
    "git add add files to index/stage area."
   ]
  },
  {
   "cell_type": "code",
   "execution_count": 4,
   "metadata": {},
   "outputs": [],
   "source": [
    "!git add Tutorial4.ipynb"
   ]
  },
  {
   "cell_type": "markdown",
   "metadata": {},
   "source": [
    "To undo changes on a file before you have committed it:"
   ]
  },
  {
   "cell_type": "markdown",
   "metadata": {},
   "source": [
    "* git reset HEAD -- filename (unstages the file)\n",
    "* git checkout -- filename (undoes your changes)"
   ]
  },
  {
   "cell_type": "code",
   "execution_count": 6,
   "metadata": {},
   "outputs": [
    {
     "name": "stdout",
     "output_type": "stream",
     "text": [
      "On branch master\r\n",
      "\r\n",
      "No commits yet\r\n",
      "\r\n",
      "Changes to be committed:\r\n",
      "  (use \"git rm --cached <file>...\" to unstage)\r\n",
      "\r\n",
      "\t\u001b[32mnew file:   Tutorial4.ipynb\u001b[m\r\n",
      "\r\n",
      "Untracked files:\r\n",
      "  (use \"git add <file>...\" to include in what will be committed)\r\n",
      "\r\n",
      "\t\u001b[31m.ipynb_checkpoints/\u001b[m\r\n",
      "\t\u001b[31mGitUsage.ipynb\u001b[m\r\n",
      "\t\u001b[31mNumpyUsage.ipynb\u001b[m\r\n",
      "\t\u001b[31mPandasUsage.ipynb\u001b[m\r\n",
      "\t\u001b[31mTutorial1.ipynb\u001b[m\r\n",
      "\t\u001b[31mTutorial2.ipynb\u001b[m\r\n",
      "\t\u001b[31mTutorial3.ipynb\u001b[m\r\n",
      "\t\u001b[31mclassification_example.ipynb\u001b[m\r\n",
      "\t\u001b[31ml3_simulation_lecture.ipynb\u001b[m\r\n",
      "\t\u001b[31mpreprocessed_data.csv\u001b[m\r\n",
      "\t\u001b[31mtitanic/\u001b[m\r\n",
      "\r\n"
     ]
    }
   ],
   "source": [
    "!git status"
   ]
  },
  {
   "cell_type": "code",
   "execution_count": 7,
   "metadata": {},
   "outputs": [
    {
     "name": "stdout",
     "output_type": "stream",
     "text": [
      "[master (root-commit) f186b25] a test version\r\n",
      " Committer: GARDAS NAGARJUN <gardasnagarjun@GARDASs-MacBook-Pro-2.local>\r\n",
      "Your name and email address were configured automatically based\r\n",
      "on your username and hostname. Please check that they are accurate.\r\n",
      "You can suppress this message by setting them explicitly. Run the\r\n",
      "following command and follow the instructions in your editor to edit\r\n",
      "your configuration file:\r\n",
      "\r\n",
      "    git config --global --edit\r\n",
      "\r\n",
      "After doing this, you may fix the identity used for this commit with:\r\n",
      "\r\n",
      "    git commit --amend --reset-author\r\n",
      "\r\n",
      " 1 file changed, 245 insertions(+)\r\n",
      " create mode 100755 Tutorial4.ipynb\r\n"
     ]
    }
   ],
   "source": [
    "!git commit -m \"a test version\""
   ]
  },
  {
   "cell_type": "markdown",
   "metadata": {},
   "source": [
    "To fetch the most recent updates from the remote repo into your local repo, and put them into your working directory:"
   ]
  },
  {
   "cell_type": "code",
   "execution_count": null,
   "metadata": {},
   "outputs": [],
   "source": [
    "!git remote add origin_test https://github.com/MSBD-5001/Lecture-Materials.git"
   ]
  },
  {
   "cell_type": "code",
   "execution_count": null,
   "metadata": {},
   "outputs": [],
   "source": [
    "!git pull origin_test master"
   ]
  },
  {
   "cell_type": "markdown",
   "metadata": {},
   "source": [
    "To put your changes from your local repo in the remote repo:\n",
    "\n",
    "git push origin master (cannot do it directly in Jupyter Notebook)"
   ]
  }
 ],
 "metadata": {
  "kernelspec": {
   "display_name": "python3",
   "language": "python",
   "name": "python3"
  },
  "language_info": {
   "codemirror_mode": {
    "name": "ipython",
    "version": 2
   },
   "file_extension": ".py",
   "mimetype": "text/x-python",
   "name": "python",
   "nbconvert_exporter": "python",
   "pygments_lexer": "ipython2",
   "version": "2.7.16"
  }
 },
 "nbformat": 4,
 "nbformat_minor": 2
}

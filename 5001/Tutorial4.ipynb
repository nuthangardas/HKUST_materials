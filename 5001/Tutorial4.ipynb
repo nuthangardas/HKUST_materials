{
 "cells": [
  {
   "cell_type": "code",
   "execution_count": 4,
   "metadata": {},
   "outputs": [],
   "source": [
    "import numpy as np\n",
    "import matplotlib.pyplot as plt\n",
    "import sklearn.linear_model as skl\n",
    "import pandas as pd\n",
    "%matplotlib inline"
   ]
  },
  {
   "cell_type": "code",
   "execution_count": 5,
   "metadata": {},
   "outputs": [],
   "source": [
    "from sklearn.model_selection import cross_val_score\n",
    "from sklearn.model_selection import train_test_split\n",
    "from sklearn.utils import shuffle\n",
    "from sklearn.model_selection import GridSearchCV\n",
    "from sklearn.metrics import classification_report"
   ]
  },
  {
   "cell_type": "code",
   "execution_count": 6,
   "metadata": {},
   "outputs": [],
   "source": [
    "# loading training/testing data\n",
    "all_data = pd.read_csv(\"preprocessed_data.csv\")\n",
    "all_data = shuffle(all_data)\n",
    "X = all_data.drop([\"Survived\"], axis=1)\n",
    "y = all_data[\"Survived\"]"
   ]
  },
  {
   "cell_type": "code",
   "execution_count": 7,
   "metadata": {},
   "outputs": [
    {
     "name": "stdout",
     "output_type": "stream",
     "text": [
      "712\n",
      "179\n"
     ]
    }
   ],
   "source": [
    "X_train, X_test, y_train, y_test = train_test_split(\n",
    "    X, y, test_size=0.2, random_state=0)\n",
    "print(len(X_train))\n",
    "print(len(X_test))"
   ]
  },
  {
   "cell_type": "code",
   "execution_count": 8,
   "metadata": {},
   "outputs": [
    {
     "name": "stdout",
     "output_type": "stream",
     "text": [
      "('training accuracy:', 0)\n",
      "('testing accuracy:', 0)\n"
     ]
    },
    {
     "name": "stderr",
     "output_type": "stream",
     "text": [
      "/Users/gardasnagarjun/anaconda2/lib/python2.7/site-packages/sklearn/linear_model/logistic.py:433: FutureWarning: Default solver will be changed to 'lbfgs' in 0.22. Specify a solver to silence this warning.\n",
      "  FutureWarning)\n"
     ]
    }
   ],
   "source": [
    "model = skl.LogisticRegression()\n",
    "model.fit(X_train, y_train)\n",
    "predict_y = model.predict(X_train)\n",
    "print(\"training accuracy:\", (predict_y == y_train).sum()/ len(predict_y))\n",
    "\n",
    "\n",
    "predict_y = model.predict(X_test)\n",
    "print(\"testing accuracy:\", (predict_y == y_test).sum()/ len(predict_y))"
   ]
  },
  {
   "cell_type": "code",
   "execution_count": 9,
   "metadata": {},
   "outputs": [
    {
     "data": {
      "text/plain": [
       "array([0.79329609, 0.82681564, 0.79213483, 0.80898876, 0.80225989])"
      ]
     },
     "execution_count": 9,
     "metadata": {},
     "output_type": "execute_result"
    }
   ],
   "source": [
    "cross_val_score(model, X, y, cv=5, scoring=\"accuracy\")"
   ]
  },
  {
   "cell_type": "code",
   "execution_count": 10,
   "metadata": {},
   "outputs": [
    {
     "data": {
      "text/plain": [
       "{'C': 1.0,\n",
       " 'class_weight': None,\n",
       " 'dual': False,\n",
       " 'fit_intercept': True,\n",
       " 'intercept_scaling': 1,\n",
       " 'max_iter': 100,\n",
       " 'multi_class': 'warn',\n",
       " 'n_jobs': None,\n",
       " 'penalty': 'l2',\n",
       " 'random_state': None,\n",
       " 'solver': 'warn',\n",
       " 'tol': 0.0001,\n",
       " 'verbose': 0,\n",
       " 'warm_start': False}"
      ]
     },
     "execution_count": 10,
     "metadata": {},
     "output_type": "execute_result"
    }
   ],
   "source": [
    "model.get_params()"
   ]
  },
  {
   "cell_type": "code",
   "execution_count": 11,
   "metadata": {},
   "outputs": [
    {
     "name": "stdout",
     "output_type": "stream",
     "text": [
      "{'penalty': 'l1', 'C': 0.1, 'solver': 'liblinear'}\n",
      "0.7841868863762523\n",
      "[0.7727586  0.76971683 0.76807541 0.76807541 0.77259588 0.78418689\n",
      " 0.76807541 0.77082122 0.76807541 0.76807541 0.76807541 0.76807541]\n",
      "[0.01853309 0.02195594 0.01965081 0.01965081 0.01909587 0.0241539\n",
      " 0.01965081 0.01944263 0.01965081 0.01965081 0.01965081 0.01965081]\n",
      "[{'penalty': 'l2', 'C': 0.1, 'solver': 'lbfgs'}, {'penalty': 'l2', 'C': 1, 'solver': 'lbfgs'}, {'penalty': 'l2', 'C': 10, 'solver': 'lbfgs'}, {'penalty': 'l2', 'C': 100, 'solver': 'lbfgs'}, {'penalty': 'l2', 'C': 0.1, 'solver': 'liblinear'}, {'penalty': 'l1', 'C': 0.1, 'solver': 'liblinear'}, {'penalty': 'l2', 'C': 1, 'solver': 'liblinear'}, {'penalty': 'l1', 'C': 1, 'solver': 'liblinear'}, {'penalty': 'l2', 'C': 10, 'solver': 'liblinear'}, {'penalty': 'l1', 'C': 10, 'solver': 'liblinear'}, {'penalty': 'l2', 'C': 100, 'solver': 'liblinear'}, {'penalty': 'l1', 'C': 100, 'solver': 'liblinear'}]\n"
     ]
    }
   ],
   "source": [
    "# Set the parameters by cross-validation\n",
    "tuned_parameters = [{'solver': ['lbfgs'], 'penalty': ['l2'], 'C': [0.1,1, 10, 100]},\n",
    "                   {'solver':['liblinear'], 'penalty': ['l2','l1'], 'C': [0.1,1, 10, 100]}]\n",
    "\n",
    "\n",
    "clf = GridSearchCV(skl.LogisticRegression(), tuned_parameters, cv=5,\n",
    "                   scoring='precision_macro')\n",
    "clf.fit(X_train, y_train)\n",
    "\n",
    "print(clf.best_params_)\n",
    "print(clf.best_score_ )\n",
    "print(clf.cv_results_['mean_test_score'])\n",
    "print(clf.cv_results_['std_test_score'])\n",
    "print(clf.cv_results_[\"params\"])"
   ]
  },
  {
   "cell_type": "code",
   "execution_count": 12,
   "metadata": {},
   "outputs": [
    {
     "name": "stdout",
     "output_type": "stream",
     "text": [
      "Detailed classification report:\n",
      "              precision    recall  f1-score   support\n",
      "\n",
      "           0       0.84      0.83      0.84       111\n",
      "           1       0.73      0.75      0.74        68\n",
      "\n",
      "   micro avg       0.80      0.80      0.80       179\n",
      "   macro avg       0.79      0.79      0.79       179\n",
      "weighted avg       0.80      0.80      0.80       179\n",
      "\n",
      "()\n"
     ]
    }
   ],
   "source": [
    "print(\"Detailed classification report:\")\n",
    "\n",
    "y_true, y_pred = y_test, clf.predict(X_test)\n",
    "print(classification_report(y_true, y_pred))\n",
    "print()"
   ]
  },
  {
   "cell_type": "code",
   "execution_count": null,
   "metadata": {},
   "outputs": [],
   "source": []
  }
 ],
 "metadata": {
  "kernelspec": {
   "display_name": "python3",
   "language": "python",
   "name": "python3"
  },
  "language_info": {
   "codemirror_mode": {
    "name": "ipython",
    "version": 2
   },
   "file_extension": ".py",
   "mimetype": "text/x-python",
   "name": "python",
   "nbconvert_exporter": "python",
   "pygments_lexer": "ipython2",
   "version": "2.7.16"
  }
 },
 "nbformat": 4,
 "nbformat_minor": 2
}

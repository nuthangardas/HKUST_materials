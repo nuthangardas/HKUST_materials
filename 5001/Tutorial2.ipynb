{
 "cells": [
  {
   "cell_type": "code",
   "execution_count": 1,
   "metadata": {},
   "outputs": [],
   "source": [
    "import numpy as np\n",
    "# For large library, functions are collected in different submodules.\n",
    "# For this import you need to import the submodule.\n",
    "import matplotlib.pyplot as plt\n",
    "import sklearn.linear_model as skl\n",
    "#add this command to snable matplotlib plot in notebook\n",
    "%matplotlib inline"
   ]
  },
  {
   "cell_type": "code",
   "execution_count": 2,
   "metadata": {},
   "outputs": [],
   "source": [
    "x = np.linspace(-5,5,30)\n",
    "y = x**3 + x**2 -x +10"
   ]
  },
  {
   "cell_type": "markdown",
   "metadata": {},
   "source": [
    "plt.scatter? give you its documentation. Also try shift+tab."
   ]
  },
  {
   "cell_type": "code",
   "execution_count": 3,
   "metadata": {},
   "outputs": [
    {
     "data": {
      "image/png": "[encoded data removed]",
      "text/plain": [
       "<Figure size 432x288 with 1 Axes>"
      ]
     },
     "metadata": {},
     "output_type": "display_data"
    }
   ],
   "source": [
    "plt.scatter(x, y)\n",
    "#plt.plot(x, y)\n",
    "plt.show()"
   ]
  },
  {
   "cell_type": "markdown",
   "metadata": {},
   "source": [
    "Scikit-learn expect data to be formatted as a 2D array with shape (n_samples, n_features), so we need to expand the dimensions of our x/y."
   ]
  },
  {
   "cell_type": "code",
   "execution_count": 4,
   "metadata": {},
   "outputs": [
    {
     "name": "stdout",
     "output_type": "stream",
     "text": [
      "(30,)\n",
      "(30,)\n"
     ]
    }
   ],
   "source": [
    "print(x.shape)\n",
    "print(y.shape)"
   ]
  },
  {
   "cell_type": "code",
   "execution_count": 5,
   "metadata": {},
   "outputs": [],
   "source": [
    "x = np.expand_dims(x, axis=1)\n",
    "y = np.expand_dims(y, axis=1)"
   ]
  },
  {
   "cell_type": "code",
   "execution_count": 6,
   "metadata": {},
   "outputs": [
    {
     "name": "stdout",
     "output_type": "stream",
     "text": [
      "(30, 1)\n",
      "(30, 1)\n"
     ]
    }
   ],
   "source": [
    "print(x.shape)\n",
    "print(y.shape)"
   ]
  },
  {
   "cell_type": "markdown",
   "metadata": {},
   "source": [
    "In this demo we can use several linear models on simulated data.\n",
    "See Sklearn documentation for details."
   ]
  },
  {
   "cell_type": "code",
   "execution_count": 7,
   "metadata": {
    "scrolled": true
   },
   "outputs": [
    {
     "name": "stdout",
     "output_type": "stream",
     "text": [
      "[[-56.14546175]\n",
      " [-50.96935777]\n",
      " [-45.79325379]\n",
      " [-40.61714981]\n",
      " [-35.44104583]\n",
      " [-30.26494185]\n",
      " [-25.08883786]\n",
      " [-19.91273388]\n",
      " [-14.7366299 ]\n",
      " [ -9.56052592]\n",
      " [ -4.38442194]\n",
      " [  0.79168204]\n",
      " [  5.96778602]\n",
      " [ 11.14389001]\n",
      " [ 16.31999399]\n",
      " [ 21.49609797]\n",
      " [ 26.67220195]\n",
      " [ 31.84830593]\n",
      " [ 37.02440991]\n",
      " [ 42.20051389]\n",
      " [ 47.37661787]\n",
      " [ 52.55272186]\n",
      " [ 57.72882584]\n",
      " [ 62.90492982]\n",
      " [ 68.0810338 ]\n",
      " [ 73.25713778]\n",
      " [ 78.43324176]\n",
      " [ 83.60934574]\n",
      " [ 88.78544972]\n",
      " [ 93.96155371]]\n"
     ]
    }
   ],
   "source": [
    "# Basic procedure of using a classifier\n",
    "# Fit: training on the data (features + labels).\n",
    "# Predict: predicting on the features\n",
    "model = skl.LinearRegression()\n",
    "# import sklearn.neighbors\n",
    "# model = sklearn.neighbors.KNeighborsRegressor()\n",
    "model.fit(x, y)\n",
    "predict_y = model.predict(x)\n",
    "print(predict_y)"
   ]
  },
  {
   "cell_type": "code",
   "execution_count": 8,
   "metadata": {},
   "outputs": [
    {
     "data": {
      "image/png": "[encoded data removed]",
      "text/plain": [
       "<Figure size 432x288 with 1 Axes>"
      ]
     },
     "metadata": {},
     "output_type": "display_data"
    }
   ],
   "source": [
    "plt.scatter(x,y)\n",
    "plt.plot(x,predict_y)\n",
    "plt.show()"
   ]
  }
 ],
 "metadata": {
  "kernelspec": {
   "display_name": "Python 3",
   "language": "python",
   "name": "python3"
  },
  "language_info": {
   "codemirror_mode": {
    "name": "ipython",
    "version": 3
   },
   "file_extension": ".py",
   "mimetype": "text/x-python",
   "name": "python",
   "nbconvert_exporter": "python",
   "pygments_lexer": "ipython3",
   "version": "3.6.8"
  }
 },
 "nbformat": 4,
 "nbformat_minor": 2
}

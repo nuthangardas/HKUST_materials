{
 "cells": [
  {
   "cell_type": "code",
   "execution_count": 1,
   "metadata": {},
   "outputs": [],
   "source": [
    "#import necessary packages\n",
    "\n",
    "import numpy as np\n",
    "import torch\n",
    "import torch.nn as nn\n",
    "import torch.nn.functional as F\n",
    "from sklearn.model_selection import train_test_split\n",
    "import torch.optim as optim\n",
    "import matplotlib.pyplot as plt\n",
    "import time"
   ]
  },
  {
   "cell_type": "markdown",
   "metadata": {},
   "source": [
    "## Input Data:\n",
    "Training and testing data are defined and training data is split into train and validation dataset"
   ]
  },
  {
   "cell_type": "code",
   "execution_count": 2,
   "metadata": {},
   "outputs": [
    {
     "data": {
      "text/plain": [
       "array([[ 0.,  0.,  0., ..., 10.,  0.,  0.],\n",
       "       [ 0.,  0.,  3., ..., 16.,  9.,  0.],\n",
       "       [ 0.,  0.,  3., ...,  1.,  0.,  0.],\n",
       "       ...,\n",
       "       [ 0.,  0.,  5., ..., 15.,  2.,  0.],\n",
       "       [ 0.,  0.,  2., ..., 16., 10.,  0.],\n",
       "       [ 0.,  0.,  0., ...,  0.,  0.,  0.]], dtype=float32)"
      ]
     },
     "execution_count": 2,
     "metadata": {},
     "output_type": "execute_result"
    }
   ],
   "source": [
    "#Input data\n",
    "data=np.load(\"/Users/gardasnagarjun/Downloads/datasets/bi-class/digit.npz\", mmap_mode='r')\n",
    "X_train=data['train_X'].astype('float32')\n",
    "train_Y=data['train_Y'].astype('long')\n",
    "X_test,test_Y=data['test_X'].astype('float32'),data['test_Y'].astype('long')\n",
    "X_train"
   ]
  },
  {
   "cell_type": "code",
   "execution_count": 3,
   "metadata": {},
   "outputs": [
    {
     "data": {
      "text/plain": [
       "array([0, 0, 1, 0, 0, 0, 1, 1, 0, 0, 0, 0, 1, 0, 1, 1, 1, 1, 1, 0, 1, 1,\n",
       "       1, 0, 0, 0, 1, 1, 0, 0, 1, 1, 0, 0, 0, 1, 1, 1, 1, 1, 1, 1, 1, 1,\n",
       "       0, 0, 1, 1, 1, 0, 0, 0, 1, 0, 0, 1, 0, 0, 0, 1, 0, 0, 0, 1, 0, 0,\n",
       "       0, 0, 0, 0, 0, 0, 1, 0, 0, 1, 1, 0, 1, 0, 0, 1, 0, 0, 0, 1, 1, 1,\n",
       "       0, 1, 0, 1, 1, 1, 0, 1, 0, 1, 0, 1, 0, 0, 1, 1, 1, 1, 1, 1, 1, 1,\n",
       "       0, 0, 0, 1, 1, 0, 0, 1, 0, 1, 1, 1, 0, 1, 0, 0, 0, 1, 1, 0, 1, 1,\n",
       "       1, 1, 0, 1, 0, 0, 0, 1, 0, 1, 0, 1, 1, 1, 0, 1, 1, 1, 1, 1, 0, 0,\n",
       "       1, 0, 0, 0, 0, 1, 1, 1, 1, 0, 0, 1, 1, 1, 0, 0, 1, 1, 1, 1, 0, 0,\n",
       "       0, 0, 1, 0, 0, 1, 0, 0, 1, 1, 0, 0, 0, 0, 0, 1, 0, 0, 0, 1, 1, 0,\n",
       "       0, 1, 1, 0, 0, 0, 1, 0, 1, 0, 0, 0, 1, 1, 0, 1, 0, 0, 1, 1, 1, 0,\n",
       "       1, 0, 1, 1, 1, 1, 1, 0, 0, 0, 0, 0, 0, 1, 0, 1, 1, 0, 0, 1, 0, 1,\n",
       "       0, 0, 1, 0, 0, 1, 1, 0, 1, 0, 1, 0, 1, 1, 1, 0, 1, 0, 1, 0, 0, 1,\n",
       "       1, 1, 1, 0, 0, 1, 0, 1, 1, 1, 0, 1, 0, 0, 0, 0, 1, 1, 1, 1, 1, 0,\n",
       "       1, 0, 1, 1, 1, 0, 0, 0, 1, 1, 1, 0, 0, 1, 1, 0, 0, 0, 1, 0, 0, 1,\n",
       "       1, 1, 0, 1, 1, 0, 1, 0, 1, 1, 1, 1, 0, 0, 0, 1, 0, 0, 1, 1, 0, 0,\n",
       "       0, 1, 0, 0, 0, 1, 0, 1, 0, 1, 0, 0, 1, 1, 0, 1, 1, 0, 0, 0, 1, 0,\n",
       "       1, 1, 1, 1, 0, 0, 1, 0, 1, 0, 0, 1, 0, 1, 0, 1, 1, 1, 1, 0, 1, 0,\n",
       "       1, 0, 1, 1, 0, 0, 0, 0, 0, 0, 0, 1, 1, 1, 0, 0, 1, 0, 0, 1, 0, 0,\n",
       "       0, 0, 0, 1, 0, 1, 0, 1, 1, 0, 0, 0, 1, 1, 1, 0, 0, 0, 0, 1, 1, 1,\n",
       "       1, 0, 1, 0, 1, 1, 1, 0, 1, 0, 1, 1, 0, 0, 0, 0, 1, 0, 0, 0, 0, 1,\n",
       "       0, 0, 1, 0, 0, 1, 0, 1, 0, 1, 1, 0, 1, 1, 1, 0, 1, 1, 1, 0, 0, 0,\n",
       "       0, 1, 1, 1, 1, 0, 1, 1, 1, 1, 1, 0, 1, 0, 1, 0, 1, 0, 1, 1, 0, 1,\n",
       "       1, 1, 0, 1, 1, 0, 1, 0, 1, 1, 0, 1, 1, 0, 0, 1, 0, 1, 0, 1, 0, 1,\n",
       "       0, 0, 0, 1, 1, 1, 1, 0, 1, 0, 1, 0, 0, 0, 1, 0, 0, 1, 1, 1, 1, 1,\n",
       "       0, 0, 1, 0, 0, 0, 0, 0, 0, 1, 1, 0, 1, 1, 0, 1, 1, 1, 0, 1, 0, 0,\n",
       "       0, 0, 1, 1, 0, 0, 0, 1, 1, 0, 0, 1, 0, 1, 0, 0, 1, 1, 1, 1, 0, 0,\n",
       "       1, 1, 0, 0, 1, 0, 0, 0, 0, 0, 0, 1, 0, 0, 1, 0, 0, 0, 1, 1, 0, 1,\n",
       "       1, 1, 0, 0, 0, 0, 0, 1, 0, 1, 1, 1, 0, 1, 0, 0, 0, 1, 1, 1, 0, 0,\n",
       "       0, 0, 1, 1, 0, 0, 0, 1, 0, 0, 1, 0, 1, 0, 1, 0, 0, 1, 0, 0, 0, 0,\n",
       "       1, 1, 1, 1, 1, 0, 0, 1, 1, 1, 1, 1, 1, 1, 1, 1, 0, 1, 0, 1, 1, 0,\n",
       "       1, 0, 1, 1, 1, 1, 0, 0, 0, 0, 0, 0, 0, 1, 0, 1, 0, 0, 1, 1, 0, 0,\n",
       "       1, 0, 0, 0, 0, 1, 1, 1, 0, 1, 0, 0, 0, 1, 0, 0, 1, 1, 0, 0, 0, 0,\n",
       "       1, 0, 0, 1, 0, 0, 1, 1, 1, 0, 0, 0, 1, 0, 0, 1, 1, 1, 0, 1, 0, 1,\n",
       "       1, 1, 1, 0, 0, 1, 0, 0, 1, 0, 1, 1, 0, 0, 0, 1, 0, 1, 0, 0, 0, 0,\n",
       "       1, 0, 1, 0, 0, 1, 0, 0, 0, 0, 0, 0, 1, 0, 0, 0, 0, 1, 1, 1, 0, 1,\n",
       "       1, 1, 1, 1, 1, 0, 1, 0, 0, 0, 0, 1, 1, 0, 0, 1, 0, 1, 0, 0, 0, 0,\n",
       "       1, 1, 0, 1, 1, 0, 1, 0])"
      ]
     },
     "execution_count": 3,
     "metadata": {},
     "output_type": "execute_result"
    }
   ],
   "source": [
    "train_Y"
   ]
  },
  {
   "cell_type": "code",
   "execution_count": 4,
   "metadata": {},
   "outputs": [
    {
     "name": "stdout",
     "output_type": "stream",
     "text": [
      "640\n",
      "160\n"
     ]
    }
   ],
   "source": [
    "#Splitting into train, validation dataset\n",
    "#X_train:main training data\n",
    "#train_X: training data after splitting into train,validation data\n",
    "train_X,val_X,train_y,val_Y=train_test_split(X_train,train_Y,test_size=0.2)\n",
    "\n",
    "print(len(train_X))\n",
    "print(len(val_X))"
   ]
  },
  {
   "cell_type": "code",
   "execution_count": 5,
   "metadata": {},
   "outputs": [
    {
     "name": "stdout",
     "output_type": "stream",
     "text": [
      "(640, 64) (160, 64) (640,) (160,)\n",
      "800\n"
     ]
    }
   ],
   "source": [
    "#checking the shape\n",
    "print(train_X.shape,val_X.shape,train_y.shape,val_Y.shape)\n",
    "print(len(X_train))"
   ]
  },
  {
   "cell_type": "code",
   "execution_count": 6,
   "metadata": {},
   "outputs": [
    {
     "name": "stdout",
     "output_type": "stream",
     "text": [
      "torch.Size([1, 64])\n",
      "torch.Size([2, 64])\n",
      "torch.Size([1, 64])\n",
      "torch.Size([1, 64])\n"
     ]
    }
   ],
   "source": [
    "'''Dataloader for various datasets'''\n",
    "#Construct main,train,validation and test datasets for torch.util.data.dataloader:\n",
    "\n",
    "#main_data is the whole training data to input it with the best model\n",
    "main_data=[]\n",
    "for i in range(len(X_train)):\n",
    "    X_train.astype('float32')\n",
    "    train_Y.astype('long')\n",
    "    main_data.append([X_train[i],train_Y[i]])\n",
    "    \n",
    "mainloader=torch.utils.data.DataLoader(main_data,shuffle=True,batch_size=1)\n",
    "i4,l4=next(iter(mainloader))\n",
    "print(i4.shape)\n",
    "\n",
    "#train_data is the train dataset after splitting:\n",
    "train_data = []\n",
    "for i in range(len(train_X)):\n",
    "    train_X.astype('float32')\n",
    "    train_y.astype('long')\n",
    "    train_data.append([train_X[i], train_y[i]])\n",
    "\n",
    "trainloader = torch.utils.data.DataLoader(train_data, shuffle=True, batch_size=2)\n",
    "i1, l1 = next(iter(trainloader))\n",
    "print(i1.shape)\n",
    "\n",
    "#val_data is the validation dataset and valloader is the dataloader for it.\n",
    "val_data=[]\n",
    "for i in range(len(val_X)):\n",
    "    val_X.astype('float32')\n",
    "    val_Y.astype('long')\n",
    "    val_data.append([val_X[i], val_Y[i]])\n",
    "\n",
    "valloader = torch.utils.data.DataLoader(val_data, shuffle=False, batch_size=1)\n",
    "i2, l2 = next(iter(valloader))\n",
    "print(i2.shape)\n",
    "\n",
    "#test_data and its loader is of complete testing dataset.\n",
    "test_data=[]\n",
    "for i in range(len(X_test)):\n",
    "    X_test.astype('float32')\n",
    "    test_Y.astype('long')\n",
    "    test_data.append([X_test[i],test_Y[i]])\n",
    "    \n",
    "testloader=torch.utils.data.DataLoader(test_data,shuffle=False)\n",
    "\n",
    "i3,l3=next(iter(testloader))\n",
    "print(i3.shape)"
   ]
  },
  {
   "cell_type": "code",
   "execution_count": 7,
   "metadata": {},
   "outputs": [
    {
     "name": "stdout",
     "output_type": "stream",
     "text": [
      "320\n",
      "160\n",
      "200\n",
      "0 [tensor([[ 0.,  0.,  9., 13.,  7.,  0.,  0.,  0.,  0.,  0., 12., 16., 16.,  2.,\n",
      "          0.,  0.,  0.,  0., 12., 13., 16.,  6.,  0.,  0.,  0.,  0.,  6., 16.,\n",
      "         16., 14.,  0.,  0.,  0.,  0.,  0.,  0.,  2., 16.,  3.,  0.,  0.,  0.,\n",
      "          0.,  0.,  0.,  9., 10.,  0.,  0.,  0.,  3.,  7., 12., 14., 16.,  2.,\n",
      "          0.,  0.,  7., 12., 12., 12., 11.,  0.]]), tensor([1])]\n"
     ]
    }
   ],
   "source": [
    "print(len(trainloader))\n",
    "print(len(valloader))\n",
    "print(len(testloader))\n",
    "for i,j in enumerate(valloader):\n",
    "    print(i,j)\n",
    "    break"
   ]
  },
  {
   "cell_type": "code",
   "execution_count": 8,
   "metadata": {},
   "outputs": [],
   "source": [
    "'''Neural Network Model'''\n",
    "\n",
    "#Define the model of your Neural Network:\n",
    "# one hidden layer with input as features of the data and the labels as output\n",
    "\n",
    "#input=64 features\n",
    "#n_hidden= Number of hidden nodes\n",
    "#Output=2 classes\n",
    "\n",
    "#Activation used: ReLu function\n",
    "class One_hidden(nn.Module):\n",
    "    def __init__(self,n_hidden,n_output=2,n_feature=64):\n",
    "        super(One_hidden,self).__init__()\n",
    "        self.hidden=nn.Linear(n_feature,n_hidden)\n",
    "        self.output=nn.Linear(n_hidden,n_output)\n",
    "\n",
    "        \n",
    "    def forward(self,x):\n",
    "        x=F.relu(self.hidden(x))\n",
    "        x=self.output(x)\n",
    "        \n",
    "        return x\n",
    "\n"
   ]
  },
  {
   "cell_type": "code",
   "execution_count": 9,
   "metadata": {},
   "outputs": [
    {
     "name": "stdout",
     "output_type": "stream",
     "text": [
      "One_hidden(\n",
      "  (hidden): Linear(in_features=64, out_features=10, bias=True)\n",
      "  (output): Linear(in_features=10, out_features=2, bias=True)\n",
      ")\n"
     ]
    }
   ],
   "source": [
    "# to check whether the model is defined or not\n",
    "net_10=One_hidden(10)\n",
    "print(net_10)"
   ]
  },
  {
   "cell_type": "code",
   "execution_count": 13,
   "metadata": {},
   "outputs": [],
   "source": [
    "# Train the model\n",
    "def train_with_steps(net,trainloader):\n",
    "    # Loss Criterion and Optimizer:\n",
    "    criterion = nn.CrossEntropyLoss()\n",
    "    optimizer = torch.optim.SGD(net.parameters(), lr=0.01)\n",
    "    #torch.manual_seed(0)\n",
    "    n_total_steps = len(trainloader)\n",
    "    num_epochs=20\n",
    "    \n",
    "    for epoch in range(num_epochs):\n",
    "        for i,(x,y) in enumerate(trainloader):\n",
    "            net.zero_grad()\n",
    "            \n",
    "            # Forward pass    \n",
    "            output = net(x)\n",
    "            loss = criterion(output, y)\n",
    "        \n",
    "        \n",
    "            # Backward and optimize\n",
    "            optimizer.zero_grad()\n",
    "            loss.backward()\n",
    "            optimizer.step()\n",
    "            \n",
    "            \n",
    "            if (i+1) % 16 == 0:\n",
    "                print (f'Epoch [{epoch+1}/{num_epochs}],Step:[{i+1}/{n_total_steps}], Loss: {loss.item():.5f}')\n",
    "                \n",
    "    acc=accuracy(net,valloader)\n",
    "    return acc\n",
    "            \n",
    " #Calculate Accuracy:      \n",
    "def accuracy(net,valloader):\n",
    "    net.eval()\n",
    "    with torch.no_grad():\n",
    "        n_correct=0\n",
    "        n_samples=0\n",
    "        for x,y in valloader:\n",
    "            output=net(x)\n",
    "            _,predicted=torch.max(output.data,1)\n",
    "            n_samples+=y.size(0)\n",
    "            n_correct+=(predicted==y).sum().item()\n",
    "            \n",
    "        acc=100.0* n_correct/n_samples\n",
    "        print(f'Accuracy of the network for val data: {acc} %')\n",
    "        return acc"
   ]
  },
  {
   "cell_type": "code",
   "execution_count": 18,
   "metadata": {},
   "outputs": [],
   "source": [
    "def accuracy_test(net,testloader):\n",
    "    with torch.no_grad():\n",
    "        net.eval()\n",
    "        n_correct = 0\n",
    "        n_samples = 0\n",
    "        for z, y in testloader:\n",
    "            outputs = net(z)\n",
    "            # max returns (value ,index)\n",
    "            _, predicted = torch.max(outputs.data, 1)\n",
    "            n_samples += y.size(0)\n",
    "            n_correct += (predicted == y).sum().item()\n",
    "            \n",
    "        acc = 100.0 * n_correct / n_samples\n",
    "        print(f'Accuracy of the network for test data: {acc} %')"
   ]
  },
  {
   "cell_type": "code",
   "execution_count": null,
   "metadata": {},
   "outputs": [],
   "source": [
    "n_hidden=(i for i in range(1,11))\n",
    "storage=dict()\n",
    "\n",
    "for i in n_hidden:\n",
    "    net=One_hidden(i)\n",
    "    storage[i]=model_train_with_steps(net,trainloader)\n",
    "    \n",
    "print(storage)"
   ]
  },
  {
   "cell_type": "code",
   "execution_count": null,
   "metadata": {},
   "outputs": [],
   "source": [
    "net_best=One_hidden(7)\n",
    "print(net_best)"
   ]
  },
  {
   "cell_type": "code",
   "execution_count": null,
   "metadata": {},
   "outputs": [],
   "source": [
    "train_with_steps(net_best,trainloader)"
   ]
  },
  {
   "cell_type": "code",
   "execution_count": null,
   "metadata": {
    "scrolled": true
   },
   "outputs": [],
   "source": [
    "accuracy_test(net_best,testloader)"
   ]
  },
  {
   "cell_type": "markdown",
   "metadata": {},
   "source": [
    "## Train the model through average loss per epoch:"
   ]
  },
  {
   "cell_type": "code",
   "execution_count": 14,
   "metadata": {},
   "outputs": [],
   "source": [
    "def model_train(net,trainloader):\n",
    "    criterion = nn.CrossEntropyLoss()\n",
    "    optimizer = torch.optim.Adam(net.parameters(), lr=0.001)\n",
    "    # number of epochs to train the model\n",
    "    n_epochs = 30  # suggest training between 20-50 epochs\n",
    "    loss_values=[]\n",
    "\n",
    "    for epoch in range(n_epochs):\n",
    "    # monitor training loss\n",
    "        train_loss = 0.0\n",
    "    \n",
    "    ###################\n",
    "    # train the model #\n",
    "    ###################\n",
    "        for data, target in trainloader:\n",
    "        # clear the gradients of all optimized variables\n",
    "            optimizer.zero_grad()\n",
    "        # forward pass: compute predicted outputs by passing inputs to the model\n",
    "            output = net(data)\n",
    "        # calculate the loss\n",
    "            loss = criterion(output, target)\n",
    "        # backward pass: compute gradient of the loss with respect to model parameters\n",
    "            loss.backward()\n",
    "        # perform a single optimization step (parameter update)\n",
    "            optimizer.step()\n",
    "        # update running training loss\n",
    "            train_loss += loss.item()*data.size(0)\n",
    "        \n",
    "    # print training statistics \n",
    "    # calculate average loss over an epoch\n",
    "        train_loss = train_loss/len(trainloader.dataset)\n",
    "        loss_values.append(train_loss)\n",
    "\n",
    "        print('Epoch: {} \\tTraining Loss: {:.6f}'.format(\n",
    "            epoch+1, \n",
    "            train_loss\n",
    "            ))\n",
    "    plt.plot(loss_values) #plot\n",
    "    acc=accuracy(net,valloader) # get accuracy\n",
    "    return acc"
   ]
  },
  {
   "cell_type": "code",
   "execution_count": 11,
   "metadata": {},
   "outputs": [
    {
     "ename": "NameError",
     "evalue": "name 'net_best' is not defined",
     "output_type": "error",
     "traceback": [
      "\u001b[0;31m---------------------------------------------------------------------------\u001b[0m",
      "\u001b[0;31mNameError\u001b[0m                                 Traceback (most recent call last)",
      "\u001b[0;32m<ipython-input-11-2a9097e59bfc>\u001b[0m in \u001b[0;36m<module>\u001b[0;34m\u001b[0m\n\u001b[0;32m----> 1\u001b[0;31m \u001b[0mmodel_train\u001b[0m\u001b[0;34m(\u001b[0m\u001b[0mnet_best\u001b[0m\u001b[0;34m,\u001b[0m\u001b[0mtrainloader\u001b[0m\u001b[0;34m)\u001b[0m\u001b[0;34m\u001b[0m\u001b[0;34m\u001b[0m\u001b[0m\n\u001b[0m",
      "\u001b[0;31mNameError\u001b[0m: name 'net_best' is not defined"
     ]
    }
   ],
   "source": [
    "model_train(net_best,trainloader)"
   ]
  },
  {
   "cell_type": "code",
   "execution_count": 15,
   "metadata": {
    "scrolled": false
   },
   "outputs": [
    {
     "name": "stdout",
     "output_type": "stream",
     "text": [
      "Epoch: 1 \tTraining Loss: 0.754542\n",
      "Epoch: 2 \tTraining Loss: 0.449647\n",
      "Epoch: 3 \tTraining Loss: 0.384122\n",
      "Epoch: 4 \tTraining Loss: 0.361212\n",
      "Epoch: 5 \tTraining Loss: 0.328131\n",
      "Epoch: 6 \tTraining Loss: 0.311648\n",
      "Epoch: 7 \tTraining Loss: 0.295653\n",
      "Epoch: 8 \tTraining Loss: 0.290909\n",
      "Epoch: 9 \tTraining Loss: 0.278768\n",
      "Epoch: 10 \tTraining Loss: 0.277032\n",
      "Epoch: 11 \tTraining Loss: 0.261794\n",
      "Epoch: 12 \tTraining Loss: 0.268367\n",
      "Epoch: 13 \tTraining Loss: 0.249934\n",
      "Epoch: 14 \tTraining Loss: 0.245520\n",
      "Epoch: 15 \tTraining Loss: 0.247229\n",
      "Epoch: 16 \tTraining Loss: 0.251434\n",
      "Epoch: 17 \tTraining Loss: 0.237661\n",
      "Epoch: 18 \tTraining Loss: 0.238759\n",
      "Epoch: 19 \tTraining Loss: 0.231762\n",
      "Epoch: 20 \tTraining Loss: 0.225989\n",
      "Epoch: 21 \tTraining Loss: 0.228238\n",
      "Epoch: 22 \tTraining Loss: 0.225826\n",
      "Epoch: 23 \tTraining Loss: 0.222513\n",
      "Epoch: 24 \tTraining Loss: 0.221462\n",
      "Epoch: 25 \tTraining Loss: 0.221026\n",
      "Epoch: 26 \tTraining Loss: 0.217509\n",
      "Epoch: 27 \tTraining Loss: 0.216995\n",
      "Epoch: 28 \tTraining Loss: 0.219512\n",
      "Epoch: 29 \tTraining Loss: 0.217636\n",
      "Epoch: 30 \tTraining Loss: 0.217477\n",
      "Accuracy of the network for val data: 86.875 %\n",
      "Epoch: 1 \tTraining Loss: 0.661060\n",
      "Epoch: 2 \tTraining Loss: 0.546036\n",
      "Epoch: 3 \tTraining Loss: 0.426109\n",
      "Epoch: 4 \tTraining Loss: 0.331526\n",
      "Epoch: 5 \tTraining Loss: 0.277931\n",
      "Epoch: 6 \tTraining Loss: 0.240752\n",
      "Epoch: 7 \tTraining Loss: 0.205200\n",
      "Epoch: 8 \tTraining Loss: 0.187328\n",
      "Epoch: 9 \tTraining Loss: 0.174568\n",
      "Epoch: 10 \tTraining Loss: 0.157259\n",
      "Epoch: 11 \tTraining Loss: 0.141157\n",
      "Epoch: 12 \tTraining Loss: 0.134866\n",
      "Epoch: 13 \tTraining Loss: 0.128565\n",
      "Epoch: 14 \tTraining Loss: 0.118355\n",
      "Epoch: 15 \tTraining Loss: 0.109951\n",
      "Epoch: 16 \tTraining Loss: 0.108030\n",
      "Epoch: 17 \tTraining Loss: 0.099605\n",
      "Epoch: 18 \tTraining Loss: 0.096487\n",
      "Epoch: 19 \tTraining Loss: 0.095577\n",
      "Epoch: 20 \tTraining Loss: 0.097698\n",
      "Epoch: 21 \tTraining Loss: 0.084898\n",
      "Epoch: 22 \tTraining Loss: 0.086571\n",
      "Epoch: 23 \tTraining Loss: 0.081361\n",
      "Epoch: 24 \tTraining Loss: 0.085471\n",
      "Epoch: 25 \tTraining Loss: 0.074701\n",
      "Epoch: 26 \tTraining Loss: 0.077366\n",
      "Epoch: 27 \tTraining Loss: 0.069702\n",
      "Epoch: 28 \tTraining Loss: 0.083293\n",
      "Epoch: 29 \tTraining Loss: 0.072565\n",
      "Epoch: 30 \tTraining Loss: 0.073747\n",
      "Accuracy of the network for val data: 90.0 %\n",
      "Epoch: 1 \tTraining Loss: 0.607366\n",
      "Epoch: 2 \tTraining Loss: 0.399160\n",
      "Epoch: 3 \tTraining Loss: 0.329312\n",
      "Epoch: 4 \tTraining Loss: 0.284678\n",
      "Epoch: 5 \tTraining Loss: 0.254359\n",
      "Epoch: 6 \tTraining Loss: 0.231042\n",
      "Epoch: 7 \tTraining Loss: 0.204444\n",
      "Epoch: 8 \tTraining Loss: 0.194833\n",
      "Epoch: 9 \tTraining Loss: 0.178571\n",
      "Epoch: 10 \tTraining Loss: 0.150434\n",
      "Epoch: 11 \tTraining Loss: 0.140669\n",
      "Epoch: 12 \tTraining Loss: 0.127681\n",
      "Epoch: 13 \tTraining Loss: 0.114318\n",
      "Epoch: 14 \tTraining Loss: 0.095567\n",
      "Epoch: 15 \tTraining Loss: 0.087917\n",
      "Epoch: 16 \tTraining Loss: 0.090225\n",
      "Epoch: 17 \tTraining Loss: 0.082025\n",
      "Epoch: 18 \tTraining Loss: 0.078746\n",
      "Epoch: 19 \tTraining Loss: 0.071990\n",
      "Epoch: 20 \tTraining Loss: 0.073485\n",
      "Epoch: 21 \tTraining Loss: 0.062573\n",
      "Epoch: 22 \tTraining Loss: 0.060696\n",
      "Epoch: 23 \tTraining Loss: 0.053577\n",
      "Epoch: 24 \tTraining Loss: 0.059899\n",
      "Epoch: 25 \tTraining Loss: 0.045572\n",
      "Epoch: 26 \tTraining Loss: 0.047996\n",
      "Epoch: 27 \tTraining Loss: 0.045352\n",
      "Epoch: 28 \tTraining Loss: 0.042567\n",
      "Epoch: 29 \tTraining Loss: 0.058008\n",
      "Epoch: 30 \tTraining Loss: 0.047182\n",
      "Accuracy of the network for val data: 93.125 %\n",
      "Epoch: 1 \tTraining Loss: 0.652862\n",
      "Epoch: 2 \tTraining Loss: 0.504970\n",
      "Epoch: 3 \tTraining Loss: 0.401069\n",
      "Epoch: 4 \tTraining Loss: 0.320666\n",
      "Epoch: 5 \tTraining Loss: 0.278111\n",
      "Epoch: 6 \tTraining Loss: 0.257815\n",
      "Epoch: 7 \tTraining Loss: 0.235221\n",
      "Epoch: 8 \tTraining Loss: 0.221022\n",
      "Epoch: 9 \tTraining Loss: 0.203824\n",
      "Epoch: 10 \tTraining Loss: 0.194010\n",
      "Epoch: 11 \tTraining Loss: 0.198054\n",
      "Epoch: 12 \tTraining Loss: 0.183600\n",
      "Epoch: 13 \tTraining Loss: 0.171484\n",
      "Epoch: 14 \tTraining Loss: 0.161623\n",
      "Epoch: 15 \tTraining Loss: 0.154562\n",
      "Epoch: 16 \tTraining Loss: 0.150533\n",
      "Epoch: 17 \tTraining Loss: 0.151462\n",
      "Epoch: 18 \tTraining Loss: 0.142976\n",
      "Epoch: 19 \tTraining Loss: 0.143159\n",
      "Epoch: 20 \tTraining Loss: 0.142698\n",
      "Epoch: 21 \tTraining Loss: 0.129149\n",
      "Epoch: 22 \tTraining Loss: 0.129582\n",
      "Epoch: 23 \tTraining Loss: 0.126241\n",
      "Epoch: 24 \tTraining Loss: 0.119632\n",
      "Epoch: 25 \tTraining Loss: 0.118880\n",
      "Epoch: 26 \tTraining Loss: 0.110502\n",
      "Epoch: 27 \tTraining Loss: 0.116175\n",
      "Epoch: 28 \tTraining Loss: 0.107156\n",
      "Epoch: 29 \tTraining Loss: 0.114188\n",
      "Epoch: 30 \tTraining Loss: 0.095336\n",
      "Accuracy of the network for val data: 90.0 %\n",
      "Epoch: 1 \tTraining Loss: 0.651696\n",
      "Epoch: 2 \tTraining Loss: 0.493531\n",
      "Epoch: 3 \tTraining Loss: 0.376505\n",
      "Epoch: 4 \tTraining Loss: 0.304945\n",
      "Epoch: 5 \tTraining Loss: 0.247459\n",
      "Epoch: 6 \tTraining Loss: 0.202201\n",
      "Epoch: 7 \tTraining Loss: 0.174225\n",
      "Epoch: 8 \tTraining Loss: 0.142400\n",
      "Epoch: 9 \tTraining Loss: 0.130476\n",
      "Epoch: 10 \tTraining Loss: 0.110346\n",
      "Epoch: 11 \tTraining Loss: 0.104748\n",
      "Epoch: 12 \tTraining Loss: 0.087243\n",
      "Epoch: 13 \tTraining Loss: 0.081181\n",
      "Epoch: 14 \tTraining Loss: 0.073820\n",
      "Epoch: 15 \tTraining Loss: 0.072777\n",
      "Epoch: 16 \tTraining Loss: 0.067828\n",
      "Epoch: 17 \tTraining Loss: 0.057366\n",
      "Epoch: 18 \tTraining Loss: 0.054496\n",
      "Epoch: 19 \tTraining Loss: 0.056277\n",
      "Epoch: 20 \tTraining Loss: 0.050922\n",
      "Epoch: 21 \tTraining Loss: 0.049755\n",
      "Epoch: 22 \tTraining Loss: 0.047988\n",
      "Epoch: 23 \tTraining Loss: 0.054562\n",
      "Epoch: 24 \tTraining Loss: 0.046606\n",
      "Epoch: 25 \tTraining Loss: 0.044607\n",
      "Epoch: 26 \tTraining Loss: 0.042032\n",
      "Epoch: 27 \tTraining Loss: 0.042092\n",
      "Epoch: 28 \tTraining Loss: 0.040285\n",
      "Epoch: 29 \tTraining Loss: 0.035154\n",
      "Epoch: 30 \tTraining Loss: 0.043981\n",
      "Accuracy of the network for val data: 95.0 %\n",
      "Epoch: 1 \tTraining Loss: 0.655627\n",
      "Epoch: 2 \tTraining Loss: 0.446397\n",
      "Epoch: 3 \tTraining Loss: 0.316111\n",
      "Epoch: 4 \tTraining Loss: 0.253775\n",
      "Epoch: 5 \tTraining Loss: 0.228693\n",
      "Epoch: 6 \tTraining Loss: 0.203779\n",
      "Epoch: 7 \tTraining Loss: 0.180234\n",
      "Epoch: 8 \tTraining Loss: 0.163755\n",
      "Epoch: 9 \tTraining Loss: 0.163547\n",
      "Epoch: 10 \tTraining Loss: 0.142207\n",
      "Epoch: 11 \tTraining Loss: 0.133789\n",
      "Epoch: 12 \tTraining Loss: 0.125644\n",
      "Epoch: 13 \tTraining Loss: 0.124219\n",
      "Epoch: 14 \tTraining Loss: 0.111912\n",
      "Epoch: 15 \tTraining Loss: 0.110293\n",
      "Epoch: 16 \tTraining Loss: 0.090969\n",
      "Epoch: 17 \tTraining Loss: 0.090503\n",
      "Epoch: 18 \tTraining Loss: 0.089047\n",
      "Epoch: 19 \tTraining Loss: 0.078621\n",
      "Epoch: 20 \tTraining Loss: 0.066478\n",
      "Epoch: 21 \tTraining Loss: 0.069635\n",
      "Epoch: 22 \tTraining Loss: 0.061454\n",
      "Epoch: 23 \tTraining Loss: 0.061718\n",
      "Epoch: 24 \tTraining Loss: 0.041234\n",
      "Epoch: 25 \tTraining Loss: 0.049126\n",
      "Epoch: 26 \tTraining Loss: 0.045120\n",
      "Epoch: 27 \tTraining Loss: 0.049552\n",
      "Epoch: 28 \tTraining Loss: 0.043527\n",
      "Epoch: 29 \tTraining Loss: 0.039091\n",
      "Epoch: 30 \tTraining Loss: 0.030342\n",
      "Accuracy of the network for val data: 93.75 %\n",
      "Epoch: 1 \tTraining Loss: 0.535644\n",
      "Epoch: 2 \tTraining Loss: 0.295767\n",
      "Epoch: 3 \tTraining Loss: 0.201541\n",
      "Epoch: 4 \tTraining Loss: 0.153812\n",
      "Epoch: 5 \tTraining Loss: 0.132648\n",
      "Epoch: 6 \tTraining Loss: 0.109632\n",
      "Epoch: 7 \tTraining Loss: 0.091465\n",
      "Epoch: 8 \tTraining Loss: 0.092612\n",
      "Epoch: 9 \tTraining Loss: 0.084779\n",
      "Epoch: 10 \tTraining Loss: 0.071219\n",
      "Epoch: 11 \tTraining Loss: 0.058068\n",
      "Epoch: 12 \tTraining Loss: 0.063786\n",
      "Epoch: 13 \tTraining Loss: 0.061775\n",
      "Epoch: 14 \tTraining Loss: 0.047546\n",
      "Epoch: 15 \tTraining Loss: 0.049173\n",
      "Epoch: 16 \tTraining Loss: 0.052480\n",
      "Epoch: 17 \tTraining Loss: 0.039054\n",
      "Epoch: 18 \tTraining Loss: 0.031118\n",
      "Epoch: 19 \tTraining Loss: 0.038145\n",
      "Epoch: 20 \tTraining Loss: 0.030036\n",
      "Epoch: 21 \tTraining Loss: 0.026353\n",
      "Epoch: 22 \tTraining Loss: 0.028003\n",
      "Epoch: 23 \tTraining Loss: 0.022961\n",
      "Epoch: 24 \tTraining Loss: 0.027696\n",
      "Epoch: 25 \tTraining Loss: 0.022046\n",
      "Epoch: 26 \tTraining Loss: 0.016294\n",
      "Epoch: 27 \tTraining Loss: 0.016378\n",
      "Epoch: 28 \tTraining Loss: 0.016542\n",
      "Epoch: 29 \tTraining Loss: 0.011411\n",
      "Epoch: 30 \tTraining Loss: 0.010634\n",
      "Accuracy of the network for val data: 93.125 %\n",
      "Epoch: 1 \tTraining Loss: 0.485787\n",
      "Epoch: 2 \tTraining Loss: 0.290365\n",
      "Epoch: 3 \tTraining Loss: 0.207600\n",
      "Epoch: 4 \tTraining Loss: 0.149878\n",
      "Epoch: 5 \tTraining Loss: 0.131347\n",
      "Epoch: 6 \tTraining Loss: 0.092650\n",
      "Epoch: 7 \tTraining Loss: 0.085935\n",
      "Epoch: 8 \tTraining Loss: 0.075681\n",
      "Epoch: 9 \tTraining Loss: 0.068873\n",
      "Epoch: 10 \tTraining Loss: 0.056955\n",
      "Epoch: 11 \tTraining Loss: 0.055564\n",
      "Epoch: 12 \tTraining Loss: 0.046775\n",
      "Epoch: 13 \tTraining Loss: 0.036496\n",
      "Epoch: 14 \tTraining Loss: 0.038665\n",
      "Epoch: 15 \tTraining Loss: 0.030611\n",
      "Epoch: 16 \tTraining Loss: 0.031671\n",
      "Epoch: 17 \tTraining Loss: 0.020620\n"
     ]
    },
    {
     "name": "stdout",
     "output_type": "stream",
     "text": [
      "Epoch: 18 \tTraining Loss: 0.025336\n",
      "Epoch: 19 \tTraining Loss: 0.030925\n",
      "Epoch: 20 \tTraining Loss: 0.016948\n",
      "Epoch: 21 \tTraining Loss: 0.016706\n",
      "Epoch: 22 \tTraining Loss: 0.019731\n",
      "Epoch: 23 \tTraining Loss: 0.023633\n",
      "Epoch: 24 \tTraining Loss: 0.022786\n",
      "Epoch: 25 \tTraining Loss: 0.009810\n",
      "Epoch: 26 \tTraining Loss: 0.007028\n",
      "Epoch: 27 \tTraining Loss: 0.007896\n",
      "Epoch: 28 \tTraining Loss: 0.027025\n",
      "Epoch: 29 \tTraining Loss: 0.020586\n",
      "Epoch: 30 \tTraining Loss: 0.008911\n",
      "Accuracy of the network for val data: 94.375 %\n",
      "Epoch: 1 \tTraining Loss: 0.564666\n",
      "Epoch: 2 \tTraining Loss: 0.332178\n",
      "Epoch: 3 \tTraining Loss: 0.219362\n",
      "Epoch: 4 \tTraining Loss: 0.165438\n",
      "Epoch: 5 \tTraining Loss: 0.123955\n",
      "Epoch: 6 \tTraining Loss: 0.100013\n",
      "Epoch: 7 \tTraining Loss: 0.098049\n",
      "Epoch: 8 \tTraining Loss: 0.074612\n",
      "Epoch: 9 \tTraining Loss: 0.065950\n",
      "Epoch: 10 \tTraining Loss: 0.056217\n",
      "Epoch: 11 \tTraining Loss: 0.064196\n",
      "Epoch: 12 \tTraining Loss: 0.053713\n",
      "Epoch: 13 \tTraining Loss: 0.045509\n",
      "Epoch: 14 \tTraining Loss: 0.040872\n",
      "Epoch: 15 \tTraining Loss: 0.037523\n",
      "Epoch: 16 \tTraining Loss: 0.039541\n",
      "Epoch: 17 \tTraining Loss: 0.033930\n",
      "Epoch: 18 \tTraining Loss: 0.020380\n",
      "Epoch: 19 \tTraining Loss: 0.025725\n",
      "Epoch: 20 \tTraining Loss: 0.022069\n",
      "Epoch: 21 \tTraining Loss: 0.029553\n",
      "Epoch: 22 \tTraining Loss: 0.029750\n",
      "Epoch: 23 \tTraining Loss: 0.014754\n",
      "Epoch: 24 \tTraining Loss: 0.021257\n",
      "Epoch: 25 \tTraining Loss: 0.025203\n",
      "Epoch: 26 \tTraining Loss: 0.019903\n",
      "Epoch: 27 \tTraining Loss: 0.019731\n",
      "Epoch: 28 \tTraining Loss: 0.008444\n",
      "Epoch: 29 \tTraining Loss: 0.006320\n",
      "Epoch: 30 \tTraining Loss: 0.009685\n",
      "Accuracy of the network for val data: 93.125 %\n",
      "Epoch: 1 \tTraining Loss: 0.475760\n",
      "Epoch: 2 \tTraining Loss: 0.267800\n",
      "Epoch: 3 \tTraining Loss: 0.203582\n",
      "Epoch: 4 \tTraining Loss: 0.164733\n",
      "Epoch: 5 \tTraining Loss: 0.137679\n",
      "Epoch: 6 \tTraining Loss: 0.116019\n",
      "Epoch: 7 \tTraining Loss: 0.107455\n",
      "Epoch: 8 \tTraining Loss: 0.085721\n",
      "Epoch: 9 \tTraining Loss: 0.073289\n",
      "Epoch: 10 \tTraining Loss: 0.071719\n",
      "Epoch: 11 \tTraining Loss: 0.058680\n",
      "Epoch: 12 \tTraining Loss: 0.050734\n",
      "Epoch: 13 \tTraining Loss: 0.049385\n",
      "Epoch: 14 \tTraining Loss: 0.043531\n",
      "Epoch: 15 \tTraining Loss: 0.033644\n",
      "Epoch: 16 \tTraining Loss: 0.023681\n",
      "Epoch: 17 \tTraining Loss: 0.026937\n",
      "Epoch: 18 \tTraining Loss: 0.031500\n",
      "Epoch: 19 \tTraining Loss: 0.021015\n",
      "Epoch: 20 \tTraining Loss: 0.019582\n",
      "Epoch: 21 \tTraining Loss: 0.014231\n",
      "Epoch: 22 \tTraining Loss: 0.012786\n",
      "Epoch: 23 \tTraining Loss: 0.014052\n",
      "Epoch: 24 \tTraining Loss: 0.015281\n",
      "Epoch: 25 \tTraining Loss: 0.016781\n",
      "Epoch: 26 \tTraining Loss: 0.017051\n",
      "Epoch: 27 \tTraining Loss: 0.013762\n",
      "Epoch: 28 \tTraining Loss: 0.006172\n",
      "Epoch: 29 \tTraining Loss: 0.004665\n",
      "Epoch: 30 \tTraining Loss: 0.005787\n",
      "Accuracy of the network for val data: 95.0 %\n",
      "{1: 86.875, 2: 90.0, 3: 93.125, 4: 90.0, 5: 95.0, 6: 93.75, 7: 93.125, 8: 94.375, 9: 93.125, 10: 95.0}\n"
     ]
    },
    {
     "data": {
      "image/png": "[encoded data removed]",
      "text/plain": [
       "<Figure size 432x288 with 1 Axes>"
      ]
     },
     "metadata": {
      "needs_background": "light"
     },
     "output_type": "display_data"
    }
   ],
   "source": [
    "n_hidden=(i for i in range(1,11))\n",
    "storage=dict()\n",
    "\n",
    "for i in n_hidden:\n",
    "    net=One_hidden(i)\n",
    "    storage[i]=model_train(net,trainloader)\n",
    "    \n",
    "print(storage)"
   ]
  },
  {
   "cell_type": "code",
   "execution_count": 16,
   "metadata": {},
   "outputs": [
    {
     "name": "stdout",
     "output_type": "stream",
     "text": [
      "Epoch: 1 \tTraining Loss: 0.503640\n",
      "Epoch: 2 \tTraining Loss: 0.217870\n",
      "Epoch: 3 \tTraining Loss: 0.146052\n",
      "Epoch: 4 \tTraining Loss: 0.100000\n",
      "Epoch: 5 \tTraining Loss: 0.084249\n",
      "Epoch: 6 \tTraining Loss: 0.068975\n",
      "Epoch: 7 \tTraining Loss: 0.062194\n",
      "Epoch: 8 \tTraining Loss: 0.039169\n",
      "Epoch: 9 \tTraining Loss: 0.036561\n",
      "Epoch: 10 \tTraining Loss: 0.043949\n",
      "Epoch: 11 \tTraining Loss: 0.040016\n",
      "Epoch: 12 \tTraining Loss: 0.017286\n",
      "Epoch: 13 \tTraining Loss: 0.025541\n",
      "Epoch: 14 \tTraining Loss: 0.019054\n",
      "Epoch: 15 \tTraining Loss: 0.033604\n",
      "Epoch: 16 \tTraining Loss: 0.012109\n",
      "Epoch: 17 \tTraining Loss: 0.019407\n",
      "Epoch: 18 \tTraining Loss: 0.016611\n",
      "Epoch: 19 \tTraining Loss: 0.029027\n",
      "Epoch: 20 \tTraining Loss: 0.016307\n",
      "Epoch: 21 \tTraining Loss: 0.008720\n",
      "Epoch: 22 \tTraining Loss: 0.023740\n",
      "Epoch: 23 \tTraining Loss: 0.012990\n",
      "Epoch: 24 \tTraining Loss: 0.001383\n",
      "Epoch: 25 \tTraining Loss: 0.016354\n",
      "Epoch: 26 \tTraining Loss: 0.021699\n",
      "Epoch: 27 \tTraining Loss: 0.001904\n",
      "Epoch: 28 \tTraining Loss: 0.001197\n",
      "Epoch: 29 \tTraining Loss: 0.001108\n",
      "Epoch: 30 \tTraining Loss: 0.024802\n",
      "Accuracy of the network for val data: 97.5 %\n",
      "Training time: 11.975387334823608s\n"
     ]
    },
    {
     "data": {
      "image/png": "[encoded data removed]",
      "text/plain": [
       "<Figure size 432x288 with 1 Axes>"
      ]
     },
     "metadata": {
      "needs_background": "light"
     },
     "output_type": "display_data"
    }
   ],
   "source": [
    "start_time_best=time.time()\n",
    "model_best=One_hidden(10)\n",
    "model_train(model_best,mainloader) # Train the model with all the instances available\n",
    "end_time_best=time.time()\n",
    "print(f\"Training time: {end_time_best-start_time_best}s\") # Total training time"
   ]
  },
  {
   "cell_type": "code",
   "execution_count": 19,
   "metadata": {
    "scrolled": true
   },
   "outputs": [
    {
     "name": "stdout",
     "output_type": "stream",
     "text": [
      "Accuracy of the network for test data: 95.5 %\n"
     ]
    }
   ],
   "source": [
    "accuracy_test(model_best,testloader) # Final accuracy of the model"
   ]
  },
  {
   "cell_type": "code",
   "execution_count": null,
   "metadata": {},
   "outputs": [],
   "source": []
  }
 ],
 "metadata": {
  "kernelspec": {
   "display_name": "pytorch",
   "language": "python",
   "name": "pytorch"
  },
  "language_info": {
   "codemirror_mode": {
    "name": "ipython",
    "version": 3
   },
   "file_extension": ".py",
   "mimetype": "text/x-python",
   "name": "python",
   "nbconvert_exporter": "python",
   "pygments_lexer": "ipython3",
   "version": "3.7.7"
  }
 },
 "nbformat": 4,
 "nbformat_minor": 2
}

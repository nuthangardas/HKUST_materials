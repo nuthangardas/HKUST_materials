{
 "cells": [
  {
   "cell_type": "code",
   "execution_count": 1,
   "metadata": {},
   "outputs": [],
   "source": [
    "# Packages\n",
    "import numpy as np\n",
    "import torch\n",
    "import torch.nn as nn\n",
    "import torch.nn.functional as F\n",
    "from sklearn.model_selection import train_test_split\n",
    "import torch.optim as optim\n",
    "import scipy.io\n",
    "import matplotlib.pyplot as plt\n",
    "import time"
   ]
  },
  {
   "cell_type": "markdown",
   "metadata": {},
   "source": [
    "## Load Data(.mat) files:"
   ]
  },
  {
   "cell_type": "code",
   "execution_count": 2,
   "metadata": {},
   "outputs": [],
   "source": [
    "train_images = scipy.io.loadmat('/Users/gardasnagarjun/Downloads/datasets/multi-class/train_images.mat')\n",
    "train_label=scipy.io.loadmat('/Users/gardasnagarjun/Downloads/datasets/multi-class/train_labels.mat')\n",
    "\n",
    "\n",
    "test_images=scipy.io.loadmat('/Users/gardasnagarjun/Downloads/datasets/multi-class/test_images.mat')\n",
    "test_labels=scipy.io.loadmat('/Users/gardasnagarjun/Downloads/datasets/multi-class/test_labels.mat')"
   ]
  },
  {
   "cell_type": "code",
   "execution_count": 3,
   "metadata": {},
   "outputs": [],
   "source": [
    "# Keep the format of the training samples in 'float32', and the labels in 'long' types.\n",
    "train_X,train_Y,test_X,test_Y=train_images['train_images'].astype('float32'),train_label['train_labels'].astype('long'),test_images['test_images'].astype('float32'),test_labels['test_labels'].astype('long')"
   ]
  },
  {
   "cell_type": "code",
   "execution_count": 23,
   "metadata": {},
   "outputs": [
    {
     "data": {
      "text/plain": [
       "<matplotlib.image.AxesImage at 0x12e684f50>"
      ]
     },
     "execution_count": 23,
     "metadata": {},
     "output_type": "execute_result"
    },
    {
     "data": {
      "image/png": "[encoded data removed]",
      "text/plain": [
       "<Figure size 432x288 with 1 Axes>"
      ]
     },
     "metadata": {
      "needs_background": "light"
     },
     "output_type": "display_data"
    }
   ],
   "source": [
    "#Visualise one instance of the data:\n",
    "img=train_X[6].reshape(28,28)\n",
    "plt.imshow(img)"
   ]
  },
  {
   "cell_type": "code",
   "execution_count": 24,
   "metadata": {},
   "outputs": [
    {
     "data": {
      "image/png": "[encoded data removed]",
      "text/plain": [
       "<Figure size 432x288 with 1 Axes>"
      ]
     },
     "metadata": {
      "needs_background": "light"
     },
     "output_type": "display_data"
    },
    {
     "data": {
      "image/png": "[encoded data removed]",
      "text/plain": [
       "<Figure size 432x288 with 1 Axes>"
      ]
     },
     "metadata": {
      "needs_background": "light"
     },
     "output_type": "display_data"
    },
    {
     "data": {
      "image/png": "[encoded data removed]",
      "text/plain": [
       "<Figure size 432x288 with 1 Axes>"
      ]
     },
     "metadata": {
      "needs_background": "light"
     },
     "output_type": "display_data"
    },
    {
     "data": {
      "image/png": "[encoded data removed]",
      "text/plain": [
       "<Figure size 432x288 with 1 Axes>"
      ]
     },
     "metadata": {
      "needs_background": "light"
     },
     "output_type": "display_data"
    }
   ],
   "source": [
    "# Let's check the variety of the images given in the data:\n",
    "for i in range(4):\n",
    "    plt.subplot(2,3,i+1)\n",
    "    img=train_X[i].reshape(28,28)\n",
    "    plt.imshow(img)  \n",
    "    plt.show()"
   ]
  },
  {
   "cell_type": "code",
   "execution_count": 5,
   "metadata": {},
   "outputs": [
    {
     "name": "stdout",
     "output_type": "stream",
     "text": [
      "10000\n",
      "8000\n",
      "2000\n"
     ]
    }
   ],
   "source": [
    "# Split the training dataset into train,validation datasets for checking the model accuracy:\n",
    "X_train,val_X,train_y,val_Y=train_test_split(train_X,train_Y[0],test_size=0.2)\n",
    "\n",
    "print(len(train_X))\n",
    "print(len(X_train))\n",
    "print(len(val_X))"
   ]
  },
  {
   "cell_type": "code",
   "execution_count": 6,
   "metadata": {},
   "outputs": [
    {
     "name": "stdout",
     "output_type": "stream",
     "text": [
      "(10000, 784) (8000, 784) (2000, 784) (8000,) (2000,)\n",
      "10000\n"
     ]
    }
   ],
   "source": [
    "print(train_X.shape,X_train.shape,val_X.shape,train_y.shape,val_Y.shape)\n",
    "print(len(train_X))"
   ]
  },
  {
   "cell_type": "code",
   "execution_count": 7,
   "metadata": {},
   "outputs": [
    {
     "name": "stdout",
     "output_type": "stream",
     "text": [
      "torch.Size([20, 784])\n",
      "torch.Size([25, 784])\n",
      "torch.Size([25, 784])\n",
      "torch.Size([1, 784])\n"
     ]
    }
   ],
   "source": [
    "#Construct two datasets for torch.util.data.dataloader:\n",
    "\n",
    "\"\"\"Dataloaders are used to keep the data in batches.\"\"\"\n",
    "#Inputs: training dataset\n",
    "#Outputs: Train, valid dataloaders\n",
    "\n",
    "main_data=[]\n",
    "for i in range(len(train_X)):\n",
    "    train_X.astype('float32')\n",
    "    train_Y.astype('long')\n",
    "    main_data.append([train_X[i],train_Y[0][i]])\n",
    "    \n",
    "mainloader=torch.utils.data.DataLoader(main_data,shuffle=True,batch_size=20)\n",
    "i4,l4=next(iter(mainloader)) #checking the tensor shape\n",
    "print(i4.shape)\n",
    "\n",
    "\n",
    "train_data = []\n",
    "for i in range(len(X_train)):\n",
    "    X_train.astype('float32')\n",
    "    train_y.astype('long')\n",
    "    train_data.append([X_train[i], train_y[i]])\n",
    "\n",
    "trainloader = torch.utils.data.DataLoader(train_data, shuffle=True, batch_size=25)\n",
    "i1, l1 = next(iter(trainloader))\n",
    "print(i1.shape)\n",
    "\n",
    "val_data=[]\n",
    "for i in range(len(val_X)):\n",
    "    val_X.astype('float32')\n",
    "    val_Y.astype('long')\n",
    "    val_data.append([val_X[i], val_Y[i]])\n",
    "\n",
    "valloader = torch.utils.data.DataLoader(val_data, shuffle=False, batch_size=25)\n",
    "i2, l2 = next(iter(valloader))\n",
    "print(i2.shape)\n",
    "\n",
    "\n",
    "test_data=[]\n",
    "for i in range(len(test_X)):\n",
    "    test_X.astype('float32')\n",
    "    test_Y.astype('long')\n",
    "    test_data.append([test_X[i],test_Y[0][i]])\n",
    "    \n",
    "testloader=torch.utils.data.DataLoader(test_data,shuffle=False)\n",
    "\n",
    "i3,l3=next(iter(testloader))\n",
    "print(i3.shape)"
   ]
  },
  {
   "cell_type": "code",
   "execution_count": 8,
   "metadata": {},
   "outputs": [
    {
     "name": "stdout",
     "output_type": "stream",
     "text": [
      "500\n",
      "320\n",
      "80\n",
      "1000\n",
      "0 [tensor([[0., 0., 0.,  ..., 0., 0., 0.],\n",
      "        [0., 0., 0.,  ..., 0., 0., 0.],\n",
      "        [0., 0., 0.,  ..., 0., 0., 0.],\n",
      "        ...,\n",
      "        [0., 0., 0.,  ..., 0., 0., 0.],\n",
      "        [0., 0., 0.,  ..., 0., 0., 0.],\n",
      "        [0., 0., 0.,  ..., 0., 0., 0.]]), tensor([4, 0, 6, 8, 2, 1, 0, 1, 3, 1, 3, 6, 2, 8, 4, 7, 3, 6, 9, 6, 5, 1, 3, 0,\n",
      "        7])]\n"
     ]
    }
   ],
   "source": [
    "print(len(mainloader))\n",
    "print(len(trainloader))\n",
    "print(len(valloader))\n",
    "print(len(testloader))\n",
    "#Check how the tensors are stored in the loader class given in pytorch:\n",
    "for i,j in enumerate(valloader):\n",
    "    print(i,j)\n",
    "    break"
   ]
  },
  {
   "cell_type": "code",
   "execution_count": 9,
   "metadata": {},
   "outputs": [],
   "source": [
    "'''Neural Network Model'''\n",
    "\n",
    "#Define the model of your Neural Network:\n",
    "# two hidden layers with input as features of the data and the labels as output\n",
    "\n",
    "#input=784 (28*28)\n",
    "#hidden1,hidden2= Number of hidden nodes\n",
    "#Output=10 classes\n",
    "\n",
    "#Activation used: ReLu function\n",
    "class two_hidden(nn.Module):\n",
    "    def __init__(self,n_hidden1,n_hidden2,n_output=10,n_feature=784):\n",
    "        super(two_hidden,self).__init__()\n",
    "        self.hidden_1=nn.Linear(n_feature,n_hidden1)\n",
    "        self.hidden_2=nn.Linear(n_hidden1,n_hidden2)\n",
    "        self.output=nn.Linear(n_hidden2,n_output)\n",
    "        \n",
    "    def forward(self,x):\n",
    "        x1=F.relu(self.hidden_1(x))\n",
    "        x2=F.relu(self.hidden_2(x1))\n",
    "        x=self.output(x2)\n",
    "        \n",
    "        return x"
   ]
  },
  {
   "cell_type": "code",
   "execution_count": 10,
   "metadata": {},
   "outputs": [
    {
     "name": "stdout",
     "output_type": "stream",
     "text": [
      "two_hidden(\n",
      "  (hidden_1): Linear(in_features=784, out_features=75, bias=True)\n",
      "  (hidden_2): Linear(in_features=75, out_features=20, bias=True)\n",
      "  (output): Linear(in_features=20, out_features=10, bias=True)\n",
      ")\n"
     ]
    }
   ],
   "source": [
    "#To check whether the model is defined or not:\n",
    "net_trial=two_hidden(75,20)\n",
    "print(net_trial)"
   ]
  },
  {
   "cell_type": "markdown",
   "metadata": {},
   "source": [
    "### Define necessary functions for the training of the model:"
   ]
  },
  {
   "cell_type": "code",
   "execution_count": 11,
   "metadata": {},
   "outputs": [],
   "source": [
    " #Calculate Accuracy:      \n",
    "def accuracy(net,valloader):\n",
    "    net.eval()\n",
    "    with torch.no_grad():\n",
    "        n_correct=0\n",
    "        n_samples=0\n",
    "        for data,target in valloader:\n",
    "            output=net(data)\n",
    "            _,predicted=torch.max(output.data,1)\n",
    "            n_samples+=target.size(0)\n",
    "            n_correct+=(predicted==target).sum().item()\n",
    "            \n",
    "        acc=100.0* n_correct/n_samples\n",
    "        print(f'Accuracy of the network for val data: {acc} %')\n",
    "        return acc\n",
    "    "
   ]
  },
  {
   "cell_type": "code",
   "execution_count": 12,
   "metadata": {},
   "outputs": [],
   "source": [
    "def accuracy_test(net,testloader):\n",
    "    with torch.no_grad():\n",
    "        net.eval()\n",
    "        n_correct = 0\n",
    "        n_samples = 0\n",
    "        for z, y in testloader:\n",
    "            outputs = net(z)\n",
    "            # max returns (value ,index)\n",
    "            _, predicted = torch.max(outputs.data, 1)\n",
    "            n_samples += y.size(0)\n",
    "            n_correct += (predicted == y).sum().item()\n",
    "            \n",
    "        acc = 100.0 * n_correct / n_samples\n",
    "        print(f'Accuracy of the network for test data: {acc} %')"
   ]
  },
  {
   "cell_type": "markdown",
   "metadata": {},
   "source": [
    "### Train the model through average loss per epoch:"
   ]
  },
  {
   "cell_type": "code",
   "execution_count": 13,
   "metadata": {},
   "outputs": [],
   "source": [
    "#This training loop is of without steps like done above \n",
    "#here the loss is calculated on an average with every 'epoch':\n",
    "\n",
    "def model_train(net,trainloader):\n",
    "    criterion = nn.CrossEntropyLoss()\n",
    "    optimizer = torch.optim.Adam(net.parameters(), lr=0.001)\n",
    "    # number of epochs to train the model\n",
    "    n_epochs = 30  # suggest training between 20-50 epochs\n",
    "    loss_values=[] #To store the losses for plotting\n",
    "\n",
    "    for epoch in range(n_epochs):\n",
    "    # monitor training loss\n",
    "        train_loss = 0.0\n",
    "    \n",
    "    ###################\n",
    "    # train the model #\n",
    "    ###################\n",
    "        for data, target in trainloader:\n",
    "        # clear the gradients of all optimized variables\n",
    "            optimizer.zero_grad()\n",
    "        # forward pass: compute predicted outputs by passing inputs to the model\n",
    "            output = net(data)\n",
    "        # calculate the loss\n",
    "            loss = criterion(output, target)\n",
    "        # backward pass: compute gradient of the loss with respect to model parameters\n",
    "            loss.backward()\n",
    "        # perform a single optimization step (parameter update)\n",
    "            optimizer.step()\n",
    "        # update running training loss\n",
    "            train_loss += loss.item()*data.size(0)\n",
    "            \n",
    "        \n",
    "    # print training statistics \n",
    "    # calculate average loss over an epoch\n",
    "        train_loss = train_loss/len(trainloader.dataset)\n",
    "        loss_values.append(train_loss)\n",
    "\n",
    "        print('Epoch: {} \\tTraining Loss: {:.6f}'.format(\n",
    "            epoch+1, \n",
    "            train_loss\n",
    "            ))\n",
    "    plt.plot(loss_values) # Plot the loss curve\n",
    "    \n",
    "    # accuracy of the validation dataset with the model trained.\n",
    "    acc=accuracy(net,valloader)\n",
    "    return acc"
   ]
  },
  {
   "cell_type": "code",
   "execution_count": 14,
   "metadata": {},
   "outputs": [
    {
     "name": "stdout",
     "output_type": "stream",
     "text": [
      "Epoch: 1 \tTraining Loss: 1.820100\n",
      "Epoch: 2 \tTraining Loss: 1.590424\n",
      "Epoch: 3 \tTraining Loss: 1.738031\n",
      "Epoch: 4 \tTraining Loss: 1.292201\n",
      "Epoch: 5 \tTraining Loss: 1.115619\n",
      "Epoch: 6 \tTraining Loss: 0.933465\n",
      "Epoch: 7 \tTraining Loss: 0.832697\n",
      "Epoch: 8 \tTraining Loss: 0.805244\n",
      "Epoch: 9 \tTraining Loss: 0.760519\n",
      "Epoch: 10 \tTraining Loss: 0.727263\n",
      "Epoch: 11 \tTraining Loss: 0.699986\n",
      "Epoch: 12 \tTraining Loss: 0.678959\n",
      "Epoch: 13 \tTraining Loss: 0.627269\n",
      "Epoch: 14 \tTraining Loss: 0.592510\n",
      "Epoch: 15 \tTraining Loss: 0.592443\n",
      "Epoch: 16 \tTraining Loss: 0.576619\n",
      "Epoch: 17 \tTraining Loss: 0.547808\n",
      "Epoch: 18 \tTraining Loss: 0.546283\n",
      "Epoch: 19 \tTraining Loss: 0.527507\n",
      "Epoch: 20 \tTraining Loss: 0.522156\n",
      "Epoch: 21 \tTraining Loss: 0.520904\n",
      "Epoch: 22 \tTraining Loss: 0.497246\n",
      "Epoch: 23 \tTraining Loss: 0.494355\n",
      "Epoch: 24 \tTraining Loss: 0.495965\n",
      "Epoch: 25 \tTraining Loss: 0.488013\n",
      "Epoch: 26 \tTraining Loss: 0.483404\n",
      "Epoch: 27 \tTraining Loss: 0.463173\n",
      "Epoch: 28 \tTraining Loss: 0.454483\n",
      "Epoch: 29 \tTraining Loss: 0.438291\n",
      "Epoch: 30 \tTraining Loss: 0.426029\n",
      "Accuracy of the network for val data: 80.0 %\n",
      "Epoch: 1 \tTraining Loss: 1.364044\n",
      "Epoch: 2 \tTraining Loss: 0.931696\n",
      "Epoch: 3 \tTraining Loss: 0.799039\n",
      "Epoch: 4 \tTraining Loss: 0.711826\n",
      "Epoch: 5 \tTraining Loss: 0.619236\n",
      "Epoch: 6 \tTraining Loss: 0.591479\n",
      "Epoch: 7 \tTraining Loss: 0.551621\n",
      "Epoch: 8 \tTraining Loss: 0.531145\n",
      "Epoch: 9 \tTraining Loss: 0.504572\n",
      "Epoch: 10 \tTraining Loss: 0.477822\n",
      "Epoch: 11 \tTraining Loss: 0.469286\n",
      "Epoch: 12 \tTraining Loss: 0.439857\n",
      "Epoch: 13 \tTraining Loss: 0.438763\n",
      "Epoch: 14 \tTraining Loss: 0.423195\n",
      "Epoch: 15 \tTraining Loss: 0.424752\n",
      "Epoch: 16 \tTraining Loss: 0.429868\n",
      "Epoch: 17 \tTraining Loss: 0.416481\n",
      "Epoch: 18 \tTraining Loss: 0.395457\n",
      "Epoch: 19 \tTraining Loss: 0.386910\n",
      "Epoch: 20 \tTraining Loss: 0.382639\n",
      "Epoch: 21 \tTraining Loss: 0.384791\n",
      "Epoch: 22 \tTraining Loss: 0.389832\n",
      "Epoch: 23 \tTraining Loss: 0.359882\n",
      "Epoch: 24 \tTraining Loss: 0.355333\n",
      "Epoch: 25 \tTraining Loss: 0.342080\n",
      "Epoch: 26 \tTraining Loss: 0.339277\n",
      "Epoch: 27 \tTraining Loss: 0.359631\n",
      "Epoch: 28 \tTraining Loss: 0.334038\n",
      "Epoch: 29 \tTraining Loss: 0.345278\n",
      "Epoch: 30 \tTraining Loss: 0.323463\n",
      "Accuracy of the network for val data: 79.65 %\n",
      "Epoch: 1 \tTraining Loss: 1.153551\n",
      "Epoch: 2 \tTraining Loss: 0.694197\n",
      "Epoch: 3 \tTraining Loss: 0.598175\n",
      "Epoch: 4 \tTraining Loss: 0.561885\n",
      "Epoch: 5 \tTraining Loss: 0.508775\n",
      "Epoch: 6 \tTraining Loss: 0.511051\n",
      "Epoch: 7 \tTraining Loss: 0.484742\n",
      "Epoch: 8 \tTraining Loss: 0.461906\n",
      "Epoch: 9 \tTraining Loss: 0.419902\n",
      "Epoch: 10 \tTraining Loss: 0.433138\n",
      "Epoch: 11 \tTraining Loss: 0.432400\n",
      "Epoch: 12 \tTraining Loss: 0.399644\n",
      "Epoch: 13 \tTraining Loss: 0.393499\n",
      "Epoch: 14 \tTraining Loss: 0.369662\n",
      "Epoch: 15 \tTraining Loss: 0.362795\n",
      "Epoch: 16 \tTraining Loss: 0.366526\n",
      "Epoch: 17 \tTraining Loss: 0.364892\n",
      "Epoch: 18 \tTraining Loss: 0.370012\n",
      "Epoch: 19 \tTraining Loss: 0.352988\n",
      "Epoch: 20 \tTraining Loss: 0.340847\n",
      "Epoch: 21 \tTraining Loss: 0.340785\n",
      "Epoch: 22 \tTraining Loss: 0.325478\n",
      "Epoch: 23 \tTraining Loss: 0.321123\n",
      "Epoch: 24 \tTraining Loss: 0.339901\n",
      "Epoch: 25 \tTraining Loss: 0.317360\n",
      "Epoch: 26 \tTraining Loss: 0.312574\n",
      "Epoch: 27 \tTraining Loss: 0.354420\n",
      "Epoch: 28 \tTraining Loss: 0.313420\n",
      "Epoch: 29 \tTraining Loss: 0.311326\n",
      "Epoch: 30 \tTraining Loss: 0.295043\n",
      "Accuracy of the network for val data: 84.6 %\n",
      "Epoch: 1 \tTraining Loss: 2.328791\n",
      "Epoch: 2 \tTraining Loss: 2.308113\n",
      "Epoch: 3 \tTraining Loss: 2.302819\n",
      "Epoch: 4 \tTraining Loss: 2.302376\n",
      "Epoch: 5 \tTraining Loss: 2.302305\n",
      "Epoch: 6 \tTraining Loss: 2.302254\n",
      "Epoch: 7 \tTraining Loss: 2.302191\n",
      "Epoch: 8 \tTraining Loss: 2.302208\n",
      "Epoch: 9 \tTraining Loss: 2.302200\n",
      "Epoch: 10 \tTraining Loss: 2.302174\n",
      "Epoch: 11 \tTraining Loss: 2.302182\n",
      "Epoch: 12 \tTraining Loss: 2.302202\n",
      "Epoch: 13 \tTraining Loss: 2.302179\n",
      "Epoch: 14 \tTraining Loss: 2.302183\n",
      "Epoch: 15 \tTraining Loss: 2.302212\n",
      "Epoch: 16 \tTraining Loss: 2.302201\n",
      "Epoch: 17 \tTraining Loss: 2.302212\n",
      "Epoch: 18 \tTraining Loss: 2.302208\n",
      "Epoch: 19 \tTraining Loss: 2.302175\n",
      "Epoch: 20 \tTraining Loss: 2.302179\n",
      "Epoch: 21 \tTraining Loss: 2.302182\n",
      "Epoch: 22 \tTraining Loss: 2.302198\n",
      "Epoch: 23 \tTraining Loss: 2.302179\n",
      "Epoch: 24 \tTraining Loss: 2.302208\n",
      "Epoch: 25 \tTraining Loss: 2.302221\n",
      "Epoch: 26 \tTraining Loss: 2.302178\n",
      "Epoch: 27 \tTraining Loss: 2.302187\n",
      "Epoch: 28 \tTraining Loss: 2.302198\n",
      "Epoch: 29 \tTraining Loss: 2.302215\n",
      "Epoch: 30 \tTraining Loss: 2.302197\n",
      "Accuracy of the network for val data: 9.15 %\n",
      "Epoch: 1 \tTraining Loss: 1.883304\n",
      "Epoch: 2 \tTraining Loss: 1.520908\n",
      "Epoch: 3 \tTraining Loss: 1.105608\n",
      "Epoch: 4 \tTraining Loss: 0.862062\n",
      "Epoch: 5 \tTraining Loss: 0.723214\n",
      "Epoch: 6 \tTraining Loss: 0.648734\n",
      "Epoch: 7 \tTraining Loss: 0.609556\n",
      "Epoch: 8 \tTraining Loss: 0.594583\n",
      "Epoch: 9 \tTraining Loss: 0.585179\n",
      "Epoch: 10 \tTraining Loss: 0.532286\n",
      "Epoch: 11 \tTraining Loss: 0.500841\n",
      "Epoch: 12 \tTraining Loss: 0.512390\n",
      "Epoch: 13 \tTraining Loss: 0.470458\n",
      "Epoch: 14 \tTraining Loss: 0.464689\n",
      "Epoch: 15 \tTraining Loss: 0.463392\n",
      "Epoch: 16 \tTraining Loss: 0.454606\n",
      "Epoch: 17 \tTraining Loss: 0.440991\n",
      "Epoch: 18 \tTraining Loss: 0.418431\n",
      "Epoch: 19 \tTraining Loss: 0.424404\n",
      "Epoch: 20 \tTraining Loss: 0.440696\n",
      "Epoch: 21 \tTraining Loss: 0.398479\n",
      "Epoch: 22 \tTraining Loss: 0.386473\n",
      "Epoch: 23 \tTraining Loss: 0.374013\n",
      "Epoch: 24 \tTraining Loss: 0.401234\n",
      "Epoch: 25 \tTraining Loss: 0.399143\n",
      "Epoch: 26 \tTraining Loss: 0.371655\n",
      "Epoch: 27 \tTraining Loss: 0.377004\n",
      "Epoch: 28 \tTraining Loss: 0.361436\n",
      "Epoch: 29 \tTraining Loss: 0.351331\n",
      "Epoch: 30 \tTraining Loss: 0.336025\n",
      "Accuracy of the network for val data: 82.25 %\n",
      "Epoch: 1 \tTraining Loss: 1.829037\n",
      "Epoch: 2 \tTraining Loss: 1.051312\n",
      "Epoch: 3 \tTraining Loss: 0.779783\n",
      "Epoch: 4 \tTraining Loss: 0.625667\n",
      "Epoch: 5 \tTraining Loss: 0.567674\n",
      "Epoch: 6 \tTraining Loss: 0.556421\n",
      "Epoch: 7 \tTraining Loss: 0.518071\n",
      "Epoch: 8 \tTraining Loss: 0.492400\n",
      "Epoch: 9 \tTraining Loss: 0.461323\n",
      "Epoch: 10 \tTraining Loss: 0.433822\n",
      "Epoch: 11 \tTraining Loss: 0.429765\n",
      "Epoch: 12 \tTraining Loss: 0.426091\n",
      "Epoch: 13 \tTraining Loss: 0.441235\n",
      "Epoch: 14 \tTraining Loss: 0.406947\n",
      "Epoch: 15 \tTraining Loss: 0.380079\n",
      "Epoch: 16 \tTraining Loss: 0.366890\n",
      "Epoch: 17 \tTraining Loss: 0.368579\n",
      "Epoch: 18 \tTraining Loss: 0.343975\n",
      "Epoch: 19 \tTraining Loss: 0.335016\n",
      "Epoch: 20 \tTraining Loss: 0.346120\n",
      "Epoch: 21 \tTraining Loss: 0.329224\n",
      "Epoch: 22 \tTraining Loss: 0.318504\n",
      "Epoch: 23 \tTraining Loss: 0.321818\n",
      "Epoch: 24 \tTraining Loss: 0.328541\n",
      "Epoch: 25 \tTraining Loss: 0.325775\n",
      "Epoch: 26 \tTraining Loss: 0.308460\n",
      "Epoch: 27 \tTraining Loss: 0.304438\n",
      "Epoch: 28 \tTraining Loss: 0.294343\n",
      "Epoch: 29 \tTraining Loss: 0.279343\n",
      "Epoch: 30 \tTraining Loss: 0.298429\n",
      "Accuracy of the network for val data: 84.25 %\n",
      "Epoch: 1 \tTraining Loss: 2.381147\n",
      "Epoch: 2 \tTraining Loss: 2.308120\n",
      "Epoch: 3 \tTraining Loss: 2.304334\n",
      "Epoch: 4 \tTraining Loss: 2.302932\n",
      "Epoch: 5 \tTraining Loss: 2.302470\n",
      "Epoch: 6 \tTraining Loss: 2.302301\n",
      "Epoch: 7 \tTraining Loss: 2.302255\n",
      "Epoch: 8 \tTraining Loss: 2.302210\n",
      "Epoch: 9 \tTraining Loss: 2.302203\n",
      "Epoch: 10 \tTraining Loss: 2.302177\n",
      "Epoch: 11 \tTraining Loss: 2.302171\n",
      "Epoch: 12 \tTraining Loss: 2.302187\n",
      "Epoch: 13 \tTraining Loss: 2.302214\n",
      "Epoch: 14 \tTraining Loss: 2.302179\n",
      "Epoch: 15 \tTraining Loss: 2.302220\n",
      "Epoch: 16 \tTraining Loss: 2.302161\n",
      "Epoch: 17 \tTraining Loss: 2.302184\n",
      "Epoch: 18 \tTraining Loss: 2.302228\n",
      "Epoch: 19 \tTraining Loss: 2.302179\n",
      "Epoch: 20 \tTraining Loss: 2.302156\n",
      "Epoch: 21 \tTraining Loss: 2.302175\n",
      "Epoch: 22 \tTraining Loss: 2.302225\n",
      "Epoch: 23 \tTraining Loss: 2.302245\n",
      "Epoch: 24 \tTraining Loss: 2.302160\n",
      "Epoch: 25 \tTraining Loss: 2.302183\n",
      "Epoch: 26 \tTraining Loss: 2.302164\n",
      "Epoch: 27 \tTraining Loss: 2.302156\n",
      "Epoch: 28 \tTraining Loss: 2.302184\n",
      "Epoch: 29 \tTraining Loss: 2.302174\n",
      "Epoch: 30 \tTraining Loss: 2.302190\n",
      "Accuracy of the network for val data: 9.15 %\n",
      "Epoch: 1 \tTraining Loss: 2.235249\n",
      "Epoch: 2 \tTraining Loss: 1.950306\n",
      "Epoch: 3 \tTraining Loss: 1.875501\n",
      "Epoch: 4 \tTraining Loss: 1.695178\n",
      "Epoch: 5 \tTraining Loss: 1.547051\n",
      "Epoch: 6 \tTraining Loss: 1.291992\n",
      "Epoch: 7 \tTraining Loss: 1.084772\n",
      "Epoch: 8 \tTraining Loss: 0.963039\n",
      "Epoch: 9 \tTraining Loss: 0.868007\n",
      "Epoch: 10 \tTraining Loss: 0.795639\n",
      "Epoch: 11 \tTraining Loss: 0.736602\n",
      "Epoch: 12 \tTraining Loss: 0.643574\n",
      "Epoch: 13 \tTraining Loss: 0.608879\n",
      "Epoch: 14 \tTraining Loss: 0.567921\n",
      "Epoch: 15 \tTraining Loss: 0.514054\n",
      "Epoch: 16 \tTraining Loss: 0.481753\n",
      "Epoch: 17 \tTraining Loss: 0.456044\n",
      "Epoch: 18 \tTraining Loss: 0.429600\n"
     ]
    },
    {
     "name": "stdout",
     "output_type": "stream",
     "text": [
      "Epoch: 19 \tTraining Loss: 0.415433\n",
      "Epoch: 20 \tTraining Loss: 0.401566\n",
      "Epoch: 21 \tTraining Loss: 0.409460\n",
      "Epoch: 22 \tTraining Loss: 0.391723\n",
      "Epoch: 23 \tTraining Loss: 0.372034\n",
      "Epoch: 24 \tTraining Loss: 0.360294\n",
      "Epoch: 25 \tTraining Loss: 0.343823\n",
      "Epoch: 26 \tTraining Loss: 0.326983\n",
      "Epoch: 27 \tTraining Loss: 0.337895\n",
      "Epoch: 28 \tTraining Loss: 0.319623\n",
      "Epoch: 29 \tTraining Loss: 0.308866\n",
      "Epoch: 30 \tTraining Loss: 0.308683\n",
      "Accuracy of the network for val data: 84.2 %\n",
      "Epoch: 1 \tTraining Loss: 2.005175\n",
      "Epoch: 2 \tTraining Loss: 1.597856\n",
      "Epoch: 3 \tTraining Loss: 1.397672\n",
      "Epoch: 4 \tTraining Loss: 0.919724\n",
      "Epoch: 5 \tTraining Loss: 0.734429\n",
      "Epoch: 6 \tTraining Loss: 0.664949\n",
      "Epoch: 7 \tTraining Loss: 0.601161\n",
      "Epoch: 8 \tTraining Loss: 0.544760\n",
      "Epoch: 9 \tTraining Loss: 0.525907\n",
      "Epoch: 10 \tTraining Loss: 0.492427\n",
      "Epoch: 11 \tTraining Loss: 0.503161\n",
      "Epoch: 12 \tTraining Loss: 0.436870\n",
      "Epoch: 13 \tTraining Loss: 0.410194\n",
      "Epoch: 14 \tTraining Loss: 0.420505\n",
      "Epoch: 15 \tTraining Loss: 0.371571\n",
      "Epoch: 16 \tTraining Loss: 0.380653\n",
      "Epoch: 17 \tTraining Loss: 0.373651\n",
      "Epoch: 18 \tTraining Loss: 0.337552\n",
      "Epoch: 19 \tTraining Loss: 0.337915\n",
      "Epoch: 20 \tTraining Loss: 0.340450\n",
      "Epoch: 21 \tTraining Loss: 0.338562\n",
      "Epoch: 22 \tTraining Loss: 0.308792\n",
      "Epoch: 23 \tTraining Loss: 0.311154\n",
      "Epoch: 24 \tTraining Loss: 0.292305\n",
      "Epoch: 25 \tTraining Loss: 0.290334\n",
      "Epoch: 26 \tTraining Loss: 0.300730\n",
      "Epoch: 27 \tTraining Loss: 0.295118\n",
      "Epoch: 28 \tTraining Loss: 0.286558\n",
      "Epoch: 29 \tTraining Loss: 0.272772\n",
      "Epoch: 30 \tTraining Loss: 0.260897\n",
      "Accuracy of the network for val data: 84.05 %\n",
      "{(50, 10): 80.0, (50, 15): 79.65, (50, 20): 84.6, (75, 10): 9.15, (75, 15): 82.25, (75, 20): 84.25, (100, 10): 9.15, (100, 15): 84.2, (100, 20): 84.05}\n"
     ]
    },
    {
     "data": {
      "image/png": "[encoded data removed]",
      "text/plain": [
       "<Figure size 432x288 with 1 Axes>"
      ]
     },
     "metadata": {
      "needs_background": "light"
     },
     "output_type": "display_data"
    }
   ],
   "source": [
    "'''Finding Hidden layer nodes'''\n",
    "#Using a for loop to iterate over the possible values for the best hidden nodes for the two layers, training the model\n",
    "# And finding the accuracy of the validation dataset and comparing to find the best one.\n",
    "h1=[50,75,100]\n",
    "h2=[10,15,20]\n",
    "storage=dict()\n",
    "for i in h1:\n",
    "    for x in h2:\n",
    "        net=two_hidden(i,x)\n",
    "        storage[i,x]=model_train(net,trainloader)\n",
    "        \n",
    "print(storage)"
   ]
  },
  {
   "cell_type": "code",
   "execution_count": 15,
   "metadata": {},
   "outputs": [
    {
     "name": "stdout",
     "output_type": "stream",
     "text": [
      "Epoch: 1 \tTraining Loss: 1.053178\n",
      "Epoch: 2 \tTraining Loss: 0.613114\n",
      "Epoch: 3 \tTraining Loss: 0.534949\n",
      "Epoch: 4 \tTraining Loss: 0.489534\n",
      "Epoch: 5 \tTraining Loss: 0.465006\n",
      "Epoch: 6 \tTraining Loss: 0.445856\n",
      "Epoch: 7 \tTraining Loss: 0.429387\n",
      "Epoch: 8 \tTraining Loss: 0.413619\n",
      "Epoch: 9 \tTraining Loss: 0.406527\n",
      "Epoch: 10 \tTraining Loss: 0.397263\n",
      "Epoch: 11 \tTraining Loss: 0.396496\n",
      "Epoch: 12 \tTraining Loss: 0.365020\n",
      "Epoch: 13 \tTraining Loss: 0.377121\n",
      "Epoch: 14 \tTraining Loss: 0.365986\n",
      "Epoch: 15 \tTraining Loss: 0.354156\n",
      "Epoch: 16 \tTraining Loss: 0.343052\n",
      "Epoch: 17 \tTraining Loss: 0.331825\n",
      "Epoch: 18 \tTraining Loss: 0.341072\n",
      "Epoch: 19 \tTraining Loss: 0.324921\n",
      "Epoch: 20 \tTraining Loss: 0.359505\n",
      "Epoch: 21 \tTraining Loss: 0.319594\n",
      "Epoch: 22 \tTraining Loss: 0.304734\n",
      "Epoch: 23 \tTraining Loss: 0.307471\n",
      "Epoch: 24 \tTraining Loss: 0.303863\n",
      "Epoch: 25 \tTraining Loss: 0.304984\n",
      "Epoch: 26 \tTraining Loss: 0.293030\n",
      "Epoch: 27 \tTraining Loss: 0.307396\n",
      "Epoch: 28 \tTraining Loss: 0.303897\n",
      "Epoch: 29 \tTraining Loss: 0.283351\n",
      "Epoch: 30 \tTraining Loss: 0.266218\n",
      "Accuracy of the network for val data: 90.7 %\n",
      "Training time: 27.58512306213379s\n"
     ]
    },
    {
     "data": {
      "image/png": "[encoded data removed]",
      "text/plain": [
       "<Figure size 432x288 with 1 Axes>"
      ]
     },
     "metadata": {
      "needs_background": "light"
     },
     "output_type": "display_data"
    }
   ],
   "source": [
    "#defining the model with best hidden parameters\n",
    "start_time_best=time.time()\n",
    "model_best=two_hidden(75,20)\n",
    "#train the model and get the val accuracy:\n",
    "model_train(model_best,mainloader)\n",
    "end_time_best=time.time()\n",
    "# Training time for the model to train\n",
    "print(f\"Training time: {end_time_best-start_time_best}s\")"
   ]
  },
  {
   "cell_type": "code",
   "execution_count": 16,
   "metadata": {},
   "outputs": [
    {
     "name": "stdout",
     "output_type": "stream",
     "text": [
      "Accuracy of the network for test data: 84.2 %\n"
     ]
    }
   ],
   "source": [
    "#Test dataset accuracy\n",
    "accuracy_test(model_best,testloader)"
   ]
  },
  {
   "cell_type": "code",
   "execution_count": 17,
   "metadata": {},
   "outputs": [
    {
     "name": "stdout",
     "output_type": "stream",
     "text": [
      "tensor([[ 93.,   1.,   3.,   4.,   0.,   0.,   5.,   0.,   1.,   0.],\n",
      "        [  0., 100.,   0.,   5.,   0.,   0.,   0.,   0.,   0.,   0.],\n",
      "        [  4.,   0.,  82.,   1.,  12.,   0.,  12.,   0.,   0.,   0.],\n",
      "        [  6.,   2.,   4.,  75.,   2.,   0.,   4.,   0.,   0.,   0.],\n",
      "        [  0.,   0.,  12.,   3.,  93.,   0.,   7.,   0.,   0.,   0.],\n",
      "        [  0.,   0.,   0.,   0.,   0.,  79.,   0.,   1.,   0.,   7.],\n",
      "        [ 21.,   0.,  12.,   4.,   9.,   0.,  51.,   0.,   0.,   0.],\n",
      "        [  0.,   0.,   0.,   0.,   0.,   2.,   0.,  92.,   0.,   1.],\n",
      "        [  1.,   0.,   0.,   1.,   0.,   0.,   1.,   5.,  87.,   0.],\n",
      "        [  0.,   0.,   0.,   0.,   0.,   1.,   0.,   4.,   0.,  90.]])\n"
     ]
    }
   ],
   "source": [
    "#Confusion matrix and accuracy of per class:\n",
    "no_classes = 10\n",
    "\n",
    "confusion_matrix = torch.zeros(no_classes, no_classes)\n",
    "with torch.no_grad():\n",
    "    for i, (x, classes) in enumerate(testloader):\n",
    "        outputs = model_best(x)\n",
    "        _, preds = torch.max(outputs, 1)\n",
    "        for t, p in zip(classes.view(-1), preds.view(-1)):\n",
    "                confusion_matrix[t.long(), p.long()] += 1\n",
    "\n",
    "print(confusion_matrix)"
   ]
  },
  {
   "cell_type": "code",
   "execution_count": 18,
   "metadata": {},
   "outputs": [
    {
     "name": "stdout",
     "output_type": "stream",
     "text": [
      "tensor([0.8692, 0.9524, 0.7387, 0.8065, 0.8087, 0.9080, 0.5258, 0.9684, 0.9158,\n",
      "        0.9474])\n"
     ]
    }
   ],
   "source": [
    "#Accuracy per class taken from the confusion matrix:\n",
    "\n",
    "print(confusion_matrix.diag()/confusion_matrix.sum(1))"
   ]
  },
  {
   "cell_type": "markdown",
   "metadata": {},
   "source": [
    "### Training the model with steps:\n",
    " To get a better understaning of how the step parameter is utilised, can run the following to get a best hidden parameters, and find the best accuracy:"
   ]
  },
  {
   "cell_type": "code",
   "execution_count": null,
   "metadata": {},
   "outputs": [],
   "source": [
    "# Train the model\n",
    "def train_with_steps(net,trainloader):\n",
    "    \n",
    "    #parameters:\n",
    "    #lr=learning rate\n",
    "    #Loss function-CrossEntropyLoss\n",
    "    #Optimizers tried: Adam,SGD\n",
    "    \n",
    "    \n",
    "    criterion = nn.CrossEntropyLoss()\n",
    "    optimizer = torch.optim.Adam(net.parameters(), lr=0.001)\n",
    "    #torch.manual_seed(0)\n",
    "    n_total_steps = len(trainloader)\n",
    "    num_epochs=30\n",
    "    \n",
    "    for epoch in range(num_epochs):\n",
    "        for i,(data,target) in enumerate(trainloader):\n",
    "            #optimizer.zero_grad()\n",
    "            \n",
    "            # Forward pass    \n",
    "            output = net(data)\n",
    "            loss = criterion(output, target)\n",
    "        \n",
    "        \n",
    "            # Backward and optimize\n",
    "            optimizer.zero_grad()\n",
    "            # backward pass: compute gradient of the loss with respect to model parameters\n",
    "            loss.backward()\n",
    "             # perform a single optimization step (parameter update)\n",
    "            optimizer.step()\n",
    "            \n",
    "            \n",
    "            if (i+1) % 32 == 0:\n",
    "                print (f'Epoch [{epoch+1}/{num_epochs}],Step:[{i+1}/{n_total_steps}] Loss: {loss.item():.5f}')\n",
    "                \n",
    "    acc=accuracy(net,valloader)\n",
    "    return acc"
   ]
  },
  {
   "cell_type": "code",
   "execution_count": null,
   "metadata": {},
   "outputs": [],
   "source": [
    "h1=[50,75,100]\n",
    "h2=[10,15,20]\n",
    "storage=dict()\n",
    "for i in h1:\n",
    "    for x in h2:\n",
    "        net=two_hidden(i,x)\n",
    "        storage[i,x]=train_with_steps(net,trainloader)\n",
    "        \n",
    "print(storage)"
   ]
  },
  {
   "cell_type": "code",
   "execution_count": null,
   "metadata": {},
   "outputs": [],
   "source": [
    "net_best=two_hidden()\n",
    "train_with_steps(net_best,trainloader)\n",
    "accuracy_test(net_best,testloader)"
   ]
  }
 ],
 "metadata": {
  "kernelspec": {
   "display_name": "pytorch",
   "language": "python",
   "name": "pytorch"
  },
  "language_info": {
   "codemirror_mode": {
    "name": "ipython",
    "version": 3
   },
   "file_extension": ".py",
   "mimetype": "text/x-python",
   "name": "python",
   "nbconvert_exporter": "python",
   "pygments_lexer": "ipython3",
   "version": "3.7.7"
  }
 },
 "nbformat": 4,
 "nbformat_minor": 2
}

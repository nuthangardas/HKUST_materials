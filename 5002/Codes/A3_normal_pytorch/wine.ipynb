{
 "cells": [
  {
   "cell_type": "code",
   "execution_count": 1,
   "metadata": {},
   "outputs": [],
   "source": [
    "# Packages\n",
    "import numpy as np\n",
    "import torch\n",
    "import torch.nn as nn\n",
    "import torch.nn.functional as F\n",
    "from sklearn.model_selection import train_test_split\n",
    "import torch.optim as optim\n",
    "import matplotlib.pyplot as plt\n",
    "import time"
   ]
  },
  {
   "cell_type": "code",
   "execution_count": 2,
   "metadata": {},
   "outputs": [
    {
     "data": {
      "text/plain": [
       "array([[1.225e+01, 1.730e+00, 2.120e+00, ..., 1.000e+00, 3.170e+00,\n",
       "        5.100e+02],\n",
       "       [1.475e+01, 1.730e+00, 2.390e+00, ..., 1.250e+00, 2.730e+00,\n",
       "        1.150e+03],\n",
       "       [1.200e+01, 1.510e+00, 2.420e+00, ..., 1.050e+00, 2.650e+00,\n",
       "        4.500e+02],\n",
       "       ...,\n",
       "       [1.267e+01, 9.800e-01, 2.240e+00, ..., 1.230e+00, 3.160e+00,\n",
       "        4.500e+02],\n",
       "       [1.311e+01, 1.010e+00, 1.700e+00, ..., 1.120e+00, 3.180e+00,\n",
       "        5.020e+02],\n",
       "       [1.316e+01, 2.360e+00, 2.670e+00, ..., 1.030e+00, 3.170e+00,\n",
       "        1.185e+03]], dtype=float32)"
      ]
     },
     "execution_count": 2,
     "metadata": {},
     "output_type": "execute_result"
    }
   ],
   "source": [
    "#Input data\n",
    "data=np.load(\"/Users/gardasnagarjun/Downloads/datasets/bi-class/wine.npz\", mmap_mode='r')\n",
    "X_train=data['train_X'].astype('float32')\n",
    "train_Y=data['train_Y'].astype('long')\n",
    "X_test,test_Y=data['test_X'].astype('float32'),data['test_Y'].astype('long')\n",
    "X_train"
   ]
  },
  {
   "cell_type": "code",
   "execution_count": 3,
   "metadata": {},
   "outputs": [
    {
     "data": {
      "text/plain": [
       "array([1, 0, 1, 1, 1, 1, 1, 0, 1, 1, 1, 1, 0, 1, 1, 0, 1, 0, 0, 0, 0, 0,\n",
       "       1, 0, 1, 1, 0, 1, 1, 0, 1, 0, 1, 0, 0, 0, 1, 1, 0, 0, 0, 0, 1, 1,\n",
       "       0, 0, 0, 0, 0, 1, 1, 1, 1, 1, 1, 0, 0, 1, 1, 0, 0, 0, 0, 0, 0, 1,\n",
       "       0, 0, 0, 1, 1, 0, 0, 0, 0, 1, 1, 1, 0, 0, 0, 0, 0, 1, 0, 0, 0, 0,\n",
       "       0, 0, 1, 0, 0, 0, 0, 1, 0, 0, 1, 0, 1, 0, 0, 0, 0, 0, 0, 1, 0, 0,\n",
       "       0, 0, 0, 0, 0, 0, 1, 0, 1, 1, 0, 1, 0, 1, 1, 0, 1, 0, 0, 0, 0, 0,\n",
       "       1, 1, 1, 0, 1, 0, 0, 1, 1, 0])"
      ]
     },
     "execution_count": 3,
     "metadata": {},
     "output_type": "execute_result"
    }
   ],
   "source": [
    "train_Y"
   ]
  },
  {
   "cell_type": "code",
   "execution_count": 4,
   "metadata": {},
   "outputs": [
    {
     "name": "stdout",
     "output_type": "stream",
     "text": [
      "113\n",
      "29\n"
     ]
    }
   ],
   "source": [
    "# training dataset is split into train, validation dataset\n",
    "train_X,val_X,train_y,val_Y=train_test_split(X_train,train_Y,test_size=0.2)\n",
    "\n",
    "print(len(train_X))\n",
    "print(len(val_X))"
   ]
  },
  {
   "cell_type": "code",
   "execution_count": 5,
   "metadata": {},
   "outputs": [
    {
     "name": "stdout",
     "output_type": "stream",
     "text": [
      "(113, 13) (29, 13) (113,) (29,)\n",
      "142\n"
     ]
    }
   ],
   "source": [
    "#checking the shape\n",
    "print(train_X.shape,val_X.shape,train_y.shape,val_Y.shape)\n",
    "print(len(X_train))"
   ]
  },
  {
   "cell_type": "code",
   "execution_count": 6,
   "metadata": {},
   "outputs": [
    {
     "name": "stdout",
     "output_type": "stream",
     "text": [
      "torch.Size([1, 13])\n",
      "torch.Size([2, 13])\n",
      "torch.Size([1, 13])\n",
      "torch.Size([1, 13])\n"
     ]
    }
   ],
   "source": [
    "#Construct main,train,validation and test datasets for torch.util.data.dataloader:\n",
    "\n",
    "main_data=[]\n",
    "for i in range(len(X_train)):\n",
    "    X_train.astype('float32')\n",
    "    train_Y.astype('long')\n",
    "    main_data.append([X_train[i],train_Y[i]])\n",
    "    \n",
    "mainloader=torch.utils.data.DataLoader(main_data,shuffle=True,batch_size=1)\n",
    "i4,l4=next(iter(mainloader))\n",
    "print(i4.shape)\n",
    "\n",
    "train_data = []\n",
    "for i in range(len(train_X)):\n",
    "    train_X.astype('float32')\n",
    "    train_y.astype('long')\n",
    "    train_data.append([train_X[i], train_y[i]])\n",
    "\n",
    "trainloader = torch.utils.data.DataLoader(train_data, shuffle=True, batch_size=2)\n",
    "i1, l1 = next(iter(trainloader))\n",
    "print(i1.shape)\n",
    "\n",
    "val_data=[]\n",
    "for i in range(len(val_X)):\n",
    "    val_X.astype('float32')\n",
    "    val_Y.astype('long')\n",
    "    val_data.append([val_X[i], val_Y[i]])\n",
    "\n",
    "valloader = torch.utils.data.DataLoader(val_data, shuffle=False, batch_size=1)\n",
    "i2, l2 = next(iter(valloader))\n",
    "print(i2.shape)\n",
    "\n",
    "\n",
    "test_data=[]\n",
    "for i in range(len(X_test)):\n",
    "    X_test.astype('float32')\n",
    "    test_Y.astype('long')\n",
    "    test_data.append([X_test[i],test_Y[i]])\n",
    "    \n",
    "testloader=torch.utils.data.DataLoader(test_data,shuffle=False)\n",
    "\n",
    "i3,l3=next(iter(testloader))\n",
    "print(i3.shape)"
   ]
  },
  {
   "cell_type": "code",
   "execution_count": 7,
   "metadata": {},
   "outputs": [
    {
     "name": "stdout",
     "output_type": "stream",
     "text": [
      "142\n",
      "57\n",
      "29\n",
      "36\n",
      "0 [tensor([[1.2720e+01, 1.8100e+00, 2.2000e+00, 1.8800e+01, 8.6000e+01, 2.2000e+00,\n",
      "         2.5300e+00, 2.6000e-01, 1.7700e+00, 3.9000e+00, 1.1600e+00, 3.1400e+00,\n",
      "         7.1400e+02]]), tensor([1])]\n"
     ]
    }
   ],
   "source": [
    "print(len(mainloader))\n",
    "print(len(trainloader))\n",
    "print(len(valloader))\n",
    "print(len(testloader))\n",
    "for i,j in enumerate(valloader):\n",
    "    print(i,j)\n",
    "    break"
   ]
  },
  {
   "cell_type": "code",
   "execution_count": 8,
   "metadata": {},
   "outputs": [],
   "source": [
    "\n",
    "#Define the model of your Neural Network:\n",
    "class One_hidden(nn.Module):\n",
    "    def __init__(self,n_hidden,n_output=2,n_feature=13):\n",
    "        super(One_hidden,self).__init__()\n",
    "        self.hidden=nn.Linear(n_feature,n_hidden)\n",
    "        self.output=nn.Linear(n_hidden,n_output)\n",
    "\n",
    "        \n",
    "    def forward(self,x):\n",
    "        x=F.relu(self.hidden(x))\n",
    "        x=self.output(x)\n",
    "        \n",
    "        return x\n",
    "\n"
   ]
  },
  {
   "cell_type": "code",
   "execution_count": 9,
   "metadata": {},
   "outputs": [
    {
     "name": "stdout",
     "output_type": "stream",
     "text": [
      "One_hidden(\n",
      "  (hidden): Linear(in_features=13, out_features=10, bias=True)\n",
      "  (output): Linear(in_features=10, out_features=2, bias=True)\n",
      ")\n"
     ]
    }
   ],
   "source": [
    "# to check whether the model is defined or not\n",
    "net_10=One_hidden(10)\n",
    "print(net_10)"
   ]
  },
  {
   "cell_type": "code",
   "execution_count": 10,
   "metadata": {},
   "outputs": [],
   "source": [
    "# Train the model\n",
    "# step parameter is used to train the model\n",
    "# loss is generated along with step size defined\n",
    "def train_with_steps(net,trainloader):\n",
    "    criterion = nn.CrossEntropyLoss()\n",
    "    optimizer = torch.optim.Adam(net.parameters(), lr=0.001)\n",
    "    #torch.manual_seed(0)\n",
    "    n_total_steps = len(trainloader)\n",
    "    num_epochs=20\n",
    "    \n",
    "    for epoch in range(num_epochs):\n",
    "        for i,(x,y) in enumerate(trainloader):\n",
    "            net.zero_grad()\n",
    "            \n",
    "            # Forward pass    \n",
    "            output = net(x)\n",
    "            loss = criterion(output, y)\n",
    "        \n",
    "        \n",
    "            # Backward and optimize\n",
    "            optimizer.zero_grad()\n",
    "            loss.backward()\n",
    "            optimizer.step()\n",
    "            \n",
    "            \n",
    "            if (i+1) % n_total_steps == 0:\n",
    "                print (f'Epoch [{epoch+1}/{num_epochs}],Step:[{i+1}/{n_total_steps}], Loss: {loss.item():.5f}')\n",
    "                \n",
    "    acc=accuracy(net,valloader)\n",
    "    return acc\n",
    "            \n",
    " #Calculate Accuracy:      \n",
    "def accuracy(net,valloader):\n",
    "    net.eval()\n",
    "    with torch.no_grad():\n",
    "        n_correct=0\n",
    "        n_samples=0\n",
    "        for x,y in valloader:\n",
    "            output=net(x)\n",
    "            _,predicted=torch.max(output.data,1)\n",
    "            n_samples+=y.size(0)\n",
    "            n_correct+=(predicted==y).sum().item()\n",
    "            \n",
    "        acc=100.0* n_correct/n_samples\n",
    "        print(f'Accuracy of the network for val data: {acc} %')\n",
    "        return acc"
   ]
  },
  {
   "cell_type": "code",
   "execution_count": 11,
   "metadata": {},
   "outputs": [],
   "source": [
    "def accuracy_test(net,testloader):\n",
    "    with torch.no_grad():\n",
    "        net.eval()\n",
    "        n_correct = 0\n",
    "        n_samples = 0\n",
    "        for z, y in testloader:\n",
    "            outputs = net(z)\n",
    "            # max returns (value ,index)\n",
    "            _, predicted = torch.max(outputs.data, 1)\n",
    "            n_samples += y.size(0)\n",
    "            n_correct += (predicted == y).sum().item()\n",
    "            \n",
    "        acc = 100.0 * n_correct / n_samples\n",
    "        print(f'Accuracy of the network for test data: {acc} %')"
   ]
  },
  {
   "cell_type": "code",
   "execution_count": null,
   "metadata": {},
   "outputs": [],
   "source": [
    "n_hidden=(i for i in range(1,11))\n",
    "storage=dict()\n",
    "\n",
    "for i in n_hidden:\n",
    "    net=One_hidden(i)\n",
    "    storage[i]=train_with_steps(net,trainloader)\n",
    "\n",
    "print(storage)"
   ]
  },
  {
   "cell_type": "code",
   "execution_count": null,
   "metadata": {},
   "outputs": [],
   "source": [
    "net_best=One_hidden(9)"
   ]
  },
  {
   "cell_type": "code",
   "execution_count": null,
   "metadata": {},
   "outputs": [],
   "source": [
    "train_with_steps(net_best,mainloader)"
   ]
  },
  {
   "cell_type": "code",
   "execution_count": null,
   "metadata": {},
   "outputs": [],
   "source": [
    "accuracy_test(net_best,testloader)"
   ]
  },
  {
   "cell_type": "code",
   "execution_count": 12,
   "metadata": {},
   "outputs": [],
   "source": [
    "# Model is trained over average loss per epoch:\n",
    "\n",
    "def model_train(net,trainloader):\n",
    "    criterion = nn.CrossEntropyLoss()\n",
    "    optimizer = torch.optim.Adam(net.parameters(), lr=0.001)\n",
    "    # number of epochs to train the model\n",
    "    n_epochs = 30  # suggest training between 20-50 epochs\n",
    "    loss_values=[]\n",
    "\n",
    "    for epoch in range(n_epochs):\n",
    "    # monitor training loss\n",
    "        train_loss = 0.0\n",
    "    \n",
    "    ###################\n",
    "    # train the model #\n",
    "    ###################\n",
    "        for data, target in trainloader:\n",
    "        # clear the gradients of all optimized variables\n",
    "            optimizer.zero_grad()\n",
    "        # forward pass: compute predicted outputs by passing inputs to the model\n",
    "            output = net(data)\n",
    "        # calculate the loss\n",
    "            loss = criterion(output, target)\n",
    "        # backward pass: compute gradient of the loss with respect to model parameters\n",
    "            loss.backward()\n",
    "        # perform a single optimization step (parameter update)\n",
    "            optimizer.step()\n",
    "        # update running training loss\n",
    "            train_loss += loss.item()*data.size(0)\n",
    "        \n",
    "    # print training statistics \n",
    "    # calculate average loss over an epoch\n",
    "        train_loss = train_loss/len(trainloader.dataset)\n",
    "        loss_values.append(train_loss)\n",
    "\n",
    "        print('Epoch: {} \\tTraining Loss: {:.6f}'.format(\n",
    "            epoch+1, \n",
    "            train_loss\n",
    "            ))\n",
    "    plt.plot(loss_values)\n",
    "    acc=accuracy(net,valloader)\n",
    "    return acc"
   ]
  },
  {
   "cell_type": "code",
   "execution_count": null,
   "metadata": {},
   "outputs": [],
   "source": [
    "model_train(net_best,trainloader)"
   ]
  },
  {
   "cell_type": "code",
   "execution_count": 13,
   "metadata": {},
   "outputs": [
    {
     "name": "stdout",
     "output_type": "stream",
     "text": [
      "Epoch: 1 \tTraining Loss: 0.941922\n",
      "Epoch: 2 \tTraining Loss: 0.771126\n",
      "Epoch: 3 \tTraining Loss: 0.750215\n",
      "Epoch: 4 \tTraining Loss: 0.731206\n",
      "Epoch: 5 \tTraining Loss: 0.734654\n",
      "Epoch: 6 \tTraining Loss: 0.703535\n",
      "Epoch: 7 \tTraining Loss: 0.703398\n",
      "Epoch: 8 \tTraining Loss: 0.687052\n",
      "Epoch: 9 \tTraining Loss: 0.677154\n",
      "Epoch: 10 \tTraining Loss: 0.658161\n",
      "Epoch: 11 \tTraining Loss: 0.648359\n",
      "Epoch: 12 \tTraining Loss: 0.638783\n",
      "Epoch: 13 \tTraining Loss: 0.624172\n",
      "Epoch: 14 \tTraining Loss: 0.634528\n",
      "Epoch: 15 \tTraining Loss: 0.606378\n",
      "Epoch: 16 \tTraining Loss: 0.593950\n",
      "Epoch: 17 \tTraining Loss: 0.592581\n",
      "Epoch: 18 \tTraining Loss: 0.586486\n",
      "Epoch: 19 \tTraining Loss: 0.590485\n",
      "Epoch: 20 \tTraining Loss: 0.565554\n",
      "Epoch: 21 \tTraining Loss: 0.566561\n",
      "Epoch: 22 \tTraining Loss: 0.560965\n",
      "Epoch: 23 \tTraining Loss: 0.562710\n",
      "Epoch: 24 \tTraining Loss: 0.541115\n",
      "Epoch: 25 \tTraining Loss: 0.562856\n",
      "Epoch: 26 \tTraining Loss: 0.547290\n",
      "Epoch: 27 \tTraining Loss: 0.526144\n",
      "Epoch: 28 \tTraining Loss: 0.532924\n",
      "Epoch: 29 \tTraining Loss: 0.529913\n",
      "Epoch: 30 \tTraining Loss: 0.533107\n",
      "Accuracy of the network for val data: 86.20689655172414 %\n",
      "Epoch: 1 \tTraining Loss: 68.449178\n",
      "Epoch: 2 \tTraining Loss: 42.316515\n",
      "Epoch: 3 \tTraining Loss: 22.950480\n",
      "Epoch: 4 \tTraining Loss: 8.493839\n",
      "Epoch: 5 \tTraining Loss: 1.325706\n",
      "Epoch: 6 \tTraining Loss: 0.708601\n",
      "Epoch: 7 \tTraining Loss: 0.701344\n",
      "Epoch: 8 \tTraining Loss: 0.698946\n",
      "Epoch: 9 \tTraining Loss: 0.696869\n",
      "Epoch: 10 \tTraining Loss: 0.694752\n",
      "Epoch: 11 \tTraining Loss: 0.692871\n",
      "Epoch: 12 \tTraining Loss: 0.691095\n",
      "Epoch: 13 \tTraining Loss: 0.689606\n",
      "Epoch: 14 \tTraining Loss: 0.688139\n",
      "Epoch: 15 \tTraining Loss: 0.686844\n",
      "Epoch: 16 \tTraining Loss: 0.685565\n",
      "Epoch: 17 \tTraining Loss: 0.684745\n",
      "Epoch: 18 \tTraining Loss: 0.683515\n",
      "Epoch: 19 \tTraining Loss: 0.682512\n",
      "Epoch: 20 \tTraining Loss: 0.681640\n",
      "Epoch: 21 \tTraining Loss: 0.680862\n",
      "Epoch: 22 \tTraining Loss: 0.680316\n",
      "Epoch: 23 \tTraining Loss: 0.679819\n",
      "Epoch: 24 \tTraining Loss: 0.679503\n",
      "Epoch: 25 \tTraining Loss: 0.679018\n",
      "Epoch: 26 \tTraining Loss: 0.678316\n",
      "Epoch: 27 \tTraining Loss: 0.678025\n",
      "Epoch: 28 \tTraining Loss: 0.677681\n",
      "Epoch: 29 \tTraining Loss: 0.677578\n",
      "Epoch: 30 \tTraining Loss: 0.677434\n",
      "Accuracy of the network for val data: 62.06896551724138 %\n",
      "Epoch: 1 \tTraining Loss: 3.049248\n",
      "Epoch: 2 \tTraining Loss: 0.690651\n",
      "Epoch: 3 \tTraining Loss: 0.683725\n",
      "Epoch: 4 \tTraining Loss: 0.682826\n",
      "Epoch: 5 \tTraining Loss: 0.682086\n",
      "Epoch: 6 \tTraining Loss: 0.681355\n",
      "Epoch: 7 \tTraining Loss: 0.680742\n",
      "Epoch: 8 \tTraining Loss: 0.680170\n",
      "Epoch: 9 \tTraining Loss: 0.679440\n",
      "Epoch: 10 \tTraining Loss: 0.679006\n",
      "Epoch: 11 \tTraining Loss: 0.678574\n",
      "Epoch: 12 \tTraining Loss: 0.678273\n",
      "Epoch: 13 \tTraining Loss: 0.677870\n",
      "Epoch: 14 \tTraining Loss: 0.677457\n",
      "Epoch: 15 \tTraining Loss: 0.677439\n",
      "Epoch: 16 \tTraining Loss: 0.677182\n",
      "Epoch: 17 \tTraining Loss: 0.677051\n",
      "Epoch: 18 \tTraining Loss: 0.676773\n",
      "Epoch: 19 \tTraining Loss: 0.676627\n",
      "Epoch: 20 \tTraining Loss: 0.676538\n",
      "Epoch: 21 \tTraining Loss: 0.676479\n",
      "Epoch: 22 \tTraining Loss: 0.676542\n",
      "Epoch: 23 \tTraining Loss: 0.676385\n",
      "Epoch: 24 \tTraining Loss: 0.676684\n",
      "Epoch: 25 \tTraining Loss: 0.676267\n",
      "Epoch: 26 \tTraining Loss: 0.676480\n",
      "Epoch: 27 \tTraining Loss: 0.676107\n",
      "Epoch: 28 \tTraining Loss: 0.676170\n",
      "Epoch: 29 \tTraining Loss: 0.676142\n",
      "Epoch: 30 \tTraining Loss: 0.676051\n",
      "Accuracy of the network for val data: 62.06896551724138 %\n",
      "Epoch: 1 \tTraining Loss: 4.791614\n",
      "Epoch: 2 \tTraining Loss: 1.248136\n",
      "Epoch: 3 \tTraining Loss: 0.606931\n",
      "Epoch: 4 \tTraining Loss: 0.590551\n",
      "Epoch: 5 \tTraining Loss: 0.584618\n",
      "Epoch: 6 \tTraining Loss: 0.583663\n",
      "Epoch: 7 \tTraining Loss: 0.585043\n",
      "Epoch: 8 \tTraining Loss: 0.577405\n",
      "Epoch: 9 \tTraining Loss: 0.577493\n",
      "Epoch: 10 \tTraining Loss: 0.571462\n",
      "Epoch: 11 \tTraining Loss: 0.567576\n",
      "Epoch: 12 \tTraining Loss: 0.577865\n",
      "Epoch: 13 \tTraining Loss: 0.564507\n",
      "Epoch: 14 \tTraining Loss: 0.555628\n",
      "Epoch: 15 \tTraining Loss: 0.553354\n",
      "Epoch: 16 \tTraining Loss: 0.550227\n",
      "Epoch: 17 \tTraining Loss: 0.540827\n",
      "Epoch: 18 \tTraining Loss: 0.537575\n",
      "Epoch: 19 \tTraining Loss: 0.534297\n",
      "Epoch: 20 \tTraining Loss: 0.528434\n",
      "Epoch: 21 \tTraining Loss: 0.522417\n",
      "Epoch: 22 \tTraining Loss: 0.519277\n",
      "Epoch: 23 \tTraining Loss: 0.509703\n",
      "Epoch: 24 \tTraining Loss: 0.506195\n",
      "Epoch: 25 \tTraining Loss: 0.499552\n",
      "Epoch: 26 \tTraining Loss: 0.490231\n",
      "Epoch: 27 \tTraining Loss: 0.485432\n",
      "Epoch: 28 \tTraining Loss: 0.479764\n",
      "Epoch: 29 \tTraining Loss: 0.476398\n",
      "Epoch: 30 \tTraining Loss: 0.473679\n",
      "Accuracy of the network for val data: 82.75862068965517 %\n",
      "Epoch: 1 \tTraining Loss: 11.799710\n",
      "Epoch: 2 \tTraining Loss: 0.939760\n",
      "Epoch: 3 \tTraining Loss: 0.501578\n",
      "Epoch: 4 \tTraining Loss: 0.562358\n",
      "Epoch: 5 \tTraining Loss: 0.466791\n",
      "Epoch: 6 \tTraining Loss: 0.438313\n",
      "Epoch: 7 \tTraining Loss: 0.606080\n",
      "Epoch: 8 \tTraining Loss: 0.441941\n",
      "Epoch: 9 \tTraining Loss: 0.431470\n",
      "Epoch: 10 \tTraining Loss: 0.507098\n",
      "Epoch: 11 \tTraining Loss: 0.494625\n",
      "Epoch: 12 \tTraining Loss: 0.387162\n",
      "Epoch: 13 \tTraining Loss: 0.375480\n",
      "Epoch: 14 \tTraining Loss: 0.422526\n",
      "Epoch: 15 \tTraining Loss: 0.405950\n",
      "Epoch: 16 \tTraining Loss: 0.387641\n",
      "Epoch: 17 \tTraining Loss: 0.388895\n",
      "Epoch: 18 \tTraining Loss: 0.348428\n",
      "Epoch: 19 \tTraining Loss: 0.334333\n",
      "Epoch: 20 \tTraining Loss: 0.377262\n",
      "Epoch: 21 \tTraining Loss: 0.347789\n",
      "Epoch: 22 \tTraining Loss: 0.308108\n",
      "Epoch: 23 \tTraining Loss: 0.325101\n",
      "Epoch: 24 \tTraining Loss: 0.375968\n",
      "Epoch: 25 \tTraining Loss: 0.320119\n",
      "Epoch: 26 \tTraining Loss: 0.310769\n",
      "Epoch: 27 \tTraining Loss: 0.322546\n",
      "Epoch: 28 \tTraining Loss: 0.306501\n",
      "Epoch: 29 \tTraining Loss: 0.345336\n",
      "Epoch: 30 \tTraining Loss: 0.290342\n",
      "Accuracy of the network for val data: 86.20689655172414 %\n",
      "Epoch: 1 \tTraining Loss: 29.555352\n",
      "Epoch: 2 \tTraining Loss: 6.406167\n",
      "Epoch: 3 \tTraining Loss: 5.163994\n",
      "Epoch: 4 \tTraining Loss: 4.132537\n",
      "Epoch: 5 \tTraining Loss: 3.565479\n",
      "Epoch: 6 \tTraining Loss: 2.581044\n",
      "Epoch: 7 \tTraining Loss: 1.977090\n",
      "Epoch: 8 \tTraining Loss: 1.334755\n",
      "Epoch: 9 \tTraining Loss: 0.955252\n",
      "Epoch: 10 \tTraining Loss: 0.667741\n",
      "Epoch: 11 \tTraining Loss: 0.545622\n",
      "Epoch: 12 \tTraining Loss: 0.513787\n",
      "Epoch: 13 \tTraining Loss: 0.479913\n",
      "Epoch: 14 \tTraining Loss: 0.468085\n",
      "Epoch: 15 \tTraining Loss: 0.448246\n",
      "Epoch: 16 \tTraining Loss: 0.463223\n",
      "Epoch: 17 \tTraining Loss: 0.420701\n",
      "Epoch: 18 \tTraining Loss: 0.453618\n",
      "Epoch: 19 \tTraining Loss: 0.402078\n",
      "Epoch: 20 \tTraining Loss: 0.418861\n",
      "Epoch: 21 \tTraining Loss: 0.469207\n",
      "Epoch: 22 \tTraining Loss: 0.363139\n",
      "Epoch: 23 \tTraining Loss: 0.355491\n",
      "Epoch: 24 \tTraining Loss: 0.365390\n",
      "Epoch: 25 \tTraining Loss: 0.353705\n",
      "Epoch: 26 \tTraining Loss: 0.344435\n",
      "Epoch: 27 \tTraining Loss: 0.337021\n",
      "Epoch: 28 \tTraining Loss: 0.364309\n",
      "Epoch: 29 \tTraining Loss: 0.345864\n",
      "Epoch: 30 \tTraining Loss: 0.329094\n",
      "Accuracy of the network for val data: 79.3103448275862 %\n",
      "Epoch: 1 \tTraining Loss: 2.232133\n",
      "Epoch: 2 \tTraining Loss: 1.045074\n",
      "Epoch: 3 \tTraining Loss: 0.627940\n",
      "Epoch: 4 \tTraining Loss: 0.576800\n",
      "Epoch: 5 \tTraining Loss: 0.513912\n",
      "Epoch: 6 \tTraining Loss: 0.490659\n",
      "Epoch: 7 \tTraining Loss: 0.484854\n",
      "Epoch: 8 \tTraining Loss: 0.464415\n",
      "Epoch: 9 \tTraining Loss: 0.449348\n",
      "Epoch: 10 \tTraining Loss: 0.424584\n",
      "Epoch: 11 \tTraining Loss: 0.451339\n",
      "Epoch: 12 \tTraining Loss: 0.416950\n",
      "Epoch: 13 \tTraining Loss: 0.387299\n",
      "Epoch: 14 \tTraining Loss: 0.424605\n",
      "Epoch: 15 \tTraining Loss: 0.421018\n",
      "Epoch: 16 \tTraining Loss: 0.372960\n",
      "Epoch: 17 \tTraining Loss: 0.361854\n",
      "Epoch: 18 \tTraining Loss: 0.322913\n",
      "Epoch: 19 \tTraining Loss: 0.366186\n",
      "Epoch: 20 \tTraining Loss: 0.350723\n",
      "Epoch: 21 \tTraining Loss: 0.300989\n",
      "Epoch: 22 \tTraining Loss: 0.353683\n",
      "Epoch: 23 \tTraining Loss: 0.325023\n",
      "Epoch: 24 \tTraining Loss: 0.305801\n",
      "Epoch: 25 \tTraining Loss: 0.305887\n",
      "Epoch: 26 \tTraining Loss: 0.303463\n",
      "Epoch: 27 \tTraining Loss: 0.331490\n",
      "Epoch: 28 \tTraining Loss: 0.327748\n",
      "Epoch: 29 \tTraining Loss: 0.302439\n",
      "Epoch: 30 \tTraining Loss: 0.292368\n",
      "Accuracy of the network for val data: 96.55172413793103 %\n",
      "Epoch: 1 \tTraining Loss: 0.872046\n",
      "Epoch: 2 \tTraining Loss: 0.481668\n",
      "Epoch: 3 \tTraining Loss: 0.562053\n",
      "Epoch: 4 \tTraining Loss: 0.473880\n",
      "Epoch: 5 \tTraining Loss: 0.452344\n",
      "Epoch: 6 \tTraining Loss: 0.476482\n",
      "Epoch: 7 \tTraining Loss: 0.512811\n",
      "Epoch: 8 \tTraining Loss: 0.465032\n",
      "Epoch: 9 \tTraining Loss: 0.473601\n",
      "Epoch: 10 \tTraining Loss: 0.436743\n",
      "Epoch: 11 \tTraining Loss: 0.455026\n",
      "Epoch: 12 \tTraining Loss: 0.404768\n",
      "Epoch: 13 \tTraining Loss: 0.395080\n",
      "Epoch: 14 \tTraining Loss: 0.395980\n",
      "Epoch: 15 \tTraining Loss: 0.391058\n",
      "Epoch: 16 \tTraining Loss: 0.407941\n",
      "Epoch: 17 \tTraining Loss: 0.355383\n",
      "Epoch: 18 \tTraining Loss: 0.374388\n",
      "Epoch: 19 \tTraining Loss: 0.350078\n",
      "Epoch: 20 \tTraining Loss: 0.344721\n",
      "Epoch: 21 \tTraining Loss: 0.360111\n"
     ]
    },
    {
     "name": "stdout",
     "output_type": "stream",
     "text": [
      "Epoch: 22 \tTraining Loss: 0.316107\n",
      "Epoch: 23 \tTraining Loss: 0.361811\n",
      "Epoch: 24 \tTraining Loss: 0.289141\n",
      "Epoch: 25 \tTraining Loss: 0.313200\n",
      "Epoch: 26 \tTraining Loss: 0.393034\n",
      "Epoch: 27 \tTraining Loss: 0.319905\n",
      "Epoch: 28 \tTraining Loss: 0.352040\n",
      "Epoch: 29 \tTraining Loss: 0.271518\n",
      "Epoch: 30 \tTraining Loss: 0.257488\n",
      "Accuracy of the network for val data: 82.75862068965517 %\n",
      "Epoch: 1 \tTraining Loss: 2.436196\n",
      "Epoch: 2 \tTraining Loss: 0.533713\n",
      "Epoch: 3 \tTraining Loss: 0.552405\n",
      "Epoch: 4 \tTraining Loss: 0.595899\n",
      "Epoch: 5 \tTraining Loss: 0.501958\n",
      "Epoch: 6 \tTraining Loss: 0.466973\n",
      "Epoch: 7 \tTraining Loss: 0.628571\n",
      "Epoch: 8 \tTraining Loss: 0.479478\n",
      "Epoch: 9 \tTraining Loss: 0.444321\n",
      "Epoch: 10 \tTraining Loss: 0.389852\n",
      "Epoch: 11 \tTraining Loss: 0.403230\n",
      "Epoch: 12 \tTraining Loss: 0.421326\n",
      "Epoch: 13 \tTraining Loss: 0.410196\n",
      "Epoch: 14 \tTraining Loss: 0.397524\n",
      "Epoch: 15 \tTraining Loss: 0.358941\n",
      "Epoch: 16 \tTraining Loss: 0.325436\n",
      "Epoch: 17 \tTraining Loss: 0.342222\n",
      "Epoch: 18 \tTraining Loss: 0.338933\n",
      "Epoch: 19 \tTraining Loss: 0.325431\n",
      "Epoch: 20 \tTraining Loss: 0.347985\n",
      "Epoch: 21 \tTraining Loss: 0.317495\n",
      "Epoch: 22 \tTraining Loss: 0.385419\n",
      "Epoch: 23 \tTraining Loss: 0.312294\n",
      "Epoch: 24 \tTraining Loss: 0.288161\n",
      "Epoch: 25 \tTraining Loss: 0.296138\n",
      "Epoch: 26 \tTraining Loss: 0.304335\n",
      "Epoch: 27 \tTraining Loss: 0.283866\n",
      "Epoch: 28 \tTraining Loss: 0.265625\n",
      "Epoch: 29 \tTraining Loss: 0.284931\n",
      "Epoch: 30 \tTraining Loss: 0.269713\n",
      "Accuracy of the network for val data: 96.55172413793103 %\n",
      "Epoch: 1 \tTraining Loss: 38.476959\n",
      "Epoch: 2 \tTraining Loss: 3.758159\n",
      "Epoch: 3 \tTraining Loss: 3.686403\n",
      "Epoch: 4 \tTraining Loss: 2.971852\n",
      "Epoch: 5 \tTraining Loss: 1.944484\n",
      "Epoch: 6 \tTraining Loss: 2.098621\n",
      "Epoch: 7 \tTraining Loss: 1.008862\n",
      "Epoch: 8 \tTraining Loss: 0.703910\n",
      "Epoch: 9 \tTraining Loss: 0.648164\n",
      "Epoch: 10 \tTraining Loss: 0.522084\n",
      "Epoch: 11 \tTraining Loss: 0.496746\n",
      "Epoch: 12 \tTraining Loss: 0.471804\n",
      "Epoch: 13 \tTraining Loss: 0.490103\n",
      "Epoch: 14 \tTraining Loss: 0.438616\n",
      "Epoch: 15 \tTraining Loss: 0.401684\n",
      "Epoch: 16 \tTraining Loss: 0.418637\n",
      "Epoch: 17 \tTraining Loss: 0.397247\n",
      "Epoch: 18 \tTraining Loss: 0.372223\n",
      "Epoch: 19 \tTraining Loss: 0.418204\n",
      "Epoch: 20 \tTraining Loss: 0.351915\n",
      "Epoch: 21 \tTraining Loss: 0.346548\n",
      "Epoch: 22 \tTraining Loss: 0.347837\n",
      "Epoch: 23 \tTraining Loss: 0.337970\n",
      "Epoch: 24 \tTraining Loss: 0.335823\n",
      "Epoch: 25 \tTraining Loss: 0.286741\n",
      "Epoch: 26 \tTraining Loss: 0.340880\n",
      "Epoch: 27 \tTraining Loss: 0.395364\n",
      "Epoch: 28 \tTraining Loss: 0.293621\n",
      "Epoch: 29 \tTraining Loss: 0.278298\n",
      "Epoch: 30 \tTraining Loss: 0.317458\n",
      "Accuracy of the network for val data: 93.10344827586206 %\n",
      "{1: 86.20689655172414, 2: 62.06896551724138, 3: 62.06896551724138, 4: 82.75862068965517, 5: 86.20689655172414, 6: 79.3103448275862, 7: 96.55172413793103, 8: 82.75862068965517, 9: 96.55172413793103, 10: 93.10344827586206}\n"
     ]
    },
    {
     "data": {
      "image/png": "[encoded data removed]",
      "text/plain": [
       "<Figure size 432x288 with 1 Axes>"
      ]
     },
     "metadata": {
      "needs_background": "light"
     },
     "output_type": "display_data"
    }
   ],
   "source": [
    "# to find the best hidden node, train and test the accuracies of such model, find the best one:\n",
    "\n",
    "n_hidden=(i for i in range(1,11))\n",
    "storage=dict()\n",
    "\n",
    "for i in n_hidden:\n",
    "    net=One_hidden(i)\n",
    "    storage[i]=model_train(net,trainloader)\n",
    "    \n",
    "print(storage)"
   ]
  },
  {
   "cell_type": "code",
   "execution_count": 14,
   "metadata": {
    "scrolled": true
   },
   "outputs": [
    {
     "name": "stdout",
     "output_type": "stream",
     "text": [
      "Epoch: 1 \tTraining Loss: 4.145105\n",
      "Epoch: 2 \tTraining Loss: 0.534644\n",
      "Epoch: 3 \tTraining Loss: 0.552931\n",
      "Epoch: 4 \tTraining Loss: 0.690980\n",
      "Epoch: 5 \tTraining Loss: 0.531536\n",
      "Epoch: 6 \tTraining Loss: 0.421271\n",
      "Epoch: 7 \tTraining Loss: 0.421889\n",
      "Epoch: 8 \tTraining Loss: 0.461244\n",
      "Epoch: 9 \tTraining Loss: 0.421176\n",
      "Epoch: 10 \tTraining Loss: 0.401006\n",
      "Epoch: 11 \tTraining Loss: 0.401577\n",
      "Epoch: 12 \tTraining Loss: 0.380044\n",
      "Epoch: 13 \tTraining Loss: 0.342821\n",
      "Epoch: 14 \tTraining Loss: 0.357685\n",
      "Epoch: 15 \tTraining Loss: 0.338827\n",
      "Epoch: 16 \tTraining Loss: 0.323408\n",
      "Epoch: 17 \tTraining Loss: 0.370263\n",
      "Epoch: 18 \tTraining Loss: 0.304510\n",
      "Epoch: 19 \tTraining Loss: 0.295227\n",
      "Epoch: 20 \tTraining Loss: 0.299337\n",
      "Epoch: 21 \tTraining Loss: 0.317901\n",
      "Epoch: 22 \tTraining Loss: 0.269959\n",
      "Epoch: 23 \tTraining Loss: 0.244064\n",
      "Epoch: 24 \tTraining Loss: 0.269228\n",
      "Epoch: 25 \tTraining Loss: 0.257134\n",
      "Epoch: 26 \tTraining Loss: 0.286006\n",
      "Epoch: 27 \tTraining Loss: 0.254148\n",
      "Epoch: 28 \tTraining Loss: 0.253876\n",
      "Epoch: 29 \tTraining Loss: 0.259309\n",
      "Epoch: 30 \tTraining Loss: 0.215146\n",
      "Accuracy of the network for val data: 79.3103448275862 %\n",
      "Training time: 2.210202932357788s\n"
     ]
    },
    {
     "data": {
      "image/png": "[encoded data removed]",
      "text/plain": [
       "<Figure size 432x288 with 1 Axes>"
      ]
     },
     "metadata": {
      "needs_background": "light"
     },
     "output_type": "display_data"
    }
   ],
   "source": [
    "start_time_best=time.time()\n",
    "model_best=One_hidden(7) # Best parameter\n",
    "model_train(model_best,mainloader)\n",
    "end_time_best=time.time()\n",
    "print(f\"Training time: {end_time_best-start_time_best}s\") # Training time"
   ]
  },
  {
   "cell_type": "code",
   "execution_count": 15,
   "metadata": {
    "scrolled": true
   },
   "outputs": [
    {
     "name": "stdout",
     "output_type": "stream",
     "text": [
      "Accuracy of the network for test data: 77.77777777777777 %\n"
     ]
    }
   ],
   "source": [
    "accuracy_test(model_best,testloader) # Final accuracy"
   ]
  },
  {
   "cell_type": "code",
   "execution_count": null,
   "metadata": {},
   "outputs": [],
   "source": []
  }
 ],
 "metadata": {
  "kernelspec": {
   "display_name": "pytorch",
   "language": "python",
   "name": "pytorch"
  },
  "language_info": {
   "codemirror_mode": {
    "name": "ipython",
    "version": 3
   },
   "file_extension": ".py",
   "mimetype": "text/x-python",
   "name": "python",
   "nbconvert_exporter": "python",
   "pygments_lexer": "ipython3",
   "version": "3.7.7"
  }
 },
 "nbformat": 4,
 "nbformat_minor": 2
}

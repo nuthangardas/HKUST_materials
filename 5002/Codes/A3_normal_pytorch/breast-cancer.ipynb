{
 "cells": [
  {
   "cell_type": "code",
   "execution_count": 1,
   "metadata": {},
   "outputs": [],
   "source": [
    "# Packages\n",
    "import numpy as np\n",
    "import torch\n",
    "import torch.nn as nn\n",
    "import torch.nn.functional as F\n",
    "from sklearn.model_selection import train_test_split\n",
    "import torch.optim as optim\n",
    "import matplotlib.pyplot as plt\n",
    "import time\n"
   ]
  },
  {
   "cell_type": "code",
   "execution_count": 2,
   "metadata": {},
   "outputs": [
    {
     "data": {
      "text/plain": [
       "array([[-0.829218,  1.      , -0.111111, ...,  0.333333,  0.333333,\n",
       "         1.      ],\n",
       "       [-0.82036 ,  0.555556,  0.333333, ..., -0.111111,  1.      ,\n",
       "        -1.      ],\n",
       "       [-0.838149, -0.555556, -1.      , ...,  0.333333, -1.      ,\n",
       "        -1.      ],\n",
       "       ...,\n",
       "       [-0.835423, -0.777778, -1.      , ..., -1.      , -1.      ,\n",
       "        -1.      ],\n",
       "       [-0.815531,  1.      , -0.555556, ..., -0.333333, -1.      ,\n",
       "        -1.      ],\n",
       "       [-0.836771, -1.      , -1.      , ..., -0.555556, -1.      ,\n",
       "        -1.      ]], dtype=float32)"
      ]
     },
     "execution_count": 2,
     "metadata": {},
     "output_type": "execute_result"
    }
   ],
   "source": [
    "#Input data\n",
    "data=np.load(\"/Users/gardasnagarjun/Downloads/datasets/bi-class/breast-cancer.npz\", mmap_mode='r')\n",
    "X_train=data['train_X'].astype('float32')\n",
    "train_Y=data['train_Y'].astype('long')\n",
    "X_test,test_Y=data['test_X'].astype('float32'),data['test_Y'].astype('long')\n",
    "X_train"
   ]
  },
  {
   "cell_type": "code",
   "execution_count": 3,
   "metadata": {},
   "outputs": [
    {
     "data": {
      "text/plain": [
       "array([0, 0, 1, 0, 0, 1, 1, 1, 0, 1, 1, 1, 1, 1, 1, 1, 1, 1, 1, 0, 1, 1,\n",
       "       1, 1, 0, 1, 1, 1, 1, 0, 0, 0, 0, 1, 1, 1, 1, 1, 1, 1, 0, 0, 1, 1,\n",
       "       0, 1, 1, 1, 1, 0, 0, 1, 1, 1, 1, 1, 1, 0, 0, 0, 0, 0, 1, 1, 1, 1,\n",
       "       1, 1, 1, 1, 0, 0, 0, 1, 0, 1, 1, 1, 1, 0, 1, 1, 1, 1, 1, 1, 1, 0,\n",
       "       1, 0, 0, 0, 1, 1, 0, 1, 0, 0, 1, 0, 1, 1, 1, 0, 1, 1, 0, 1, 1, 1,\n",
       "       1, 1, 0, 0, 1, 0, 0, 1, 0, 1, 1, 0, 0, 0, 0, 1, 1, 0, 0, 1, 0, 1,\n",
       "       0, 1, 1, 1, 1, 0, 1, 1, 0, 1, 1, 1, 1, 1, 1, 1, 0, 0, 1, 0, 1, 0,\n",
       "       1, 0, 0, 1, 1, 0, 1, 0, 0, 0, 1, 0, 0, 0, 1, 1, 1, 1, 0, 1, 0, 1,\n",
       "       1, 1, 1, 0, 1, 0, 1, 1, 1, 1, 0, 1, 1, 1, 0, 1, 1, 1, 1, 1, 0, 1,\n",
       "       1, 1, 0, 0, 0, 1, 1, 0, 0, 1, 1, 1, 0, 0, 1, 0, 0, 0, 0, 1, 0, 1,\n",
       "       0, 1, 1, 1, 1, 1, 0, 0, 0, 0, 1, 1, 1, 1, 0, 1, 0, 1, 1, 1, 0, 1,\n",
       "       1, 0, 1, 0, 1, 1, 1, 1, 0, 1, 1, 0, 0, 0, 1, 1, 0, 1, 1, 1, 0, 1,\n",
       "       0, 0, 0, 0, 1, 0, 1, 1, 1, 1, 1, 0, 1, 1, 1, 0, 0, 1, 1, 0, 0, 1,\n",
       "       0, 0, 1, 1, 1, 1, 1, 1, 0, 1, 1, 0, 1, 0, 1, 0, 0, 0, 0, 1, 1, 1,\n",
       "       1, 0, 0, 0, 1, 0, 1, 1, 1, 0, 1, 1, 1, 1, 0, 0, 0, 0, 1, 1, 0, 0,\n",
       "       1, 1, 1, 1, 0, 1, 1, 1, 1, 1, 1, 0, 1, 1, 1, 0, 1, 1, 1, 1, 0, 1,\n",
       "       0, 0, 1, 1, 1, 1, 0, 1, 1, 1, 0, 1, 1, 1, 0, 1, 1, 0, 1, 1, 1, 0,\n",
       "       0, 1, 0, 1, 1, 1, 1, 1, 0, 0, 1, 0, 1, 1, 0, 0, 0, 1, 1, 1, 1, 0,\n",
       "       1, 1, 1, 0, 0, 1, 1, 1, 0, 1, 0, 0, 1, 0, 1, 0, 1, 0, 1, 1, 0, 1,\n",
       "       1, 1, 1, 1, 1, 1, 1, 1, 1, 0, 0, 0, 0, 1, 0, 1, 1, 0, 1, 1, 1, 1,\n",
       "       1, 1, 1, 1, 1, 1, 1, 1, 1, 1, 1, 1, 0, 1, 1, 1, 1, 1, 1, 1, 1, 0,\n",
       "       1, 1, 1, 0, 0, 1, 0, 1, 1, 1, 1, 1, 1, 1, 1, 0, 0, 0, 1, 0, 1, 1,\n",
       "       1, 1, 0, 0, 1, 1, 1, 1, 0, 1, 0, 1, 1, 0, 1, 1, 1, 1, 1, 1, 1, 1,\n",
       "       1, 0, 0, 1, 1, 1, 0, 1, 0, 1, 0, 0, 0, 1, 1, 1, 1, 1, 1, 0, 0, 1,\n",
       "       1, 0, 1, 0, 1, 1, 1, 1, 1, 0, 1, 1, 1, 1, 1, 1, 1, 0, 1])"
      ]
     },
     "execution_count": 3,
     "metadata": {},
     "output_type": "execute_result"
    }
   ],
   "source": [
    "train_Y"
   ]
  },
  {
   "cell_type": "code",
   "execution_count": 4,
   "metadata": {},
   "outputs": [
    {
     "name": "stdout",
     "output_type": "stream",
     "text": [
      "437\n",
      "110\n"
     ]
    }
   ],
   "source": [
    "# split the training dataset into train,val dataset\n",
    "train_X,val_X,train_y,val_Y=train_test_split(X_train,train_Y,test_size=0.2)\n",
    "\n",
    "print(len(train_X))\n",
    "print(len(val_X))"
   ]
  },
  {
   "cell_type": "code",
   "execution_count": 5,
   "metadata": {},
   "outputs": [
    {
     "name": "stdout",
     "output_type": "stream",
     "text": [
      "(437, 10) (110, 10) (437,) (110,)\n",
      "547\n"
     ]
    }
   ],
   "source": [
    "# Checking shape\n",
    "print(train_X.shape,val_X.shape,train_y.shape,val_Y.shape)\n",
    "print(len(X_train))"
   ]
  },
  {
   "cell_type": "code",
   "execution_count": 6,
   "metadata": {},
   "outputs": [
    {
     "name": "stdout",
     "output_type": "stream",
     "text": [
      "torch.Size([1, 10])\n",
      "torch.Size([1, 10])\n",
      "torch.Size([2, 10])\n",
      "torch.Size([1, 10])\n"
     ]
    }
   ],
   "source": [
    "\n",
    "#Construct main,train,validation and test datasets for torch.util.data.dataloader:\n",
    "\n",
    "main_data=[]\n",
    "for i in range(len(X_train)):\n",
    "    X_train.astype('float32')\n",
    "    train_Y.astype('long')\n",
    "    main_data.append([X_train[i],train_Y[i]])\n",
    "    \n",
    "mainloader=torch.utils.data.DataLoader(main_data,shuffle=True,batch_size=1)\n",
    "i4,l4=next(iter(mainloader))\n",
    "print(i4.shape)\n",
    "\n",
    "train_data = []\n",
    "for i in range(len(train_X)):\n",
    "    train_X.astype('float32')\n",
    "    train_y.astype('long')\n",
    "    train_data.append([train_X[i], train_y[i]])\n",
    "\n",
    "trainloader = torch.utils.data.DataLoader(train_data, shuffle=True, batch_size=1)\n",
    "i1, l1 = next(iter(trainloader))\n",
    "print(i1.shape)\n",
    "\n",
    "val_data=[]\n",
    "for i in range(len(val_X)):\n",
    "    val_X.astype('float32')\n",
    "    val_Y.astype('long')\n",
    "    val_data.append([val_X[i], val_Y[i]])\n",
    "\n",
    "valloader = torch.utils.data.DataLoader(val_data, shuffle=False, batch_size=2)\n",
    "i2, l2 = next(iter(valloader))\n",
    "print(i2.shape)\n",
    "\n",
    "\n",
    "test_data=[]\n",
    "for i in range(len(X_test)):\n",
    "    X_test.astype('float32')\n",
    "    test_Y.astype('long')\n",
    "    test_data.append([X_test[i],test_Y[i]])\n",
    "    \n",
    "testloader=torch.utils.data.DataLoader(test_data,shuffle=False)\n",
    "\n",
    "i3,l3=next(iter(testloader))\n",
    "print(i3.shape)"
   ]
  },
  {
   "cell_type": "code",
   "execution_count": 7,
   "metadata": {},
   "outputs": [
    {
     "name": "stdout",
     "output_type": "stream",
     "text": [
      "437\n",
      "55\n",
      "136\n",
      "0 [tensor([[-0.8264,  1.0000,  0.1111, -0.3333, -0.5556,  1.0000,  1.0000,  0.7778,\n",
      "          1.0000, -1.0000],\n",
      "        [-0.8255,  0.5556, -0.3333,  0.1111, -0.5556, -0.5556, -1.0000, -0.3333,\n",
      "         -0.5556, -1.0000]]), tensor([0, 1])]\n"
     ]
    }
   ],
   "source": [
    "print(len(trainloader))\n",
    "print(len(valloader))\n",
    "print(len(testloader))\n",
    "for i,j in enumerate(valloader):\n",
    "    print(i,j)\n",
    "    break"
   ]
  },
  {
   "cell_type": "code",
   "execution_count": 8,
   "metadata": {},
   "outputs": [],
   "source": [
    "#Define the model of your Neural Network:\n",
    "class One_hidden(nn.Module):\n",
    "    def __init__(self,n_hidden,n_output=2,n_feature=10):\n",
    "        super(One_hidden,self).__init__()\n",
    "        self.hidden=nn.Linear(n_feature,n_hidden)\n",
    "        self.output=nn.Linear(n_hidden,n_output)\n",
    "\n",
    "        \n",
    "    def forward(self,x):\n",
    "        x=F.relu(self.hidden(x))\n",
    "        x=self.output(x)\n",
    "        \n",
    "        return x\n"
   ]
  },
  {
   "cell_type": "code",
   "execution_count": 9,
   "metadata": {},
   "outputs": [
    {
     "name": "stdout",
     "output_type": "stream",
     "text": [
      "One_hidden(\n",
      "  (hidden): Linear(in_features=10, out_features=10, bias=True)\n",
      "  (output): Linear(in_features=10, out_features=2, bias=True)\n",
      ")\n"
     ]
    }
   ],
   "source": [
    "# Model definition\n",
    "net_10=One_hidden(10)\n",
    "print(net_10)"
   ]
  },
  {
   "cell_type": "markdown",
   "metadata": {},
   "source": [
    "## Train the model through  loss per epoch and step parameter:"
   ]
  },
  {
   "cell_type": "code",
   "execution_count": 10,
   "metadata": {},
   "outputs": [],
   "source": [
    "# Train the model\n",
    "def train_with_steps(net,trainloader):\n",
    "    criterion = nn.CrossEntropyLoss()\n",
    "    optimizer = torch.optim.SGD(net.parameters(), lr=0.1)\n",
    "    #torch.manual_seed(0)\n",
    "    n_total_steps = len(trainloader)\n",
    "    num_epochs=20\n",
    "    \n",
    "    for epoch in range(num_epochs):\n",
    "        for i,(x,y) in enumerate(trainloader):\n",
    "            net.zero_grad()\n",
    "            \n",
    "            # Forward pass    \n",
    "            output = net(x)\n",
    "            loss = criterion(output, y)\n",
    "        \n",
    "        \n",
    "            # Backward and optimize\n",
    "            optimizer.zero_grad()\n",
    "            loss.backward()\n",
    "            optimizer.step()\n",
    "            \n",
    "            \n",
    "            if (i+1) % 120 == 0:\n",
    "                print (f'Epoch [{epoch+1}/{num_epochs}],Step:[{i+1}/{n_total_steps}], Loss: {loss.item():.5f}')\n",
    "                \n",
    "    acc=accuracy(net,valloader)\n",
    "    return acc\n",
    "            \n",
    " #Calculate Accuracy:      \n",
    "def accuracy(net,valloader):\n",
    "    net.eval()\n",
    "    with torch.no_grad():\n",
    "        n_correct=0\n",
    "        n_samples=0\n",
    "        for x,y in valloader:\n",
    "            output=net(x)\n",
    "            _,predicted=torch.max(output.data,1)\n",
    "            n_samples+=y.size(0)\n",
    "            n_correct+=(predicted==y).sum().item()\n",
    "            \n",
    "        acc=100.0* n_correct/n_samples\n",
    "        print(f'Accuracy of the network for val data: {acc} %')\n",
    "        return acc"
   ]
  },
  {
   "cell_type": "code",
   "execution_count": 11,
   "metadata": {},
   "outputs": [],
   "source": [
    "def accuracy_test(net,testloader):\n",
    "    with torch.no_grad():\n",
    "        net.eval()\n",
    "        n_correct = 0\n",
    "        n_samples = 0\n",
    "        for z, y in testloader:\n",
    "            outputs = net(z)\n",
    "            # max returns (value ,index)\n",
    "            _, predicted = torch.max(outputs.data, 1)\n",
    "            n_samples += y.size(0)\n",
    "            n_correct += (predicted == y).sum().item()\n",
    "            \n",
    "        acc = 100.0 * n_correct / n_samples\n",
    "        print(f'Accuracy of the network for test data: {acc} %')"
   ]
  },
  {
   "cell_type": "code",
   "execution_count": null,
   "metadata": {},
   "outputs": [],
   "source": [
    "n_hidden=(i for i in range(1,11))\n",
    "storage=dict()\n",
    "\n",
    "for i in n_hidden:\n",
    "    net=One_hidden(i)\n",
    "    storage[i]=train_with_steps(net,trainloader)\n",
    "    \n",
    "print(storage)"
   ]
  },
  {
   "cell_type": "code",
   "execution_count": null,
   "metadata": {
    "scrolled": true
   },
   "outputs": [],
   "source": [
    "net_best=One_hidden(10)\n",
    "train_with_steps(net_best,trainloader)"
   ]
  },
  {
   "cell_type": "code",
   "execution_count": null,
   "metadata": {},
   "outputs": [],
   "source": [
    "accuracy_test(net_best,testloader)"
   ]
  },
  {
   "cell_type": "markdown",
   "metadata": {},
   "source": [
    "## Training the model through average loss per epoch:"
   ]
  },
  {
   "cell_type": "code",
   "execution_count": 12,
   "metadata": {},
   "outputs": [],
   "source": [
    "def model_train(net,trainloader):\n",
    "    criterion = nn.CrossEntropyLoss()\n",
    "    optimizer = torch.optim.Adam(net.parameters(), lr=0.001)\n",
    "    # number of epochs to train the model\n",
    "    n_epochs = 30  # suggest training between 20-50 epochs\n",
    "    loss_values=[]\n",
    "\n",
    "    for epoch in range(n_epochs):\n",
    "    # monitor training loss\n",
    "        train_loss = 0.0\n",
    "    \n",
    "    ###################\n",
    "    # train the model #\n",
    "    ###################\n",
    "        for data, target in trainloader:\n",
    "        # clear the gradients of all optimized variables\n",
    "            optimizer.zero_grad()\n",
    "        # forward pass: compute predicted outputs by passing inputs to the model\n",
    "            output = net(data)\n",
    "        # calculate the loss\n",
    "            loss = criterion(output, target)\n",
    "        # backward pass: compute gradient of the loss with respect to model parameters\n",
    "            loss.backward()\n",
    "        # perform a single optimization step (parameter update)\n",
    "            optimizer.step()\n",
    "        # update running training loss\n",
    "            train_loss += loss.item()*data.size(0)\n",
    "        \n",
    "    # print training statistics \n",
    "    # calculate average loss over an epoch\n",
    "        train_loss = train_loss/len(trainloader.dataset)\n",
    "        loss_values.append(train_loss)\n",
    "\n",
    "        print('Epoch: {} \\tTraining Loss: {:.6f}'.format(\n",
    "            epoch+1, \n",
    "            train_loss\n",
    "            ))\n",
    "    plt.plot(loss_values)\n",
    "    acc=accuracy(net,valloader)\n",
    "    return acc"
   ]
  },
  {
   "cell_type": "code",
   "execution_count": null,
   "metadata": {
    "scrolled": true
   },
   "outputs": [],
   "source": [
    "train_new(net_best,trainloader)"
   ]
  },
  {
   "cell_type": "code",
   "execution_count": 13,
   "metadata": {
    "scrolled": false
   },
   "outputs": [
    {
     "name": "stdout",
     "output_type": "stream",
     "text": [
      "Epoch: 1 \tTraining Loss: 0.623236\n",
      "Epoch: 2 \tTraining Loss: 0.477603\n",
      "Epoch: 3 \tTraining Loss: 0.341858\n",
      "Epoch: 4 \tTraining Loss: 0.270067\n",
      "Epoch: 5 \tTraining Loss: 0.225029\n",
      "Epoch: 6 \tTraining Loss: 0.194247\n",
      "Epoch: 7 \tTraining Loss: 0.171735\n",
      "Epoch: 8 \tTraining Loss: 0.155820\n",
      "Epoch: 9 \tTraining Loss: 0.143787\n",
      "Epoch: 10 \tTraining Loss: 0.134604\n",
      "Epoch: 11 \tTraining Loss: 0.127744\n",
      "Epoch: 12 \tTraining Loss: 0.122063\n",
      "Epoch: 13 \tTraining Loss: 0.117467\n",
      "Epoch: 14 \tTraining Loss: 0.114159\n",
      "Epoch: 15 \tTraining Loss: 0.110939\n",
      "Epoch: 16 \tTraining Loss: 0.108000\n",
      "Epoch: 17 \tTraining Loss: 0.105895\n",
      "Epoch: 18 \tTraining Loss: 0.104250\n",
      "Epoch: 19 \tTraining Loss: 0.102513\n",
      "Epoch: 20 \tTraining Loss: 0.100818\n",
      "Epoch: 21 \tTraining Loss: 0.099433\n",
      "Epoch: 22 \tTraining Loss: 0.098131\n",
      "Epoch: 23 \tTraining Loss: 0.097880\n",
      "Epoch: 24 \tTraining Loss: 0.096580\n",
      "Epoch: 25 \tTraining Loss: 0.095294\n",
      "Epoch: 26 \tTraining Loss: 0.094767\n",
      "Epoch: 27 \tTraining Loss: 0.094170\n",
      "Epoch: 28 \tTraining Loss: 0.093236\n",
      "Epoch: 29 \tTraining Loss: 0.092727\n",
      "Epoch: 30 \tTraining Loss: 0.091744\n",
      "Accuracy of the network for val data: 96.36363636363636 %\n",
      "Epoch: 1 \tTraining Loss: 0.663886\n",
      "Epoch: 2 \tTraining Loss: 0.654162\n",
      "Epoch: 3 \tTraining Loss: 0.650729\n",
      "Epoch: 4 \tTraining Loss: 0.563592\n",
      "Epoch: 5 \tTraining Loss: 0.374702\n",
      "Epoch: 6 \tTraining Loss: 0.279676\n",
      "Epoch: 7 \tTraining Loss: 0.229472\n",
      "Epoch: 8 \tTraining Loss: 0.195228\n",
      "Epoch: 9 \tTraining Loss: 0.171452\n",
      "Epoch: 10 \tTraining Loss: 0.153873\n",
      "Epoch: 11 \tTraining Loss: 0.140791\n",
      "Epoch: 12 \tTraining Loss: 0.131766\n",
      "Epoch: 13 \tTraining Loss: 0.123750\n",
      "Epoch: 14 \tTraining Loss: 0.118197\n",
      "Epoch: 15 \tTraining Loss: 0.112886\n",
      "Epoch: 16 \tTraining Loss: 0.109360\n",
      "Epoch: 17 \tTraining Loss: 0.106569\n",
      "Epoch: 18 \tTraining Loss: 0.104314\n",
      "Epoch: 19 \tTraining Loss: 0.101669\n",
      "Epoch: 20 \tTraining Loss: 0.100412\n",
      "Epoch: 21 \tTraining Loss: 0.098862\n",
      "Epoch: 22 \tTraining Loss: 0.097414\n",
      "Epoch: 23 \tTraining Loss: 0.096386\n",
      "Epoch: 24 \tTraining Loss: 0.095695\n",
      "Epoch: 25 \tTraining Loss: 0.094176\n",
      "Epoch: 26 \tTraining Loss: 0.093458\n",
      "Epoch: 27 \tTraining Loss: 0.092421\n",
      "Epoch: 28 \tTraining Loss: 0.092273\n",
      "Epoch: 29 \tTraining Loss: 0.091226\n",
      "Epoch: 30 \tTraining Loss: 0.090627\n",
      "Accuracy of the network for val data: 96.36363636363636 %\n",
      "Epoch: 1 \tTraining Loss: 0.523075\n",
      "Epoch: 2 \tTraining Loss: 0.247772\n",
      "Epoch: 3 \tTraining Loss: 0.143815\n",
      "Epoch: 4 \tTraining Loss: 0.112436\n",
      "Epoch: 5 \tTraining Loss: 0.101239\n",
      "Epoch: 6 \tTraining Loss: 0.095580\n",
      "Epoch: 7 \tTraining Loss: 0.090822\n",
      "Epoch: 8 \tTraining Loss: 0.089247\n",
      "Epoch: 9 \tTraining Loss: 0.085670\n",
      "Epoch: 10 \tTraining Loss: 0.083841\n",
      "Epoch: 11 \tTraining Loss: 0.082265\n",
      "Epoch: 12 \tTraining Loss: 0.080553\n",
      "Epoch: 13 \tTraining Loss: 0.078812\n",
      "Epoch: 14 \tTraining Loss: 0.077933\n",
      "Epoch: 15 \tTraining Loss: 0.076290\n",
      "Epoch: 16 \tTraining Loss: 0.075903\n",
      "Epoch: 17 \tTraining Loss: 0.074787\n",
      "Epoch: 18 \tTraining Loss: 0.073750\n",
      "Epoch: 19 \tTraining Loss: 0.072425\n",
      "Epoch: 20 \tTraining Loss: 0.070850\n",
      "Epoch: 21 \tTraining Loss: 0.070970\n",
      "Epoch: 22 \tTraining Loss: 0.070179\n",
      "Epoch: 23 \tTraining Loss: 0.069036\n",
      "Epoch: 24 \tTraining Loss: 0.068576\n",
      "Epoch: 25 \tTraining Loss: 0.067885\n",
      "Epoch: 26 \tTraining Loss: 0.067002\n",
      "Epoch: 27 \tTraining Loss: 0.066211\n",
      "Epoch: 28 \tTraining Loss: 0.065528\n",
      "Epoch: 29 \tTraining Loss: 0.064236\n",
      "Epoch: 30 \tTraining Loss: 0.063792\n",
      "Accuracy of the network for val data: 94.54545454545455 %\n",
      "Epoch: 1 \tTraining Loss: 0.444774\n",
      "Epoch: 2 \tTraining Loss: 0.196763\n",
      "Epoch: 3 \tTraining Loss: 0.120406\n",
      "Epoch: 4 \tTraining Loss: 0.100132\n",
      "Epoch: 5 \tTraining Loss: 0.092150\n",
      "Epoch: 6 \tTraining Loss: 0.087938\n",
      "Epoch: 7 \tTraining Loss: 0.085159\n",
      "Epoch: 8 \tTraining Loss: 0.082873\n",
      "Epoch: 9 \tTraining Loss: 0.082069\n",
      "Epoch: 10 \tTraining Loss: 0.080490\n",
      "Epoch: 11 \tTraining Loss: 0.078843\n",
      "Epoch: 12 \tTraining Loss: 0.078639\n",
      "Epoch: 13 \tTraining Loss: 0.077823\n",
      "Epoch: 14 \tTraining Loss: 0.076530\n",
      "Epoch: 15 \tTraining Loss: 0.077404\n",
      "Epoch: 16 \tTraining Loss: 0.076590\n",
      "Epoch: 17 \tTraining Loss: 0.075037\n",
      "Epoch: 18 \tTraining Loss: 0.074738\n",
      "Epoch: 19 \tTraining Loss: 0.074280\n",
      "Epoch: 20 \tTraining Loss: 0.073852\n",
      "Epoch: 21 \tTraining Loss: 0.072734\n",
      "Epoch: 22 \tTraining Loss: 0.071995\n",
      "Epoch: 23 \tTraining Loss: 0.072089\n",
      "Epoch: 24 \tTraining Loss: 0.071119\n",
      "Epoch: 25 \tTraining Loss: 0.071020\n",
      "Epoch: 26 \tTraining Loss: 0.070302\n",
      "Epoch: 27 \tTraining Loss: 0.069977\n",
      "Epoch: 28 \tTraining Loss: 0.069234\n",
      "Epoch: 29 \tTraining Loss: 0.069298\n",
      "Epoch: 30 \tTraining Loss: 0.068928\n",
      "Accuracy of the network for val data: 95.45454545454545 %\n",
      "Epoch: 1 \tTraining Loss: 0.319934\n",
      "Epoch: 2 \tTraining Loss: 0.146108\n",
      "Epoch: 3 \tTraining Loss: 0.110258\n",
      "Epoch: 4 \tTraining Loss: 0.098998\n",
      "Epoch: 5 \tTraining Loss: 0.094945\n",
      "Epoch: 6 \tTraining Loss: 0.091639\n",
      "Epoch: 7 \tTraining Loss: 0.088968\n",
      "Epoch: 8 \tTraining Loss: 0.088071\n",
      "Epoch: 9 \tTraining Loss: 0.086304\n",
      "Epoch: 10 \tTraining Loss: 0.085532\n",
      "Epoch: 11 \tTraining Loss: 0.083148\n",
      "Epoch: 12 \tTraining Loss: 0.082858\n",
      "Epoch: 13 \tTraining Loss: 0.081502\n",
      "Epoch: 14 \tTraining Loss: 0.080607\n",
      "Epoch: 15 \tTraining Loss: 0.080818\n",
      "Epoch: 16 \tTraining Loss: 0.079671\n",
      "Epoch: 17 \tTraining Loss: 0.077888\n",
      "Epoch: 18 \tTraining Loss: 0.077897\n",
      "Epoch: 19 \tTraining Loss: 0.076788\n",
      "Epoch: 20 \tTraining Loss: 0.076733\n",
      "Epoch: 21 \tTraining Loss: 0.077237\n",
      "Epoch: 22 \tTraining Loss: 0.075705\n",
      "Epoch: 23 \tTraining Loss: 0.075145\n",
      "Epoch: 24 \tTraining Loss: 0.075134\n",
      "Epoch: 25 \tTraining Loss: 0.073836\n",
      "Epoch: 26 \tTraining Loss: 0.073615\n",
      "Epoch: 27 \tTraining Loss: 0.072509\n",
      "Epoch: 28 \tTraining Loss: 0.072566\n",
      "Epoch: 29 \tTraining Loss: 0.072826\n",
      "Epoch: 30 \tTraining Loss: 0.071685\n",
      "Accuracy of the network for val data: 95.45454545454545 %\n",
      "Epoch: 1 \tTraining Loss: 0.377324\n",
      "Epoch: 2 \tTraining Loss: 0.146708\n",
      "Epoch: 3 \tTraining Loss: 0.103500\n",
      "Epoch: 4 \tTraining Loss: 0.094543\n",
      "Epoch: 5 \tTraining Loss: 0.090164\n",
      "Epoch: 6 \tTraining Loss: 0.087152\n",
      "Epoch: 7 \tTraining Loss: 0.085722\n",
      "Epoch: 8 \tTraining Loss: 0.083488\n",
      "Epoch: 9 \tTraining Loss: 0.083796\n",
      "Epoch: 10 \tTraining Loss: 0.083245\n",
      "Epoch: 11 \tTraining Loss: 0.082672\n",
      "Epoch: 12 \tTraining Loss: 0.081112\n",
      "Epoch: 13 \tTraining Loss: 0.080622\n",
      "Epoch: 14 \tTraining Loss: 0.078934\n",
      "Epoch: 15 \tTraining Loss: 0.078463\n",
      "Epoch: 16 \tTraining Loss: 0.079190\n",
      "Epoch: 17 \tTraining Loss: 0.077993\n",
      "Epoch: 18 \tTraining Loss: 0.078446\n",
      "Epoch: 19 \tTraining Loss: 0.077785\n",
      "Epoch: 20 \tTraining Loss: 0.077009\n",
      "Epoch: 21 \tTraining Loss: 0.077370\n",
      "Epoch: 22 \tTraining Loss: 0.076823\n",
      "Epoch: 23 \tTraining Loss: 0.077382\n",
      "Epoch: 24 \tTraining Loss: 0.075199\n",
      "Epoch: 25 \tTraining Loss: 0.076480\n",
      "Epoch: 26 \tTraining Loss: 0.075807\n",
      "Epoch: 27 \tTraining Loss: 0.075686\n",
      "Epoch: 28 \tTraining Loss: 0.075897\n",
      "Epoch: 29 \tTraining Loss: 0.074756\n",
      "Epoch: 30 \tTraining Loss: 0.075255\n",
      "Accuracy of the network for val data: 96.36363636363636 %\n",
      "Epoch: 1 \tTraining Loss: 0.468890\n",
      "Epoch: 2 \tTraining Loss: 0.132615\n",
      "Epoch: 3 \tTraining Loss: 0.102752\n",
      "Epoch: 4 \tTraining Loss: 0.093902\n",
      "Epoch: 5 \tTraining Loss: 0.089456\n",
      "Epoch: 6 \tTraining Loss: 0.085638\n",
      "Epoch: 7 \tTraining Loss: 0.085616\n",
      "Epoch: 8 \tTraining Loss: 0.084183\n",
      "Epoch: 9 \tTraining Loss: 0.083011\n",
      "Epoch: 10 \tTraining Loss: 0.082816\n",
      "Epoch: 11 \tTraining Loss: 0.080831\n",
      "Epoch: 12 \tTraining Loss: 0.079783\n",
      "Epoch: 13 \tTraining Loss: 0.079412\n",
      "Epoch: 14 \tTraining Loss: 0.078955\n",
      "Epoch: 15 \tTraining Loss: 0.078160\n",
      "Epoch: 16 \tTraining Loss: 0.078500\n",
      "Epoch: 17 \tTraining Loss: 0.078347\n",
      "Epoch: 18 \tTraining Loss: 0.076670\n",
      "Epoch: 19 \tTraining Loss: 0.076292\n",
      "Epoch: 20 \tTraining Loss: 0.075588\n",
      "Epoch: 21 \tTraining Loss: 0.075504\n",
      "Epoch: 22 \tTraining Loss: 0.074943\n",
      "Epoch: 23 \tTraining Loss: 0.073800\n",
      "Epoch: 24 \tTraining Loss: 0.074088\n",
      "Epoch: 25 \tTraining Loss: 0.073715\n",
      "Epoch: 26 \tTraining Loss: 0.071609\n",
      "Epoch: 27 \tTraining Loss: 0.073636\n",
      "Epoch: 28 \tTraining Loss: 0.073097\n",
      "Epoch: 29 \tTraining Loss: 0.071665\n",
      "Epoch: 30 \tTraining Loss: 0.070918\n",
      "Accuracy of the network for val data: 97.27272727272727 %\n",
      "Epoch: 1 \tTraining Loss: 0.396834\n",
      "Epoch: 2 \tTraining Loss: 0.241723\n",
      "Epoch: 3 \tTraining Loss: 0.191008\n",
      "Epoch: 4 \tTraining Loss: 0.157475\n",
      "Epoch: 5 \tTraining Loss: 0.133828\n",
      "Epoch: 6 \tTraining Loss: 0.095823\n",
      "Epoch: 7 \tTraining Loss: 0.081904\n",
      "Epoch: 8 \tTraining Loss: 0.078900\n",
      "Epoch: 9 \tTraining Loss: 0.077019\n",
      "Epoch: 10 \tTraining Loss: 0.075777\n",
      "Epoch: 11 \tTraining Loss: 0.075077\n",
      "Epoch: 12 \tTraining Loss: 0.074645\n",
      "Epoch: 13 \tTraining Loss: 0.073875\n",
      "Epoch: 14 \tTraining Loss: 0.072302\n",
      "Epoch: 15 \tTraining Loss: 0.072583\n"
     ]
    },
    {
     "name": "stdout",
     "output_type": "stream",
     "text": [
      "Epoch: 16 \tTraining Loss: 0.072149\n",
      "Epoch: 17 \tTraining Loss: 0.071793\n",
      "Epoch: 18 \tTraining Loss: 0.071110\n",
      "Epoch: 19 \tTraining Loss: 0.071151\n",
      "Epoch: 20 \tTraining Loss: 0.068880\n",
      "Epoch: 21 \tTraining Loss: 0.070513\n",
      "Epoch: 22 \tTraining Loss: 0.070423\n",
      "Epoch: 23 \tTraining Loss: 0.069419\n",
      "Epoch: 24 \tTraining Loss: 0.069324\n",
      "Epoch: 25 \tTraining Loss: 0.068748\n",
      "Epoch: 26 \tTraining Loss: 0.068804\n",
      "Epoch: 27 \tTraining Loss: 0.068525\n",
      "Epoch: 28 \tTraining Loss: 0.067747\n",
      "Epoch: 29 \tTraining Loss: 0.067497\n",
      "Epoch: 30 \tTraining Loss: 0.066912\n",
      "Accuracy of the network for val data: 95.45454545454545 %\n",
      "Epoch: 1 \tTraining Loss: 0.452687\n",
      "Epoch: 2 \tTraining Loss: 0.147393\n",
      "Epoch: 3 \tTraining Loss: 0.106089\n",
      "Epoch: 4 \tTraining Loss: 0.097612\n",
      "Epoch: 5 \tTraining Loss: 0.092790\n",
      "Epoch: 6 \tTraining Loss: 0.089834\n",
      "Epoch: 7 \tTraining Loss: 0.087871\n",
      "Epoch: 8 \tTraining Loss: 0.086253\n",
      "Epoch: 9 \tTraining Loss: 0.082982\n",
      "Epoch: 10 \tTraining Loss: 0.083011\n",
      "Epoch: 11 \tTraining Loss: 0.080441\n",
      "Epoch: 12 \tTraining Loss: 0.078929\n",
      "Epoch: 13 \tTraining Loss: 0.077118\n",
      "Epoch: 14 \tTraining Loss: 0.073884\n",
      "Epoch: 15 \tTraining Loss: 0.073870\n",
      "Epoch: 16 \tTraining Loss: 0.072645\n",
      "Epoch: 17 \tTraining Loss: 0.070586\n",
      "Epoch: 18 \tTraining Loss: 0.069915\n",
      "Epoch: 19 \tTraining Loss: 0.068840\n",
      "Epoch: 20 \tTraining Loss: 0.067615\n",
      "Epoch: 21 \tTraining Loss: 0.066276\n",
      "Epoch: 22 \tTraining Loss: 0.063520\n",
      "Epoch: 23 \tTraining Loss: 0.063416\n",
      "Epoch: 24 \tTraining Loss: 0.061934\n",
      "Epoch: 25 \tTraining Loss: 0.060463\n",
      "Epoch: 26 \tTraining Loss: 0.060351\n",
      "Epoch: 27 \tTraining Loss: 0.057485\n",
      "Epoch: 28 \tTraining Loss: 0.058427\n",
      "Epoch: 29 \tTraining Loss: 0.057224\n",
      "Epoch: 30 \tTraining Loss: 0.056209\n",
      "Accuracy of the network for val data: 94.54545454545455 %\n",
      "Epoch: 1 \tTraining Loss: 0.391711\n",
      "Epoch: 2 \tTraining Loss: 0.140018\n",
      "Epoch: 3 \tTraining Loss: 0.105497\n",
      "Epoch: 4 \tTraining Loss: 0.095082\n",
      "Epoch: 5 \tTraining Loss: 0.091372\n",
      "Epoch: 6 \tTraining Loss: 0.088570\n",
      "Epoch: 7 \tTraining Loss: 0.087796\n",
      "Epoch: 8 \tTraining Loss: 0.084827\n",
      "Epoch: 9 \tTraining Loss: 0.083042\n",
      "Epoch: 10 \tTraining Loss: 0.082991\n",
      "Epoch: 11 \tTraining Loss: 0.081548\n",
      "Epoch: 12 \tTraining Loss: 0.081133\n",
      "Epoch: 13 \tTraining Loss: 0.079192\n",
      "Epoch: 14 \tTraining Loss: 0.078262\n",
      "Epoch: 15 \tTraining Loss: 0.077516\n",
      "Epoch: 16 \tTraining Loss: 0.077883\n",
      "Epoch: 17 \tTraining Loss: 0.077135\n",
      "Epoch: 18 \tTraining Loss: 0.075635\n",
      "Epoch: 19 \tTraining Loss: 0.074510\n",
      "Epoch: 20 \tTraining Loss: 0.073861\n",
      "Epoch: 21 \tTraining Loss: 0.071898\n",
      "Epoch: 22 \tTraining Loss: 0.072831\n",
      "Epoch: 23 \tTraining Loss: 0.070970\n",
      "Epoch: 24 \tTraining Loss: 0.070008\n",
      "Epoch: 25 \tTraining Loss: 0.069049\n",
      "Epoch: 26 \tTraining Loss: 0.067543\n",
      "Epoch: 27 \tTraining Loss: 0.067742\n",
      "Epoch: 28 \tTraining Loss: 0.066902\n",
      "Epoch: 29 \tTraining Loss: 0.065407\n",
      "Epoch: 30 \tTraining Loss: 0.064440\n",
      "Accuracy of the network for val data: 95.45454545454545 %\n",
      "{1: 96.36363636363636, 2: 96.36363636363636, 3: 94.54545454545455, 4: 95.45454545454545, 5: 95.45454545454545, 6: 96.36363636363636, 7: 97.27272727272727, 8: 95.45454545454545, 9: 94.54545454545455, 10: 95.45454545454545}\n"
     ]
    },
    {
     "data": {
      "image/png": "[encoded data removed]",
      "text/plain": [
       "<Figure size 432x288 with 1 Axes>"
      ]
     },
     "metadata": {
      "needs_background": "light"
     },
     "output_type": "display_data"
    }
   ],
   "source": [
    "# Iterating to find the best hidden nodes and checking the accuracy of it:\n",
    "n_hidden=(i for i in range(1,11))\n",
    "storage=dict()\n",
    "\n",
    "for i in n_hidden:\n",
    "    net=One_hidden(i)\n",
    "    storage[i]=model_train(net,trainloader)\n",
    "    \n",
    "print(storage)"
   ]
  },
  {
   "cell_type": "code",
   "execution_count": 14,
   "metadata": {
    "scrolled": true
   },
   "outputs": [
    {
     "name": "stdout",
     "output_type": "stream",
     "text": [
      "Epoch: 1 \tTraining Loss: 0.371722\n",
      "Epoch: 2 \tTraining Loss: 0.128347\n",
      "Epoch: 3 \tTraining Loss: 0.099225\n",
      "Epoch: 4 \tTraining Loss: 0.092422\n",
      "Epoch: 5 \tTraining Loss: 0.089575\n",
      "Epoch: 6 \tTraining Loss: 0.087358\n",
      "Epoch: 7 \tTraining Loss: 0.084504\n",
      "Epoch: 8 \tTraining Loss: 0.083678\n",
      "Epoch: 9 \tTraining Loss: 0.085245\n",
      "Epoch: 10 \tTraining Loss: 0.084117\n",
      "Epoch: 11 \tTraining Loss: 0.083290\n",
      "Epoch: 12 \tTraining Loss: 0.082406\n",
      "Epoch: 13 \tTraining Loss: 0.083098\n",
      "Epoch: 14 \tTraining Loss: 0.081143\n",
      "Epoch: 15 \tTraining Loss: 0.081918\n",
      "Epoch: 16 \tTraining Loss: 0.081759\n",
      "Epoch: 17 \tTraining Loss: 0.081066\n",
      "Epoch: 18 \tTraining Loss: 0.081551\n",
      "Epoch: 19 \tTraining Loss: 0.080127\n",
      "Epoch: 20 \tTraining Loss: 0.080690\n",
      "Epoch: 21 \tTraining Loss: 0.080616\n",
      "Epoch: 22 \tTraining Loss: 0.080384\n",
      "Epoch: 23 \tTraining Loss: 0.080060\n",
      "Epoch: 24 \tTraining Loss: 0.080088\n",
      "Epoch: 25 \tTraining Loss: 0.080826\n",
      "Epoch: 26 \tTraining Loss: 0.080158\n",
      "Epoch: 27 \tTraining Loss: 0.078247\n",
      "Epoch: 28 \tTraining Loss: 0.080683\n",
      "Epoch: 29 \tTraining Loss: 0.079796\n",
      "Epoch: 30 \tTraining Loss: 0.080687\n",
      "Accuracy of the network for val data: 96.36363636363636 %\n",
      "Training time: 8.361734867095947s\n"
     ]
    },
    {
     "data": {
      "image/png": "[encoded data removed]",
      "text/plain": [
       "<Figure size 432x288 with 1 Axes>"
      ]
     },
     "metadata": {
      "needs_background": "light"
     },
     "output_type": "display_data"
    }
   ],
   "source": [
    "# Best hidden node is used to define and train the model\n",
    "start_time_best=time.time()\n",
    "model_best=One_hidden(7)\n",
    "model_train(model_best,mainloader)\n",
    "end_time_best=time.time()\n",
    "print(f\"Training time: {end_time_best-start_time_best}s\") # Total training time"
   ]
  },
  {
   "cell_type": "code",
   "execution_count": 15,
   "metadata": {},
   "outputs": [
    {
     "name": "stdout",
     "output_type": "stream",
     "text": [
      "Accuracy of the network for test data: 96.32352941176471 %\n"
     ]
    }
   ],
   "source": [
    "accuracy_test(model_best,testloader) # Final accuracy"
   ]
  },
  {
   "cell_type": "code",
   "execution_count": null,
   "metadata": {},
   "outputs": [],
   "source": []
  },
  {
   "cell_type": "code",
   "execution_count": null,
   "metadata": {},
   "outputs": [],
   "source": []
  }
 ],
 "metadata": {
  "kernelspec": {
   "display_name": "pytorch",
   "language": "python",
   "name": "pytorch"
  },
  "language_info": {
   "codemirror_mode": {
    "name": "ipython",
    "version": 3
   },
   "file_extension": ".py",
   "mimetype": "text/x-python",
   "name": "python",
   "nbconvert_exporter": "python",
   "pygments_lexer": "ipython3",
   "version": "3.7.7"
  }
 },
 "nbformat": 4,
 "nbformat_minor": 2
}

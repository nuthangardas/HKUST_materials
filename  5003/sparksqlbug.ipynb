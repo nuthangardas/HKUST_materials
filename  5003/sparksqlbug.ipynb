{
 "cells": [
  {
   "cell_type": "code",
   "execution_count": 2,
   "metadata": {},
   "outputs": [
    {
     "name": "stdout",
     "output_type": "stream",
     "text": [
      "+---+-----+\n",
      "|src|count|\n",
      "+---+-----+\n",
      "|  3|    1|\n",
      "|  1|    3|\n",
      "|  4|    1|\n",
      "|  2|    1|\n",
      "+---+-----+\n",
      "\n",
      "+---+---+-----+\n",
      "|src|dst|count|\n",
      "+---+---+-----+\n",
      "|  3|  1|    1|\n",
      "|  1|  4|    3|\n",
      "|  1|  3|    3|\n",
      "|  1|  2|    3|\n",
      "|  4|  1|    1|\n",
      "|  2|  1|    1|\n",
      "+---+---+-----+\n",
      "\n",
      "+---+-----+\n",
      "|dst|count|\n",
      "+---+-----+\n",
      "|  1|    1|\n",
      "|  4|    1|\n",
      "|  3|    1|\n",
      "|  2|    1|\n",
      "|  1|    1|\n",
      "|  1|    1|\n",
      "+---+-----+\n",
      "\n"
     ]
    }
   ],
   "source": [
    "from pyspark.sql.functions import *\n",
    "\n",
    "e = spark.read.csv(\"../data/graph.csv\", header=True)\n",
    "r = sc.parallelize([(1,),(2,),(3,),(4,)]).toDF(['src'])\n",
    "r1 = e.join(r, 'src').groupBy('dst').count().withColumnRenamed('dst','src')\n",
    "r1.show()\n",
    "jr = e.join(r1, 'src')\n",
    "jr.show()\n",
    "r2 = jr.groupBy('dst').count()\n",
    "#r2 = jr.withColumnRenamed('dst','dst1').groupBy('dst1').count()\n",
    "r2.show()\n"
   ]
  },
  {
   "cell_type": "code",
   "execution_count": null,
   "metadata": {
    "collapsed": true
   },
   "outputs": [],
   "source": []
  }
 ],
 "metadata": {
  "kernelspec": {
   "display_name": "Python 2",
   "language": "python",
   "name": "python2"
  },
  "language_info": {
   "codemirror_mode": {
    "name": "ipython",
    "version": 2
   },
   "file_extension": ".py",
   "mimetype": "text/x-python",
   "name": "python",
   "nbconvert_exporter": "python",
   "pygments_lexer": "ipython2",
   "version": "2.7.16"
  }
 },
 "nbformat": 4,
 "nbformat_minor": 2
}
